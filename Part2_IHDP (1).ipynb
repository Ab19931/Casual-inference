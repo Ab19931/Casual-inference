{
  "nbformat": 4,
  "nbformat_minor": 0,
  "metadata": {
    "colab": {
      "name": "Part2_IHDP.ipynb",
      "provenance": [],
      "collapsed_sections": []
    },
    "kernelspec": {
      "name": "python3",
      "display_name": "Python 3"
    },
    "language_info": {
      "name": "python"
    }
  },
  "cells": [
    {
      "cell_type": "code",
      "source": [
        "import numpy as np\n",
        "import pandas as pd\n",
        "import matplotlib.pyplot as plt\n",
        "import seaborn as sns\n",
        "\n",
        "import warnings\n",
        "warnings.filterwarnings('ignore')"
      ],
      "metadata": {
        "id": "lWt8tz5qFWcn"
      },
      "execution_count": null,
      "outputs": []
    },
    {
      "cell_type": "code",
      "source": [
        "data=pd.read_csv('ihdp.csv')"
      ],
      "metadata": {
        "id": "IMRlywnUFdgN"
      },
      "execution_count": null,
      "outputs": []
    },
    {
      "cell_type": "code",
      "source": [
        "data.head()"
      ],
      "metadata": {
        "colab": {
          "base_uri": "https://localhost:8080/",
          "height": 299
        },
        "id": "2yq8RyIPFih5",
        "outputId": "e9f0bd5a-e624-4c38-f5d1-f5595084ad27"
      },
      "execution_count": null,
      "outputs": [
        {
          "output_type": "execute_result",
          "data": {
            "text/plain": [
              "         x1        x2        x3        x4        x5        x6   x7   x8   x9  \\\n",
              "0  1.397395  0.996346 -1.105624 -0.879606  0.308569 -1.023402  1.0  0.0  0.0   \n",
              "1  0.269033  0.196818  0.383828  0.161703 -0.629189  1.460832  1.0  0.0  1.0   \n",
              "2  1.051537  1.795874 -1.105624  0.161703 -0.629189  0.963985  1.0  0.0  1.0   \n",
              "3  0.662446  0.196818 -0.733261 -0.879606  0.371086 -0.692171  1.0  0.0  0.0   \n",
              "4  0.856992  1.795874  0.011465 -0.879606  0.558638  0.301522  0.0  1.0  1.0   \n",
              "\n",
              "   x10  ...  x20  x21  x22  x23  x24  x25    t        yf       ycf       ite  \n",
              "0  0.0  ...  0.0  0.0  0.0  0.0  0.0  1.0  1.0  4.771232 -0.298509  4.657928  \n",
              "1  0.0  ...  0.0  0.0  0.0  0.0  0.0  0.0  0.0  2.956273  5.783770  3.428604  \n",
              "2  1.0  ...  0.0  0.0  0.0  0.0  0.0  1.0  0.0  4.164164  7.055789  3.658195  \n",
              "3  0.0  ...  1.0  0.0  0.0  0.0  0.0  0.0  1.0  6.172307  1.379697  4.585505  \n",
              "4  0.0  ...  0.0  0.0  0.0  0.0  0.0  0.0  1.0  7.834469  2.747986  4.265591  \n",
              "\n",
              "[5 rows x 29 columns]"
            ],
            "text/html": [
              "\n",
              "  <div id=\"df-1343b479-9912-4186-9462-4723c3ea033f\">\n",
              "    <div class=\"colab-df-container\">\n",
              "      <div>\n",
              "<style scoped>\n",
              "    .dataframe tbody tr th:only-of-type {\n",
              "        vertical-align: middle;\n",
              "    }\n",
              "\n",
              "    .dataframe tbody tr th {\n",
              "        vertical-align: top;\n",
              "    }\n",
              "\n",
              "    .dataframe thead th {\n",
              "        text-align: right;\n",
              "    }\n",
              "</style>\n",
              "<table border=\"1\" class=\"dataframe\">\n",
              "  <thead>\n",
              "    <tr style=\"text-align: right;\">\n",
              "      <th></th>\n",
              "      <th>x1</th>\n",
              "      <th>x2</th>\n",
              "      <th>x3</th>\n",
              "      <th>x4</th>\n",
              "      <th>x5</th>\n",
              "      <th>x6</th>\n",
              "      <th>x7</th>\n",
              "      <th>x8</th>\n",
              "      <th>x9</th>\n",
              "      <th>x10</th>\n",
              "      <th>...</th>\n",
              "      <th>x20</th>\n",
              "      <th>x21</th>\n",
              "      <th>x22</th>\n",
              "      <th>x23</th>\n",
              "      <th>x24</th>\n",
              "      <th>x25</th>\n",
              "      <th>t</th>\n",
              "      <th>yf</th>\n",
              "      <th>ycf</th>\n",
              "      <th>ite</th>\n",
              "    </tr>\n",
              "  </thead>\n",
              "  <tbody>\n",
              "    <tr>\n",
              "      <th>0</th>\n",
              "      <td>1.397395</td>\n",
              "      <td>0.996346</td>\n",
              "      <td>-1.105624</td>\n",
              "      <td>-0.879606</td>\n",
              "      <td>0.308569</td>\n",
              "      <td>-1.023402</td>\n",
              "      <td>1.0</td>\n",
              "      <td>0.0</td>\n",
              "      <td>0.0</td>\n",
              "      <td>0.0</td>\n",
              "      <td>...</td>\n",
              "      <td>0.0</td>\n",
              "      <td>0.0</td>\n",
              "      <td>0.0</td>\n",
              "      <td>0.0</td>\n",
              "      <td>0.0</td>\n",
              "      <td>1.0</td>\n",
              "      <td>1.0</td>\n",
              "      <td>4.771232</td>\n",
              "      <td>-0.298509</td>\n",
              "      <td>4.657928</td>\n",
              "    </tr>\n",
              "    <tr>\n",
              "      <th>1</th>\n",
              "      <td>0.269033</td>\n",
              "      <td>0.196818</td>\n",
              "      <td>0.383828</td>\n",
              "      <td>0.161703</td>\n",
              "      <td>-0.629189</td>\n",
              "      <td>1.460832</td>\n",
              "      <td>1.0</td>\n",
              "      <td>0.0</td>\n",
              "      <td>1.0</td>\n",
              "      <td>0.0</td>\n",
              "      <td>...</td>\n",
              "      <td>0.0</td>\n",
              "      <td>0.0</td>\n",
              "      <td>0.0</td>\n",
              "      <td>0.0</td>\n",
              "      <td>0.0</td>\n",
              "      <td>0.0</td>\n",
              "      <td>0.0</td>\n",
              "      <td>2.956273</td>\n",
              "      <td>5.783770</td>\n",
              "      <td>3.428604</td>\n",
              "    </tr>\n",
              "    <tr>\n",
              "      <th>2</th>\n",
              "      <td>1.051537</td>\n",
              "      <td>1.795874</td>\n",
              "      <td>-1.105624</td>\n",
              "      <td>0.161703</td>\n",
              "      <td>-0.629189</td>\n",
              "      <td>0.963985</td>\n",
              "      <td>1.0</td>\n",
              "      <td>0.0</td>\n",
              "      <td>1.0</td>\n",
              "      <td>1.0</td>\n",
              "      <td>...</td>\n",
              "      <td>0.0</td>\n",
              "      <td>0.0</td>\n",
              "      <td>0.0</td>\n",
              "      <td>0.0</td>\n",
              "      <td>0.0</td>\n",
              "      <td>1.0</td>\n",
              "      <td>0.0</td>\n",
              "      <td>4.164164</td>\n",
              "      <td>7.055789</td>\n",
              "      <td>3.658195</td>\n",
              "    </tr>\n",
              "    <tr>\n",
              "      <th>3</th>\n",
              "      <td>0.662446</td>\n",
              "      <td>0.196818</td>\n",
              "      <td>-0.733261</td>\n",
              "      <td>-0.879606</td>\n",
              "      <td>0.371086</td>\n",
              "      <td>-0.692171</td>\n",
              "      <td>1.0</td>\n",
              "      <td>0.0</td>\n",
              "      <td>0.0</td>\n",
              "      <td>0.0</td>\n",
              "      <td>...</td>\n",
              "      <td>1.0</td>\n",
              "      <td>0.0</td>\n",
              "      <td>0.0</td>\n",
              "      <td>0.0</td>\n",
              "      <td>0.0</td>\n",
              "      <td>0.0</td>\n",
              "      <td>1.0</td>\n",
              "      <td>6.172307</td>\n",
              "      <td>1.379697</td>\n",
              "      <td>4.585505</td>\n",
              "    </tr>\n",
              "    <tr>\n",
              "      <th>4</th>\n",
              "      <td>0.856992</td>\n",
              "      <td>1.795874</td>\n",
              "      <td>0.011465</td>\n",
              "      <td>-0.879606</td>\n",
              "      <td>0.558638</td>\n",
              "      <td>0.301522</td>\n",
              "      <td>0.0</td>\n",
              "      <td>1.0</td>\n",
              "      <td>1.0</td>\n",
              "      <td>0.0</td>\n",
              "      <td>...</td>\n",
              "      <td>0.0</td>\n",
              "      <td>0.0</td>\n",
              "      <td>0.0</td>\n",
              "      <td>0.0</td>\n",
              "      <td>0.0</td>\n",
              "      <td>0.0</td>\n",
              "      <td>1.0</td>\n",
              "      <td>7.834469</td>\n",
              "      <td>2.747986</td>\n",
              "      <td>4.265591</td>\n",
              "    </tr>\n",
              "  </tbody>\n",
              "</table>\n",
              "<p>5 rows × 29 columns</p>\n",
              "</div>\n",
              "      <button class=\"colab-df-convert\" onclick=\"convertToInteractive('df-1343b479-9912-4186-9462-4723c3ea033f')\"\n",
              "              title=\"Convert this dataframe to an interactive table.\"\n",
              "              style=\"display:none;\">\n",
              "        \n",
              "  <svg xmlns=\"http://www.w3.org/2000/svg\" height=\"24px\"viewBox=\"0 0 24 24\"\n",
              "       width=\"24px\">\n",
              "    <path d=\"M0 0h24v24H0V0z\" fill=\"none\"/>\n",
              "    <path d=\"M18.56 5.44l.94 2.06.94-2.06 2.06-.94-2.06-.94-.94-2.06-.94 2.06-2.06.94zm-11 1L8.5 8.5l.94-2.06 2.06-.94-2.06-.94L8.5 2.5l-.94 2.06-2.06.94zm10 10l.94 2.06.94-2.06 2.06-.94-2.06-.94-.94-2.06-.94 2.06-2.06.94z\"/><path d=\"M17.41 7.96l-1.37-1.37c-.4-.4-.92-.59-1.43-.59-.52 0-1.04.2-1.43.59L10.3 9.45l-7.72 7.72c-.78.78-.78 2.05 0 2.83L4 21.41c.39.39.9.59 1.41.59.51 0 1.02-.2 1.41-.59l7.78-7.78 2.81-2.81c.8-.78.8-2.07 0-2.86zM5.41 20L4 18.59l7.72-7.72 1.47 1.35L5.41 20z\"/>\n",
              "  </svg>\n",
              "      </button>\n",
              "      \n",
              "  <style>\n",
              "    .colab-df-container {\n",
              "      display:flex;\n",
              "      flex-wrap:wrap;\n",
              "      gap: 12px;\n",
              "    }\n",
              "\n",
              "    .colab-df-convert {\n",
              "      background-color: #E8F0FE;\n",
              "      border: none;\n",
              "      border-radius: 50%;\n",
              "      cursor: pointer;\n",
              "      display: none;\n",
              "      fill: #1967D2;\n",
              "      height: 32px;\n",
              "      padding: 0 0 0 0;\n",
              "      width: 32px;\n",
              "    }\n",
              "\n",
              "    .colab-df-convert:hover {\n",
              "      background-color: #E2EBFA;\n",
              "      box-shadow: 0px 1px 2px rgba(60, 64, 67, 0.3), 0px 1px 3px 1px rgba(60, 64, 67, 0.15);\n",
              "      fill: #174EA6;\n",
              "    }\n",
              "\n",
              "    [theme=dark] .colab-df-convert {\n",
              "      background-color: #3B4455;\n",
              "      fill: #D2E3FC;\n",
              "    }\n",
              "\n",
              "    [theme=dark] .colab-df-convert:hover {\n",
              "      background-color: #434B5C;\n",
              "      box-shadow: 0px 1px 3px 1px rgba(0, 0, 0, 0.15);\n",
              "      filter: drop-shadow(0px 1px 2px rgba(0, 0, 0, 0.3));\n",
              "      fill: #FFFFFF;\n",
              "    }\n",
              "  </style>\n",
              "\n",
              "      <script>\n",
              "        const buttonEl =\n",
              "          document.querySelector('#df-1343b479-9912-4186-9462-4723c3ea033f button.colab-df-convert');\n",
              "        buttonEl.style.display =\n",
              "          google.colab.kernel.accessAllowed ? 'block' : 'none';\n",
              "\n",
              "        async function convertToInteractive(key) {\n",
              "          const element = document.querySelector('#df-1343b479-9912-4186-9462-4723c3ea033f');\n",
              "          const dataTable =\n",
              "            await google.colab.kernel.invokeFunction('convertToInteractive',\n",
              "                                                     [key], {});\n",
              "          if (!dataTable) return;\n",
              "\n",
              "          const docLinkHtml = 'Like what you see? Visit the ' +\n",
              "            '<a target=\"_blank\" href=https://colab.research.google.com/notebooks/data_table.ipynb>data table notebook</a>'\n",
              "            + ' to learn more about interactive tables.';\n",
              "          element.innerHTML = '';\n",
              "          dataTable['output_type'] = 'display_data';\n",
              "          await google.colab.output.renderOutput(dataTable, element);\n",
              "          const docLink = document.createElement('div');\n",
              "          docLink.innerHTML = docLinkHtml;\n",
              "          element.appendChild(docLink);\n",
              "        }\n",
              "      </script>\n",
              "    </div>\n",
              "  </div>\n",
              "  "
            ]
          },
          "metadata": {},
          "execution_count": 3
        }
      ]
    },
    {
      "cell_type": "code",
      "source": [
        "df=data.copy()"
      ],
      "metadata": {
        "id": "TwrWZsOJk3GS"
      },
      "execution_count": null,
      "outputs": []
    },
    {
      "cell_type": "code",
      "source": [
        "data.shape"
      ],
      "metadata": {
        "colab": {
          "base_uri": "https://localhost:8080/"
        },
        "id": "9slg45r6Fk0l",
        "outputId": "dc8db65c-ac50-481f-e4cc-47b4000f8fff"
      },
      "execution_count": null,
      "outputs": [
        {
          "output_type": "execute_result",
          "data": {
            "text/plain": [
              "(747, 29)"
            ]
          },
          "metadata": {},
          "execution_count": 5
        }
      ]
    },
    {
      "cell_type": "code",
      "source": [
        "data.info()"
      ],
      "metadata": {
        "colab": {
          "base_uri": "https://localhost:8080/"
        },
        "id": "ZgZHCdQ6tmaA",
        "outputId": "7531743e-ac1b-4932-9c4b-5f1e20bf7ca3"
      },
      "execution_count": null,
      "outputs": [
        {
          "output_type": "stream",
          "name": "stdout",
          "text": [
            "<class 'pandas.core.frame.DataFrame'>\n",
            "RangeIndex: 747 entries, 0 to 746\n",
            "Data columns (total 29 columns):\n",
            " #   Column  Non-Null Count  Dtype  \n",
            "---  ------  --------------  -----  \n",
            " 0   x1      747 non-null    float64\n",
            " 1   x2      747 non-null    float64\n",
            " 2   x3      747 non-null    float64\n",
            " 3   x4      747 non-null    float64\n",
            " 4   x5      747 non-null    float64\n",
            " 5   x6      747 non-null    float64\n",
            " 6   x7      747 non-null    float64\n",
            " 7   x8      747 non-null    float64\n",
            " 8   x9      747 non-null    float64\n",
            " 9   x10     747 non-null    float64\n",
            " 10  x11     747 non-null    float64\n",
            " 11  x12     747 non-null    float64\n",
            " 12  x13     747 non-null    float64\n",
            " 13  x14     747 non-null    float64\n",
            " 14  x15     747 non-null    float64\n",
            " 15  x16     747 non-null    float64\n",
            " 16  x17     747 non-null    float64\n",
            " 17  x18     747 non-null    float64\n",
            " 18  x19     747 non-null    float64\n",
            " 19  x20     747 non-null    float64\n",
            " 20  x21     747 non-null    float64\n",
            " 21  x22     747 non-null    float64\n",
            " 22  x23     747 non-null    float64\n",
            " 23  x24     747 non-null    float64\n",
            " 24  x25     747 non-null    float64\n",
            " 25  t       747 non-null    float64\n",
            " 26  yf      747 non-null    float64\n",
            " 27  ycf     747 non-null    float64\n",
            " 28  ite     747 non-null    float64\n",
            "dtypes: float64(29)\n",
            "memory usage: 169.4 KB\n"
          ]
        }
      ]
    },
    {
      "cell_type": "code",
      "source": [
        ""
      ],
      "metadata": {
        "id": "JKOKeLkoTJ-Q"
      },
      "execution_count": null,
      "outputs": []
    },
    {
      "cell_type": "code",
      "source": [
        "features = data.loc[:, data.columns != 'yf']\n",
        "target= data['yf'] "
      ],
      "metadata": {
        "id": "PaVl-xI0TKBA"
      },
      "execution_count": null,
      "outputs": []
    },
    {
      "cell_type": "code",
      "source": [
        ""
      ],
      "metadata": {
        "id": "69i3cj3pTKDr"
      },
      "execution_count": null,
      "outputs": []
    },
    {
      "cell_type": "markdown",
      "metadata": {
        "id": "X3nCNV5ajt0k"
      },
      "source": [
        "# 3(b)"
      ]
    },
    {
      "cell_type": "code",
      "execution_count": null,
      "metadata": {
        "id": "kf4tXyy8QsF6"
      },
      "outputs": [],
      "source": [
        "#Splitting the dataset into training(70%), validation(20%) and testing(10%)\n",
        "\n",
        "from sklearn.model_selection import train_test_split\n",
        "\n",
        "X_train, X_test, y_train, y_test = train_test_split(features, target, test_size=0.1, random_state=0)\n",
        "X_train, X_val, y_train, y_val = train_test_split(X_train, y_train, test_size=0.2, random_state=0)"
      ]
    },
    {
      "cell_type": "code",
      "execution_count": null,
      "metadata": {
        "id": "5ukYapJejdVJ"
      },
      "outputs": [],
      "source": [
        "from sklearn.preprocessing import MinMaxScaler\n",
        "scaler = MinMaxScaler()\n",
        "\n",
        "X_train = scaler.fit_transform(X_train)\n",
        "X_test= scaler.transform(X_test)\n",
        "\n"
      ]
    },
    {
      "cell_type": "code",
      "source": [
        "from sklearn.ensemble import RandomForestRegressor\n",
        "reg = RandomForestRegressor(max_depth= 10,random_state=0,) \n",
        "# training the model\n",
        "reg.fit(X_train,y_train)"
      ],
      "metadata": {
        "colab": {
          "base_uri": "https://localhost:8080/"
        },
        "id": "wjdE2DMSTKGa",
        "outputId": "35a9a466-bd7c-474a-d462-59bbdae3416f"
      },
      "execution_count": null,
      "outputs": [
        {
          "output_type": "execute_result",
          "data": {
            "text/plain": [
              "RandomForestRegressor(max_depth=10, random_state=0)"
            ]
          },
          "metadata": {},
          "execution_count": 10
        }
      ]
    },
    {
      "cell_type": "markdown",
      "source": [
        "# 3(c)"
      ],
      "metadata": {
        "id": "FKuWE-pDXlH5"
      }
    },
    {
      "cell_type": "code",
      "source": [
        "from sklearn.metrics import mean_squared_error\n",
        "prediction = reg.predict(X_test)\n",
        "mse = mean_squared_error(y_test, prediction)\n",
        "rmse = mse**.5\n",
        "print(mse)\n",
        "print(rmse)"
      ],
      "metadata": {
        "colab": {
          "base_uri": "https://localhost:8080/"
        },
        "id": "bT-yLJmTW-Gb",
        "outputId": "822dacde-cd0b-4473-92fa-7bbf607c3bc6"
      },
      "execution_count": null,
      "outputs": [
        {
          "output_type": "stream",
          "name": "stdout",
          "text": [
            "0.8433565645230936\n",
            "0.918344469424787\n"
          ]
        }
      ]
    },
    {
      "cell_type": "code",
      "source": [
        "grid = { \n",
        "    'n_estimators': [200,300,400,500],\n",
        "    'max_features': ['sqrt','log2'],\n",
        "    'max_depth' : [3,4,5,6,7],\n",
        "    'random_state' : [18]\n",
        "}\n",
        "\n",
        "from sklearn.model_selection import GridSearchCV\n",
        "reg_new = GridSearchCV(reg, grid, cv=10, n_jobs=-1)\n",
        "reg_new.fit(X_train, y_train)"
      ],
      "metadata": {
        "colab": {
          "base_uri": "https://localhost:8080/"
        },
        "id": "NLHu5NpRXcS3",
        "outputId": "6cbcc432-26dd-46ad-fedb-433b01b8445d"
      },
      "execution_count": null,
      "outputs": [
        {
          "output_type": "execute_result",
          "data": {
            "text/plain": [
              "GridSearchCV(cv=10,\n",
              "             estimator=RandomForestRegressor(max_depth=10, random_state=0),\n",
              "             n_jobs=-1,\n",
              "             param_grid={'max_depth': [3, 4, 5, 6, 7],\n",
              "                         'max_features': ['sqrt', 'log2'],\n",
              "                         'n_estimators': [200, 300, 400, 500],\n",
              "                         'random_state': [18]})"
            ]
          },
          "metadata": {},
          "execution_count": 12
        }
      ]
    },
    {
      "cell_type": "code",
      "source": [
        "reg_new.best_params_"
      ],
      "metadata": {
        "colab": {
          "base_uri": "https://localhost:8080/"
        },
        "id": "tCLCjQK-YxAh",
        "outputId": "6f2e0167-f782-4d1a-c688-c72d1d8b81a8"
      },
      "execution_count": null,
      "outputs": [
        {
          "output_type": "execute_result",
          "data": {
            "text/plain": [
              "{'max_depth': 7,\n",
              " 'max_features': 'sqrt',\n",
              " 'n_estimators': 300,\n",
              " 'random_state': 18}"
            ]
          },
          "metadata": {},
          "execution_count": 13
        }
      ]
    },
    {
      "cell_type": "code",
      "source": [
        "# Create and train model\n",
        "rf = RandomForestRegressor(n_estimators = 300, max_features = 'sqrt', max_depth = 7, random_state = 18)\n",
        "rf.fit(X_train, y_train)\n"
      ],
      "metadata": {
        "colab": {
          "base_uri": "https://localhost:8080/"
        },
        "id": "gAkxNZkfXsu2",
        "outputId": "dbb4d6a4-bc62-4db8-83d5-d2e75fcd38b2"
      },
      "execution_count": null,
      "outputs": [
        {
          "output_type": "execute_result",
          "data": {
            "text/plain": [
              "RandomForestRegressor(max_depth=7, max_features='sqrt', n_estimators=300,\n",
              "                      random_state=18)"
            ]
          },
          "metadata": {},
          "execution_count": 14
        }
      ]
    },
    {
      "cell_type": "code",
      "source": [
        "# Predict on test data\n",
        "prediction = rf.predict(X_test)\n",
        "# Compute mean squared error\n",
        "mse = mean_squared_error(y_test, prediction)\n",
        "# Print results\n",
        "print(mse)\n",
        "\n",
        "rmse = mse**.5\n",
        "print(rmse)"
      ],
      "metadata": {
        "colab": {
          "base_uri": "https://localhost:8080/"
        },
        "id": "5QaZndL_YBPX",
        "outputId": "5983f3f1-a880-4f34-800d-bd06eb270a3a"
      },
      "execution_count": null,
      "outputs": [
        {
          "output_type": "stream",
          "name": "stdout",
          "text": [
            "0.7395731719515659\n",
            "0.8599844021559728\n"
          ]
        }
      ]
    },
    {
      "cell_type": "code",
      "source": [
        ""
      ],
      "metadata": {
        "id": "y2-ppnoLY8tR"
      },
      "execution_count": null,
      "outputs": []
    },
    {
      "cell_type": "markdown",
      "metadata": {
        "id": "d2K4AY2Q011h"
      },
      "source": [
        "# 3(f)"
      ]
    },
    {
      "cell_type": "code",
      "execution_count": null,
      "metadata": {
        "colab": {
          "base_uri": "https://localhost:8080/",
          "height": 282
        },
        "id": "vswTEL7CnurM",
        "outputId": "e08088fe-aab5-477b-f9bf-a6b58a348dd6"
      },
      "outputs": [
        {
          "output_type": "display_data",
          "data": {
            "text/plain": [
              "<Figure size 432x288 with 1 Axes>"
            ],
            "image/png": "[encoded data removed]"
          },
          "metadata": {
            "needs_background": "light"
          }
        },
        {
          "output_type": "display_data",
          "data": {
            "text/plain": [
              "<Figure size 432x288 with 0 Axes>"
            ]
          },
          "metadata": {}
        }
      ],
      "source": [
        "feature_importance=pd.Series(rf.feature_importances_,index=features.columns)\n",
        "feature_importance.nlargest(10).plot(kind='barh')\n",
        "plt.show()\n",
        "plt.savefig('feature_importance_jobs.png')"
      ]
    },
    {
      "cell_type": "code",
      "source": [
        ""
      ],
      "metadata": {
        "id": "O9GKtlbuZo7G"
      },
      "execution_count": null,
      "outputs": []
    },
    {
      "cell_type": "markdown",
      "metadata": {
        "id": "ZNT6ZBtM4dUF"
      },
      "source": [
        "# 4(a)"
      ]
    },
    {
      "cell_type": "code",
      "source": [
        "data.head()"
      ],
      "metadata": {
        "colab": {
          "base_uri": "https://localhost:8080/",
          "height": 299
        },
        "id": "jR82Yq66cwGS",
        "outputId": "11f3f76a-431c-4892-8194-fdf60c7c576a"
      },
      "execution_count": null,
      "outputs": [
        {
          "output_type": "execute_result",
          "data": {
            "text/plain": [
              "         x1        x2        x3        x4        x5        x6   x7   x8   x9  \\\n",
              "0  1.397395  0.996346 -1.105624 -0.879606  0.308569 -1.023402  1.0  0.0  0.0   \n",
              "1  0.269033  0.196818  0.383828  0.161703 -0.629189  1.460832  1.0  0.0  1.0   \n",
              "2  1.051537  1.795874 -1.105624  0.161703 -0.629189  0.963985  1.0  0.0  1.0   \n",
              "3  0.662446  0.196818 -0.733261 -0.879606  0.371086 -0.692171  1.0  0.0  0.0   \n",
              "4  0.856992  1.795874  0.011465 -0.879606  0.558638  0.301522  0.0  1.0  1.0   \n",
              "\n",
              "   x10  ...  x20  x21  x22  x23  x24  x25    t        yf       ycf       ite  \n",
              "0  0.0  ...  0.0  0.0  0.0  0.0  0.0  1.0  1.0  4.771232 -0.298509  4.657928  \n",
              "1  0.0  ...  0.0  0.0  0.0  0.0  0.0  0.0  0.0  2.956273  5.783770  3.428604  \n",
              "2  1.0  ...  0.0  0.0  0.0  0.0  0.0  1.0  0.0  4.164164  7.055789  3.658195  \n",
              "3  0.0  ...  1.0  0.0  0.0  0.0  0.0  0.0  1.0  6.172307  1.379697  4.585505  \n",
              "4  0.0  ...  0.0  0.0  0.0  0.0  0.0  0.0  1.0  7.834469  2.747986  4.265591  \n",
              "\n",
              "[5 rows x 29 columns]"
            ],
            "text/html": [
              "\n",
              "  <div id=\"df-9cae3b56-7598-4682-8281-d41b4b19da1a\">\n",
              "    <div class=\"colab-df-container\">\n",
              "      <div>\n",
              "<style scoped>\n",
              "    .dataframe tbody tr th:only-of-type {\n",
              "        vertical-align: middle;\n",
              "    }\n",
              "\n",
              "    .dataframe tbody tr th {\n",
              "        vertical-align: top;\n",
              "    }\n",
              "\n",
              "    .dataframe thead th {\n",
              "        text-align: right;\n",
              "    }\n",
              "</style>\n",
              "<table border=\"1\" class=\"dataframe\">\n",
              "  <thead>\n",
              "    <tr style=\"text-align: right;\">\n",
              "      <th></th>\n",
              "      <th>x1</th>\n",
              "      <th>x2</th>\n",
              "      <th>x3</th>\n",
              "      <th>x4</th>\n",
              "      <th>x5</th>\n",
              "      <th>x6</th>\n",
              "      <th>x7</th>\n",
              "      <th>x8</th>\n",
              "      <th>x9</th>\n",
              "      <th>x10</th>\n",
              "      <th>...</th>\n",
              "      <th>x20</th>\n",
              "      <th>x21</th>\n",
              "      <th>x22</th>\n",
              "      <th>x23</th>\n",
              "      <th>x24</th>\n",
              "      <th>x25</th>\n",
              "      <th>t</th>\n",
              "      <th>yf</th>\n",
              "      <th>ycf</th>\n",
              "      <th>ite</th>\n",
              "    </tr>\n",
              "  </thead>\n",
              "  <tbody>\n",
              "    <tr>\n",
              "      <th>0</th>\n",
              "      <td>1.397395</td>\n",
              "      <td>0.996346</td>\n",
              "      <td>-1.105624</td>\n",
              "      <td>-0.879606</td>\n",
              "      <td>0.308569</td>\n",
              "      <td>-1.023402</td>\n",
              "      <td>1.0</td>\n",
              "      <td>0.0</td>\n",
              "      <td>0.0</td>\n",
              "      <td>0.0</td>\n",
              "      <td>...</td>\n",
              "      <td>0.0</td>\n",
              "      <td>0.0</td>\n",
              "      <td>0.0</td>\n",
              "      <td>0.0</td>\n",
              "      <td>0.0</td>\n",
              "      <td>1.0</td>\n",
              "      <td>1.0</td>\n",
              "      <td>4.771232</td>\n",
              "      <td>-0.298509</td>\n",
              "      <td>4.657928</td>\n",
              "    </tr>\n",
              "    <tr>\n",
              "      <th>1</th>\n",
              "      <td>0.269033</td>\n",
              "      <td>0.196818</td>\n",
              "      <td>0.383828</td>\n",
              "      <td>0.161703</td>\n",
              "      <td>-0.629189</td>\n",
              "      <td>1.460832</td>\n",
              "      <td>1.0</td>\n",
              "      <td>0.0</td>\n",
              "      <td>1.0</td>\n",
              "      <td>0.0</td>\n",
              "      <td>...</td>\n",
              "      <td>0.0</td>\n",
              "      <td>0.0</td>\n",
              "      <td>0.0</td>\n",
              "      <td>0.0</td>\n",
              "      <td>0.0</td>\n",
              "      <td>0.0</td>\n",
              "      <td>0.0</td>\n",
              "      <td>2.956273</td>\n",
              "      <td>5.783770</td>\n",
              "      <td>3.428604</td>\n",
              "    </tr>\n",
              "    <tr>\n",
              "      <th>2</th>\n",
              "      <td>1.051537</td>\n",
              "      <td>1.795874</td>\n",
              "      <td>-1.105624</td>\n",
              "      <td>0.161703</td>\n",
              "      <td>-0.629189</td>\n",
              "      <td>0.963985</td>\n",
              "      <td>1.0</td>\n",
              "      <td>0.0</td>\n",
              "      <td>1.0</td>\n",
              "      <td>1.0</td>\n",
              "      <td>...</td>\n",
              "      <td>0.0</td>\n",
              "      <td>0.0</td>\n",
              "      <td>0.0</td>\n",
              "      <td>0.0</td>\n",
              "      <td>0.0</td>\n",
              "      <td>1.0</td>\n",
              "      <td>0.0</td>\n",
              "      <td>4.164164</td>\n",
              "      <td>7.055789</td>\n",
              "      <td>3.658195</td>\n",
              "    </tr>\n",
              "    <tr>\n",
              "      <th>3</th>\n",
              "      <td>0.662446</td>\n",
              "      <td>0.196818</td>\n",
              "      <td>-0.733261</td>\n",
              "      <td>-0.879606</td>\n",
              "      <td>0.371086</td>\n",
              "      <td>-0.692171</td>\n",
              "      <td>1.0</td>\n",
              "      <td>0.0</td>\n",
              "      <td>0.0</td>\n",
              "      <td>0.0</td>\n",
              "      <td>...</td>\n",
              "      <td>1.0</td>\n",
              "      <td>0.0</td>\n",
              "      <td>0.0</td>\n",
              "      <td>0.0</td>\n",
              "      <td>0.0</td>\n",
              "      <td>0.0</td>\n",
              "      <td>1.0</td>\n",
              "      <td>6.172307</td>\n",
              "      <td>1.379697</td>\n",
              "      <td>4.585505</td>\n",
              "    </tr>\n",
              "    <tr>\n",
              "      <th>4</th>\n",
              "      <td>0.856992</td>\n",
              "      <td>1.795874</td>\n",
              "      <td>0.011465</td>\n",
              "      <td>-0.879606</td>\n",
              "      <td>0.558638</td>\n",
              "      <td>0.301522</td>\n",
              "      <td>0.0</td>\n",
              "      <td>1.0</td>\n",
              "      <td>1.0</td>\n",
              "      <td>0.0</td>\n",
              "      <td>...</td>\n",
              "      <td>0.0</td>\n",
              "      <td>0.0</td>\n",
              "      <td>0.0</td>\n",
              "      <td>0.0</td>\n",
              "      <td>0.0</td>\n",
              "      <td>0.0</td>\n",
              "      <td>1.0</td>\n",
              "      <td>7.834469</td>\n",
              "      <td>2.747986</td>\n",
              "      <td>4.265591</td>\n",
              "    </tr>\n",
              "  </tbody>\n",
              "</table>\n",
              "<p>5 rows × 29 columns</p>\n",
              "</div>\n",
              "      <button class=\"colab-df-convert\" onclick=\"convertToInteractive('df-9cae3b56-7598-4682-8281-d41b4b19da1a')\"\n",
              "              title=\"Convert this dataframe to an interactive table.\"\n",
              "              style=\"display:none;\">\n",
              "        \n",
              "  <svg xmlns=\"http://www.w3.org/2000/svg\" height=\"24px\"viewBox=\"0 0 24 24\"\n",
              "       width=\"24px\">\n",
              "    <path d=\"M0 0h24v24H0V0z\" fill=\"none\"/>\n",
              "    <path d=\"M18.56 5.44l.94 2.06.94-2.06 2.06-.94-2.06-.94-.94-2.06-.94 2.06-2.06.94zm-11 1L8.5 8.5l.94-2.06 2.06-.94-2.06-.94L8.5 2.5l-.94 2.06-2.06.94zm10 10l.94 2.06.94-2.06 2.06-.94-2.06-.94-.94-2.06-.94 2.06-2.06.94z\"/><path d=\"M17.41 7.96l-1.37-1.37c-.4-.4-.92-.59-1.43-.59-.52 0-1.04.2-1.43.59L10.3 9.45l-7.72 7.72c-.78.78-.78 2.05 0 2.83L4 21.41c.39.39.9.59 1.41.59.51 0 1.02-.2 1.41-.59l7.78-7.78 2.81-2.81c.8-.78.8-2.07 0-2.86zM5.41 20L4 18.59l7.72-7.72 1.47 1.35L5.41 20z\"/>\n",
              "  </svg>\n",
              "      </button>\n",
              "      \n",
              "  <style>\n",
              "    .colab-df-container {\n",
              "      display:flex;\n",
              "      flex-wrap:wrap;\n",
              "      gap: 12px;\n",
              "    }\n",
              "\n",
              "    .colab-df-convert {\n",
              "      background-color: #E8F0FE;\n",
              "      border: none;\n",
              "      border-radius: 50%;\n",
              "      cursor: pointer;\n",
              "      display: none;\n",
              "      fill: #1967D2;\n",
              "      height: 32px;\n",
              "      padding: 0 0 0 0;\n",
              "      width: 32px;\n",
              "    }\n",
              "\n",
              "    .colab-df-convert:hover {\n",
              "      background-color: #E2EBFA;\n",
              "      box-shadow: 0px 1px 2px rgba(60, 64, 67, 0.3), 0px 1px 3px 1px rgba(60, 64, 67, 0.15);\n",
              "      fill: #174EA6;\n",
              "    }\n",
              "\n",
              "    [theme=dark] .colab-df-convert {\n",
              "      background-color: #3B4455;\n",
              "      fill: #D2E3FC;\n",
              "    }\n",
              "\n",
              "    [theme=dark] .colab-df-convert:hover {\n",
              "      background-color: #434B5C;\n",
              "      box-shadow: 0px 1px 3px 1px rgba(0, 0, 0, 0.15);\n",
              "      filter: drop-shadow(0px 1px 2px rgba(0, 0, 0, 0.3));\n",
              "      fill: #FFFFFF;\n",
              "    }\n",
              "  </style>\n",
              "\n",
              "      <script>\n",
              "        const buttonEl =\n",
              "          document.querySelector('#df-9cae3b56-7598-4682-8281-d41b4b19da1a button.colab-df-convert');\n",
              "        buttonEl.style.display =\n",
              "          google.colab.kernel.accessAllowed ? 'block' : 'none';\n",
              "\n",
              "        async function convertToInteractive(key) {\n",
              "          const element = document.querySelector('#df-9cae3b56-7598-4682-8281-d41b4b19da1a');\n",
              "          const dataTable =\n",
              "            await google.colab.kernel.invokeFunction('convertToInteractive',\n",
              "                                                     [key], {});\n",
              "          if (!dataTable) return;\n",
              "\n",
              "          const docLinkHtml = 'Like what you see? Visit the ' +\n",
              "            '<a target=\"_blank\" href=https://colab.research.google.com/notebooks/data_table.ipynb>data table notebook</a>'\n",
              "            + ' to learn more about interactive tables.';\n",
              "          element.innerHTML = '';\n",
              "          dataTable['output_type'] = 'display_data';\n",
              "          await google.colab.output.renderOutput(dataTable, element);\n",
              "          const docLink = document.createElement('div');\n",
              "          docLink.innerHTML = docLinkHtml;\n",
              "          element.appendChild(docLink);\n",
              "        }\n",
              "      </script>\n",
              "    </div>\n",
              "  </div>\n",
              "  "
            ]
          },
          "metadata": {},
          "execution_count": 17
        }
      ]
    },
    {
      "cell_type": "code",
      "execution_count": null,
      "metadata": {
        "colab": {
          "base_uri": "https://localhost:8080/",
          "height": 143
        },
        "id": "tSwVuQbYAYBv",
        "outputId": "fbb13e8d-7985-449a-9d16-2e157fa6dd1f"
      },
      "outputs": [
        {
          "output_type": "execute_result",
          "data": {
            "text/plain": [
              "     count      mean       std       min       25%       50%       75%  \\\n",
              "t                                                                        \n",
              "0.0  608.0  2.411297  1.595977 -1.543902  1.449381  2.223557  3.082210   \n",
              "1.0  139.0  6.432418  1.108928  3.287666  5.834726  6.307376  7.335885   \n",
              "\n",
              "           max  \n",
              "t               \n",
              "0.0  11.268228  \n",
              "1.0   9.314615  "
            ],
            "text/html": [
              "\n",
              "  <div id=\"df-4257e48c-af89-4f86-8969-1a26e19029fb\">\n",
              "    <div class=\"colab-df-container\">\n",
              "      <div>\n",
              "<style scoped>\n",
              "    .dataframe tbody tr th:only-of-type {\n",
              "        vertical-align: middle;\n",
              "    }\n",
              "\n",
              "    .dataframe tbody tr th {\n",
              "        vertical-align: top;\n",
              "    }\n",
              "\n",
              "    .dataframe thead th {\n",
              "        text-align: right;\n",
              "    }\n",
              "</style>\n",
              "<table border=\"1\" class=\"dataframe\">\n",
              "  <thead>\n",
              "    <tr style=\"text-align: right;\">\n",
              "      <th></th>\n",
              "      <th>count</th>\n",
              "      <th>mean</th>\n",
              "      <th>std</th>\n",
              "      <th>min</th>\n",
              "      <th>25%</th>\n",
              "      <th>50%</th>\n",
              "      <th>75%</th>\n",
              "      <th>max</th>\n",
              "    </tr>\n",
              "    <tr>\n",
              "      <th>t</th>\n",
              "      <th></th>\n",
              "      <th></th>\n",
              "      <th></th>\n",
              "      <th></th>\n",
              "      <th></th>\n",
              "      <th></th>\n",
              "      <th></th>\n",
              "      <th></th>\n",
              "    </tr>\n",
              "  </thead>\n",
              "  <tbody>\n",
              "    <tr>\n",
              "      <th>0.0</th>\n",
              "      <td>608.0</td>\n",
              "      <td>2.411297</td>\n",
              "      <td>1.595977</td>\n",
              "      <td>-1.543902</td>\n",
              "      <td>1.449381</td>\n",
              "      <td>2.223557</td>\n",
              "      <td>3.082210</td>\n",
              "      <td>11.268228</td>\n",
              "    </tr>\n",
              "    <tr>\n",
              "      <th>1.0</th>\n",
              "      <td>139.0</td>\n",
              "      <td>6.432418</td>\n",
              "      <td>1.108928</td>\n",
              "      <td>3.287666</td>\n",
              "      <td>5.834726</td>\n",
              "      <td>6.307376</td>\n",
              "      <td>7.335885</td>\n",
              "      <td>9.314615</td>\n",
              "    </tr>\n",
              "  </tbody>\n",
              "</table>\n",
              "</div>\n",
              "      <button class=\"colab-df-convert\" onclick=\"convertToInteractive('df-4257e48c-af89-4f86-8969-1a26e19029fb')\"\n",
              "              title=\"Convert this dataframe to an interactive table.\"\n",
              "              style=\"display:none;\">\n",
              "        \n",
              "  <svg xmlns=\"http://www.w3.org/2000/svg\" height=\"24px\"viewBox=\"0 0 24 24\"\n",
              "       width=\"24px\">\n",
              "    <path d=\"M0 0h24v24H0V0z\" fill=\"none\"/>\n",
              "    <path d=\"M18.56 5.44l.94 2.06.94-2.06 2.06-.94-2.06-.94-.94-2.06-.94 2.06-2.06.94zm-11 1L8.5 8.5l.94-2.06 2.06-.94-2.06-.94L8.5 2.5l-.94 2.06-2.06.94zm10 10l.94 2.06.94-2.06 2.06-.94-2.06-.94-.94-2.06-.94 2.06-2.06.94z\"/><path d=\"M17.41 7.96l-1.37-1.37c-.4-.4-.92-.59-1.43-.59-.52 0-1.04.2-1.43.59L10.3 9.45l-7.72 7.72c-.78.78-.78 2.05 0 2.83L4 21.41c.39.39.9.59 1.41.59.51 0 1.02-.2 1.41-.59l7.78-7.78 2.81-2.81c.8-.78.8-2.07 0-2.86zM5.41 20L4 18.59l7.72-7.72 1.47 1.35L5.41 20z\"/>\n",
              "  </svg>\n",
              "      </button>\n",
              "      \n",
              "  <style>\n",
              "    .colab-df-container {\n",
              "      display:flex;\n",
              "      flex-wrap:wrap;\n",
              "      gap: 12px;\n",
              "    }\n",
              "\n",
              "    .colab-df-convert {\n",
              "      background-color: #E8F0FE;\n",
              "      border: none;\n",
              "      border-radius: 50%;\n",
              "      cursor: pointer;\n",
              "      display: none;\n",
              "      fill: #1967D2;\n",
              "      height: 32px;\n",
              "      padding: 0 0 0 0;\n",
              "      width: 32px;\n",
              "    }\n",
              "\n",
              "    .colab-df-convert:hover {\n",
              "      background-color: #E2EBFA;\n",
              "      box-shadow: 0px 1px 2px rgba(60, 64, 67, 0.3), 0px 1px 3px 1px rgba(60, 64, 67, 0.15);\n",
              "      fill: #174EA6;\n",
              "    }\n",
              "\n",
              "    [theme=dark] .colab-df-convert {\n",
              "      background-color: #3B4455;\n",
              "      fill: #D2E3FC;\n",
              "    }\n",
              "\n",
              "    [theme=dark] .colab-df-convert:hover {\n",
              "      background-color: #434B5C;\n",
              "      box-shadow: 0px 1px 3px 1px rgba(0, 0, 0, 0.15);\n",
              "      filter: drop-shadow(0px 1px 2px rgba(0, 0, 0, 0.3));\n",
              "      fill: #FFFFFF;\n",
              "    }\n",
              "  </style>\n",
              "\n",
              "      <script>\n",
              "        const buttonEl =\n",
              "          document.querySelector('#df-4257e48c-af89-4f86-8969-1a26e19029fb button.colab-df-convert');\n",
              "        buttonEl.style.display =\n",
              "          google.colab.kernel.accessAllowed ? 'block' : 'none';\n",
              "\n",
              "        async function convertToInteractive(key) {\n",
              "          const element = document.querySelector('#df-4257e48c-af89-4f86-8969-1a26e19029fb');\n",
              "          const dataTable =\n",
              "            await google.colab.kernel.invokeFunction('convertToInteractive',\n",
              "                                                     [key], {});\n",
              "          if (!dataTable) return;\n",
              "\n",
              "          const docLinkHtml = 'Like what you see? Visit the ' +\n",
              "            '<a target=\"_blank\" href=https://colab.research.google.com/notebooks/data_table.ipynb>data table notebook</a>'\n",
              "            + ' to learn more about interactive tables.';\n",
              "          element.innerHTML = '';\n",
              "          dataTable['output_type'] = 'display_data';\n",
              "          await google.colab.output.renderOutput(dataTable, element);\n",
              "          const docLink = document.createElement('div');\n",
              "          docLink.innerHTML = docLinkHtml;\n",
              "          element.appendChild(docLink);\n",
              "        }\n",
              "      </script>\n",
              "    </div>\n",
              "  </div>\n",
              "  "
            ]
          },
          "metadata": {},
          "execution_count": 18
        }
      ],
      "source": [
        "TREATMENT = 't'\n",
        "OUTCOME = 'yf'\n",
        "data.groupby(TREATMENT)[OUTCOME].describe()"
      ]
    },
    {
      "cell_type": "code",
      "source": [
        "!pip install causalinference"
      ],
      "metadata": {
        "colab": {
          "base_uri": "https://localhost:8080/"
        },
        "id": "vwRf8-8xePER",
        "outputId": "39628d0e-6730-4c38-af87-bcf82ca24e7c"
      },
      "execution_count": null,
      "outputs": [
        {
          "output_type": "stream",
          "name": "stdout",
          "text": [
            "Requirement already satisfied: causalinference in /usr/local/lib/python3.7/dist-packages (0.1.3)\n"
          ]
        }
      ]
    },
    {
      "cell_type": "code",
      "execution_count": null,
      "metadata": {
        "id": "pRBImEmhCiTT"
      },
      "outputs": [],
      "source": [
        "from sklearn.preprocessing import StandardScaler\n",
        "from sklearn.linear_model import LogisticRegression\n",
        "from sklearn.pipeline import Pipeline\n",
        "from sklearn.metrics import roc_auc_score, f1_score\n",
        "from causalinference import CausalModel"
      ]
    },
    {
      "cell_type": "code",
      "execution_count": null,
      "metadata": {
        "colab": {
          "base_uri": "https://localhost:8080/"
        },
        "id": "4FVuvFD6Aw8i",
        "outputId": "abd9a01b-01fe-4dba-bced-c3d19b375c72"
      },
      "outputs": [
        {
          "output_type": "execute_result",
          "data": {
            "text/plain": [
              "Pipeline(steps=[('scaler', StandardScaler()),\n",
              "                ('logistic_classifier', LogisticRegression(C=1000000.0))])"
            ]
          },
          "metadata": {},
          "execution_count": 21
        }
      ],
      "source": [
        "\n",
        "t = data[TREATMENT]\n",
        "X = pd.get_dummies(data.drop(columns=[OUTCOME, TREATMENT]))\n",
        "pipe = Pipeline([\n",
        "    ('scaler', StandardScaler()),\n",
        "    ('logistic_classifier', LogisticRegression(C=1e6))\n",
        "])\n",
        "pipe.fit(X, t)"
      ]
    },
    {
      "cell_type": "code",
      "execution_count": null,
      "metadata": {
        "id": "buvTd-UBEHXM"
      },
      "outputs": [],
      "source": [
        "predictions = pipe.predict_proba(X)\n",
        "predictions_binary = pipe.predict(X)"
      ]
    },
    {
      "cell_type": "code",
      "execution_count": null,
      "metadata": {
        "colab": {
          "base_uri": "https://localhost:8080/"
        },
        "id": "iQGnBAPEFZU4",
        "outputId": "9711c51b-da72-49ba-ae58-66a421e9fa33"
      },
      "outputs": [
        {
          "output_type": "stream",
          "name": "stdout",
          "text": [
            "Accuracy: 0.9880\n",
            "\n",
            "Confusion matrix:\n",
            "[[602   6]\n",
            " [  3 136]]\n",
            "\n",
            "F1 score is: 0.9680\n"
          ]
        }
      ],
      "source": [
        "from sklearn.metrics import precision_score, recall_score, f1_score, roc_auc_score, accuracy_score, classification_report,confusion_matrix\n",
        "\n",
        "print('Accuracy: {:.4f}\\n'.format(accuracy_score(t, predictions_binary)))\n",
        "print('Confusion matrix:\\n{}\\n'.format(confusion_matrix(t, predictions_binary)))\n",
        "print('F1 score is: {:.4f}'.format(f1_score(t, predictions_binary)))"
      ]
    },
    {
      "cell_type": "markdown",
      "source": [
        "# 4(b)"
      ],
      "metadata": {
        "id": "cvb2tPOuDmiq"
      }
    },
    {
      "cell_type": "code",
      "execution_count": null,
      "metadata": {
        "id": "B9iMojcoDMSy"
      },
      "outputs": [],
      "source": [
        "import math\n",
        "\n",
        "def logit(p):\n",
        "    logit_value = math.log(p / (1-p))\n",
        "    return logit_value\n",
        "\n",
        "\n",
        "predictions_logit = np.array([logit(xi) for xi in predictions[:,1]])\n"
      ]
    },
    {
      "cell_type": "code",
      "execution_count": null,
      "metadata": {
        "colab": {
          "base_uri": "https://localhost:8080/",
          "height": 424
        },
        "id": "kVqbjCgFDjTY",
        "outputId": "c2f6bb46-291c-48fd-b9bd-2ddbabba2045"
      },
      "outputs": [
        {
          "output_type": "display_data",
          "data": {
            "text/plain": [
              "<Figure size 1080x432 with 2 Axes>"
            ],
            "image/png": "[encoded data removed]"
          },
          "metadata": {}
        }
      ],
      "source": [
        "sns.set(rc={'figure.figsize':(15,6)}, font_scale=1.3)\n",
        "fig, ax = plt.subplots(1,2)\n",
        "fig.suptitle('Density distribution plots for propensity score and logit(propensity score).')\n",
        "sns.kdeplot(x = predictions[:,1], hue = t , ax = ax[0])\n",
        "ax[0].set_title('Propensity Score')\n",
        "sns.kdeplot(x = predictions_logit, hue = t , ax = ax[1])\n",
        "ax[1].axvline(-0.4, ls='--')\n",
        "ax[1].set_title('Logit of Propensity Score')\n",
        "plt.show()"
      ]
    },
    {
      "cell_type": "code",
      "execution_count": null,
      "metadata": {
        "id": "_w9eSOukESS0"
      },
      "outputs": [],
      "source": [
        "common_support = (predictions_logit > -10) & (predictions_logit < 10)\n"
      ]
    },
    {
      "cell_type": "code",
      "execution_count": null,
      "metadata": {
        "id": "fcrDZ8J8FKyj"
      },
      "outputs": [],
      "source": [
        "data.loc[:,'propensity_score'] = predictions[:,1]\n",
        "data.loc[:,'propensity_score_logit'] = predictions_logit\n",
        "data.loc[:,'outcome'] = target\n",
        "\n",
        "X.loc[:,'propensity_score'] = predictions[:,1]\n",
        "X.loc[:,'propensity_score_logit'] = predictions_logit\n",
        "X.loc[:,'outcome'] = target\n",
        "X.loc[:,'treatment'] = data.t"
      ]
    },
    {
      "cell_type": "code",
      "source": [
        "data.head()"
      ],
      "metadata": {
        "colab": {
          "base_uri": "https://localhost:8080/",
          "height": 299
        },
        "id": "sFm21ufl6WBo",
        "outputId": "44275377-91f1-4587-d1c5-85e97ff5691a"
      },
      "execution_count": null,
      "outputs": [
        {
          "output_type": "execute_result",
          "data": {
            "text/plain": [
              "         x1        x2        x3        x4        x5        x6   x7   x8   x9  \\\n",
              "0  1.397395  0.996346 -1.105624 -0.879606  0.308569 -1.023402  1.0  0.0  0.0   \n",
              "1  0.269033  0.196818  0.383828  0.161703 -0.629189  1.460832  1.0  0.0  1.0   \n",
              "2  1.051537  1.795874 -1.105624  0.161703 -0.629189  0.963985  1.0  0.0  1.0   \n",
              "3  0.662446  0.196818 -0.733261 -0.879606  0.371086 -0.692171  1.0  0.0  0.0   \n",
              "4  0.856992  1.795874  0.011465 -0.879606  0.558638  0.301522  0.0  1.0  1.0   \n",
              "\n",
              "   x10  ...  x23  x24  x25    t        yf       ycf       ite  \\\n",
              "0  0.0  ...  0.0  0.0  1.0  1.0  4.771232 -0.298509  4.657928   \n",
              "1  0.0  ...  0.0  0.0  0.0  0.0  2.956273  5.783770  3.428604   \n",
              "2  1.0  ...  0.0  0.0  1.0  0.0  4.164164  7.055789  3.658195   \n",
              "3  0.0  ...  0.0  0.0  0.0  1.0  6.172307  1.379697  4.585505   \n",
              "4  0.0  ...  0.0  0.0  0.0  1.0  7.834469  2.747986  4.265591   \n",
              "\n",
              "   propensity_score  propensity_score_logit   outcome  \n",
              "0          0.999997               12.765907  4.771232  \n",
              "1          0.034572               -3.329532  2.956273  \n",
              "2          0.000083               -9.399404  4.164164  \n",
              "3          0.999260                7.208792  6.172307  \n",
              "4          0.998032                6.228637  7.834469  \n",
              "\n",
              "[5 rows x 32 columns]"
            ],
            "text/html": [
              "\n",
              "  <div id=\"df-fa6daf7a-35a4-40cf-8b52-34fe083e04b0\">\n",
              "    <div class=\"colab-df-container\">\n",
              "      <div>\n",
              "<style scoped>\n",
              "    .dataframe tbody tr th:only-of-type {\n",
              "        vertical-align: middle;\n",
              "    }\n",
              "\n",
              "    .dataframe tbody tr th {\n",
              "        vertical-align: top;\n",
              "    }\n",
              "\n",
              "    .dataframe thead th {\n",
              "        text-align: right;\n",
              "    }\n",
              "</style>\n",
              "<table border=\"1\" class=\"dataframe\">\n",
              "  <thead>\n",
              "    <tr style=\"text-align: right;\">\n",
              "      <th></th>\n",
              "      <th>x1</th>\n",
              "      <th>x2</th>\n",
              "      <th>x3</th>\n",
              "      <th>x4</th>\n",
              "      <th>x5</th>\n",
              "      <th>x6</th>\n",
              "      <th>x7</th>\n",
              "      <th>x8</th>\n",
              "      <th>x9</th>\n",
              "      <th>x10</th>\n",
              "      <th>...</th>\n",
              "      <th>x23</th>\n",
              "      <th>x24</th>\n",
              "      <th>x25</th>\n",
              "      <th>t</th>\n",
              "      <th>yf</th>\n",
              "      <th>ycf</th>\n",
              "      <th>ite</th>\n",
              "      <th>propensity_score</th>\n",
              "      <th>propensity_score_logit</th>\n",
              "      <th>outcome</th>\n",
              "    </tr>\n",
              "  </thead>\n",
              "  <tbody>\n",
              "    <tr>\n",
              "      <th>0</th>\n",
              "      <td>1.397395</td>\n",
              "      <td>0.996346</td>\n",
              "      <td>-1.105624</td>\n",
              "      <td>-0.879606</td>\n",
              "      <td>0.308569</td>\n",
              "      <td>-1.023402</td>\n",
              "      <td>1.0</td>\n",
              "      <td>0.0</td>\n",
              "      <td>0.0</td>\n",
              "      <td>0.0</td>\n",
              "      <td>...</td>\n",
              "      <td>0.0</td>\n",
              "      <td>0.0</td>\n",
              "      <td>1.0</td>\n",
              "      <td>1.0</td>\n",
              "      <td>4.771232</td>\n",
              "      <td>-0.298509</td>\n",
              "      <td>4.657928</td>\n",
              "      <td>0.999997</td>\n",
              "      <td>12.765907</td>\n",
              "      <td>4.771232</td>\n",
              "    </tr>\n",
              "    <tr>\n",
              "      <th>1</th>\n",
              "      <td>0.269033</td>\n",
              "      <td>0.196818</td>\n",
              "      <td>0.383828</td>\n",
              "      <td>0.161703</td>\n",
              "      <td>-0.629189</td>\n",
              "      <td>1.460832</td>\n",
              "      <td>1.0</td>\n",
              "      <td>0.0</td>\n",
              "      <td>1.0</td>\n",
              "      <td>0.0</td>\n",
              "      <td>...</td>\n",
              "      <td>0.0</td>\n",
              "      <td>0.0</td>\n",
              "      <td>0.0</td>\n",
              "      <td>0.0</td>\n",
              "      <td>2.956273</td>\n",
              "      <td>5.783770</td>\n",
              "      <td>3.428604</td>\n",
              "      <td>0.034572</td>\n",
              "      <td>-3.329532</td>\n",
              "      <td>2.956273</td>\n",
              "    </tr>\n",
              "    <tr>\n",
              "      <th>2</th>\n",
              "      <td>1.051537</td>\n",
              "      <td>1.795874</td>\n",
              "      <td>-1.105624</td>\n",
              "      <td>0.161703</td>\n",
              "      <td>-0.629189</td>\n",
              "      <td>0.963985</td>\n",
              "      <td>1.0</td>\n",
              "      <td>0.0</td>\n",
              "      <td>1.0</td>\n",
              "      <td>1.0</td>\n",
              "      <td>...</td>\n",
              "      <td>0.0</td>\n",
              "      <td>0.0</td>\n",
              "      <td>1.0</td>\n",
              "      <td>0.0</td>\n",
              "      <td>4.164164</td>\n",
              "      <td>7.055789</td>\n",
              "      <td>3.658195</td>\n",
              "      <td>0.000083</td>\n",
              "      <td>-9.399404</td>\n",
              "      <td>4.164164</td>\n",
              "    </tr>\n",
              "    <tr>\n",
              "      <th>3</th>\n",
              "      <td>0.662446</td>\n",
              "      <td>0.196818</td>\n",
              "      <td>-0.733261</td>\n",
              "      <td>-0.879606</td>\n",
              "      <td>0.371086</td>\n",
              "      <td>-0.692171</td>\n",
              "      <td>1.0</td>\n",
              "      <td>0.0</td>\n",
              "      <td>0.0</td>\n",
              "      <td>0.0</td>\n",
              "      <td>...</td>\n",
              "      <td>0.0</td>\n",
              "      <td>0.0</td>\n",
              "      <td>0.0</td>\n",
              "      <td>1.0</td>\n",
              "      <td>6.172307</td>\n",
              "      <td>1.379697</td>\n",
              "      <td>4.585505</td>\n",
              "      <td>0.999260</td>\n",
              "      <td>7.208792</td>\n",
              "      <td>6.172307</td>\n",
              "    </tr>\n",
              "    <tr>\n",
              "      <th>4</th>\n",
              "      <td>0.856992</td>\n",
              "      <td>1.795874</td>\n",
              "      <td>0.011465</td>\n",
              "      <td>-0.879606</td>\n",
              "      <td>0.558638</td>\n",
              "      <td>0.301522</td>\n",
              "      <td>0.0</td>\n",
              "      <td>1.0</td>\n",
              "      <td>1.0</td>\n",
              "      <td>0.0</td>\n",
              "      <td>...</td>\n",
              "      <td>0.0</td>\n",
              "      <td>0.0</td>\n",
              "      <td>0.0</td>\n",
              "      <td>1.0</td>\n",
              "      <td>7.834469</td>\n",
              "      <td>2.747986</td>\n",
              "      <td>4.265591</td>\n",
              "      <td>0.998032</td>\n",
              "      <td>6.228637</td>\n",
              "      <td>7.834469</td>\n",
              "    </tr>\n",
              "  </tbody>\n",
              "</table>\n",
              "<p>5 rows × 32 columns</p>\n",
              "</div>\n",
              "      <button class=\"colab-df-convert\" onclick=\"convertToInteractive('df-fa6daf7a-35a4-40cf-8b52-34fe083e04b0')\"\n",
              "              title=\"Convert this dataframe to an interactive table.\"\n",
              "              style=\"display:none;\">\n",
              "        \n",
              "  <svg xmlns=\"http://www.w3.org/2000/svg\" height=\"24px\"viewBox=\"0 0 24 24\"\n",
              "       width=\"24px\">\n",
              "    <path d=\"M0 0h24v24H0V0z\" fill=\"none\"/>\n",
              "    <path d=\"M18.56 5.44l.94 2.06.94-2.06 2.06-.94-2.06-.94-.94-2.06-.94 2.06-2.06.94zm-11 1L8.5 8.5l.94-2.06 2.06-.94-2.06-.94L8.5 2.5l-.94 2.06-2.06.94zm10 10l.94 2.06.94-2.06 2.06-.94-2.06-.94-.94-2.06-.94 2.06-2.06.94z\"/><path d=\"M17.41 7.96l-1.37-1.37c-.4-.4-.92-.59-1.43-.59-.52 0-1.04.2-1.43.59L10.3 9.45l-7.72 7.72c-.78.78-.78 2.05 0 2.83L4 21.41c.39.39.9.59 1.41.59.51 0 1.02-.2 1.41-.59l7.78-7.78 2.81-2.81c.8-.78.8-2.07 0-2.86zM5.41 20L4 18.59l7.72-7.72 1.47 1.35L5.41 20z\"/>\n",
              "  </svg>\n",
              "      </button>\n",
              "      \n",
              "  <style>\n",
              "    .colab-df-container {\n",
              "      display:flex;\n",
              "      flex-wrap:wrap;\n",
              "      gap: 12px;\n",
              "    }\n",
              "\n",
              "    .colab-df-convert {\n",
              "      background-color: #E8F0FE;\n",
              "      border: none;\n",
              "      border-radius: 50%;\n",
              "      cursor: pointer;\n",
              "      display: none;\n",
              "      fill: #1967D2;\n",
              "      height: 32px;\n",
              "      padding: 0 0 0 0;\n",
              "      width: 32px;\n",
              "    }\n",
              "\n",
              "    .colab-df-convert:hover {\n",
              "      background-color: #E2EBFA;\n",
              "      box-shadow: 0px 1px 2px rgba(60, 64, 67, 0.3), 0px 1px 3px 1px rgba(60, 64, 67, 0.15);\n",
              "      fill: #174EA6;\n",
              "    }\n",
              "\n",
              "    [theme=dark] .colab-df-convert {\n",
              "      background-color: #3B4455;\n",
              "      fill: #D2E3FC;\n",
              "    }\n",
              "\n",
              "    [theme=dark] .colab-df-convert:hover {\n",
              "      background-color: #434B5C;\n",
              "      box-shadow: 0px 1px 3px 1px rgba(0, 0, 0, 0.15);\n",
              "      filter: drop-shadow(0px 1px 2px rgba(0, 0, 0, 0.3));\n",
              "      fill: #FFFFFF;\n",
              "    }\n",
              "  </style>\n",
              "\n",
              "      <script>\n",
              "        const buttonEl =\n",
              "          document.querySelector('#df-fa6daf7a-35a4-40cf-8b52-34fe083e04b0 button.colab-df-convert');\n",
              "        buttonEl.style.display =\n",
              "          google.colab.kernel.accessAllowed ? 'block' : 'none';\n",
              "\n",
              "        async function convertToInteractive(key) {\n",
              "          const element = document.querySelector('#df-fa6daf7a-35a4-40cf-8b52-34fe083e04b0');\n",
              "          const dataTable =\n",
              "            await google.colab.kernel.invokeFunction('convertToInteractive',\n",
              "                                                     [key], {});\n",
              "          if (!dataTable) return;\n",
              "\n",
              "          const docLinkHtml = 'Like what you see? Visit the ' +\n",
              "            '<a target=\"_blank\" href=https://colab.research.google.com/notebooks/data_table.ipynb>data table notebook</a>'\n",
              "            + ' to learn more about interactive tables.';\n",
              "          element.innerHTML = '';\n",
              "          dataTable['output_type'] = 'display_data';\n",
              "          await google.colab.output.renderOutput(dataTable, element);\n",
              "          const docLink = document.createElement('div');\n",
              "          docLink.innerHTML = docLinkHtml;\n",
              "          element.appendChild(docLink);\n",
              "        }\n",
              "      </script>\n",
              "    </div>\n",
              "  </div>\n",
              "  "
            ]
          },
          "metadata": {},
          "execution_count": 28
        }
      ]
    },
    {
      "cell_type": "code",
      "source": [
        "X.head()"
      ],
      "metadata": {
        "colab": {
          "base_uri": "https://localhost:8080/",
          "height": 299
        },
        "id": "p0JTpzH3-v2U",
        "outputId": "eb2d6a83-d70f-401a-be34-927f63bd8066"
      },
      "execution_count": null,
      "outputs": [
        {
          "output_type": "execute_result",
          "data": {
            "text/plain": [
              "         x1        x2        x3        x4        x5        x6   x7   x8   x9  \\\n",
              "0  1.397395  0.996346 -1.105624 -0.879606  0.308569 -1.023402  1.0  0.0  0.0   \n",
              "1  0.269033  0.196818  0.383828  0.161703 -0.629189  1.460832  1.0  0.0  1.0   \n",
              "2  1.051537  1.795874 -1.105624  0.161703 -0.629189  0.963985  1.0  0.0  1.0   \n",
              "3  0.662446  0.196818 -0.733261 -0.879606  0.371086 -0.692171  1.0  0.0  0.0   \n",
              "4  0.856992  1.795874  0.011465 -0.879606  0.558638  0.301522  0.0  1.0  1.0   \n",
              "\n",
              "   x10  ...  x22  x23  x24  x25       ycf       ite  propensity_score  \\\n",
              "0  0.0  ...  0.0  0.0  0.0  1.0 -0.298509  4.657928          0.999997   \n",
              "1  0.0  ...  0.0  0.0  0.0  0.0  5.783770  3.428604          0.034572   \n",
              "2  1.0  ...  0.0  0.0  0.0  1.0  7.055789  3.658195          0.000083   \n",
              "3  0.0  ...  0.0  0.0  0.0  0.0  1.379697  4.585505          0.999260   \n",
              "4  0.0  ...  0.0  0.0  0.0  0.0  2.747986  4.265591          0.998032   \n",
              "\n",
              "   propensity_score_logit   outcome  treatment  \n",
              "0               12.765907  4.771232        1.0  \n",
              "1               -3.329532  2.956273        0.0  \n",
              "2               -9.399404  4.164164        0.0  \n",
              "3                7.208792  6.172307        1.0  \n",
              "4                6.228637  7.834469        1.0  \n",
              "\n",
              "[5 rows x 31 columns]"
            ],
            "text/html": [
              "\n",
              "  <div id=\"df-a61cac96-9450-45ed-8b86-e28ecf578cfa\">\n",
              "    <div class=\"colab-df-container\">\n",
              "      <div>\n",
              "<style scoped>\n",
              "    .dataframe tbody tr th:only-of-type {\n",
              "        vertical-align: middle;\n",
              "    }\n",
              "\n",
              "    .dataframe tbody tr th {\n",
              "        vertical-align: top;\n",
              "    }\n",
              "\n",
              "    .dataframe thead th {\n",
              "        text-align: right;\n",
              "    }\n",
              "</style>\n",
              "<table border=\"1\" class=\"dataframe\">\n",
              "  <thead>\n",
              "    <tr style=\"text-align: right;\">\n",
              "      <th></th>\n",
              "      <th>x1</th>\n",
              "      <th>x2</th>\n",
              "      <th>x3</th>\n",
              "      <th>x4</th>\n",
              "      <th>x5</th>\n",
              "      <th>x6</th>\n",
              "      <th>x7</th>\n",
              "      <th>x8</th>\n",
              "      <th>x9</th>\n",
              "      <th>x10</th>\n",
              "      <th>...</th>\n",
              "      <th>x22</th>\n",
              "      <th>x23</th>\n",
              "      <th>x24</th>\n",
              "      <th>x25</th>\n",
              "      <th>ycf</th>\n",
              "      <th>ite</th>\n",
              "      <th>propensity_score</th>\n",
              "      <th>propensity_score_logit</th>\n",
              "      <th>outcome</th>\n",
              "      <th>treatment</th>\n",
              "    </tr>\n",
              "  </thead>\n",
              "  <tbody>\n",
              "    <tr>\n",
              "      <th>0</th>\n",
              "      <td>1.397395</td>\n",
              "      <td>0.996346</td>\n",
              "      <td>-1.105624</td>\n",
              "      <td>-0.879606</td>\n",
              "      <td>0.308569</td>\n",
              "      <td>-1.023402</td>\n",
              "      <td>1.0</td>\n",
              "      <td>0.0</td>\n",
              "      <td>0.0</td>\n",
              "      <td>0.0</td>\n",
              "      <td>...</td>\n",
              "      <td>0.0</td>\n",
              "      <td>0.0</td>\n",
              "      <td>0.0</td>\n",
              "      <td>1.0</td>\n",
              "      <td>-0.298509</td>\n",
              "      <td>4.657928</td>\n",
              "      <td>0.999997</td>\n",
              "      <td>12.765907</td>\n",
              "      <td>4.771232</td>\n",
              "      <td>1.0</td>\n",
              "    </tr>\n",
              "    <tr>\n",
              "      <th>1</th>\n",
              "      <td>0.269033</td>\n",
              "      <td>0.196818</td>\n",
              "      <td>0.383828</td>\n",
              "      <td>0.161703</td>\n",
              "      <td>-0.629189</td>\n",
              "      <td>1.460832</td>\n",
              "      <td>1.0</td>\n",
              "      <td>0.0</td>\n",
              "      <td>1.0</td>\n",
              "      <td>0.0</td>\n",
              "      <td>...</td>\n",
              "      <td>0.0</td>\n",
              "      <td>0.0</td>\n",
              "      <td>0.0</td>\n",
              "      <td>0.0</td>\n",
              "      <td>5.783770</td>\n",
              "      <td>3.428604</td>\n",
              "      <td>0.034572</td>\n",
              "      <td>-3.329532</td>\n",
              "      <td>2.956273</td>\n",
              "      <td>0.0</td>\n",
              "    </tr>\n",
              "    <tr>\n",
              "      <th>2</th>\n",
              "      <td>1.051537</td>\n",
              "      <td>1.795874</td>\n",
              "      <td>-1.105624</td>\n",
              "      <td>0.161703</td>\n",
              "      <td>-0.629189</td>\n",
              "      <td>0.963985</td>\n",
              "      <td>1.0</td>\n",
              "      <td>0.0</td>\n",
              "      <td>1.0</td>\n",
              "      <td>1.0</td>\n",
              "      <td>...</td>\n",
              "      <td>0.0</td>\n",
              "      <td>0.0</td>\n",
              "      <td>0.0</td>\n",
              "      <td>1.0</td>\n",
              "      <td>7.055789</td>\n",
              "      <td>3.658195</td>\n",
              "      <td>0.000083</td>\n",
              "      <td>-9.399404</td>\n",
              "      <td>4.164164</td>\n",
              "      <td>0.0</td>\n",
              "    </tr>\n",
              "    <tr>\n",
              "      <th>3</th>\n",
              "      <td>0.662446</td>\n",
              "      <td>0.196818</td>\n",
              "      <td>-0.733261</td>\n",
              "      <td>-0.879606</td>\n",
              "      <td>0.371086</td>\n",
              "      <td>-0.692171</td>\n",
              "      <td>1.0</td>\n",
              "      <td>0.0</td>\n",
              "      <td>0.0</td>\n",
              "      <td>0.0</td>\n",
              "      <td>...</td>\n",
              "      <td>0.0</td>\n",
              "      <td>0.0</td>\n",
              "      <td>0.0</td>\n",
              "      <td>0.0</td>\n",
              "      <td>1.379697</td>\n",
              "      <td>4.585505</td>\n",
              "      <td>0.999260</td>\n",
              "      <td>7.208792</td>\n",
              "      <td>6.172307</td>\n",
              "      <td>1.0</td>\n",
              "    </tr>\n",
              "    <tr>\n",
              "      <th>4</th>\n",
              "      <td>0.856992</td>\n",
              "      <td>1.795874</td>\n",
              "      <td>0.011465</td>\n",
              "      <td>-0.879606</td>\n",
              "      <td>0.558638</td>\n",
              "      <td>0.301522</td>\n",
              "      <td>0.0</td>\n",
              "      <td>1.0</td>\n",
              "      <td>1.0</td>\n",
              "      <td>0.0</td>\n",
              "      <td>...</td>\n",
              "      <td>0.0</td>\n",
              "      <td>0.0</td>\n",
              "      <td>0.0</td>\n",
              "      <td>0.0</td>\n",
              "      <td>2.747986</td>\n",
              "      <td>4.265591</td>\n",
              "      <td>0.998032</td>\n",
              "      <td>6.228637</td>\n",
              "      <td>7.834469</td>\n",
              "      <td>1.0</td>\n",
              "    </tr>\n",
              "  </tbody>\n",
              "</table>\n",
              "<p>5 rows × 31 columns</p>\n",
              "</div>\n",
              "      <button class=\"colab-df-convert\" onclick=\"convertToInteractive('df-a61cac96-9450-45ed-8b86-e28ecf578cfa')\"\n",
              "              title=\"Convert this dataframe to an interactive table.\"\n",
              "              style=\"display:none;\">\n",
              "        \n",
              "  <svg xmlns=\"http://www.w3.org/2000/svg\" height=\"24px\"viewBox=\"0 0 24 24\"\n",
              "       width=\"24px\">\n",
              "    <path d=\"M0 0h24v24H0V0z\" fill=\"none\"/>\n",
              "    <path d=\"M18.56 5.44l.94 2.06.94-2.06 2.06-.94-2.06-.94-.94-2.06-.94 2.06-2.06.94zm-11 1L8.5 8.5l.94-2.06 2.06-.94-2.06-.94L8.5 2.5l-.94 2.06-2.06.94zm10 10l.94 2.06.94-2.06 2.06-.94-2.06-.94-.94-2.06-.94 2.06-2.06.94z\"/><path d=\"M17.41 7.96l-1.37-1.37c-.4-.4-.92-.59-1.43-.59-.52 0-1.04.2-1.43.59L10.3 9.45l-7.72 7.72c-.78.78-.78 2.05 0 2.83L4 21.41c.39.39.9.59 1.41.59.51 0 1.02-.2 1.41-.59l7.78-7.78 2.81-2.81c.8-.78.8-2.07 0-2.86zM5.41 20L4 18.59l7.72-7.72 1.47 1.35L5.41 20z\"/>\n",
              "  </svg>\n",
              "      </button>\n",
              "      \n",
              "  <style>\n",
              "    .colab-df-container {\n",
              "      display:flex;\n",
              "      flex-wrap:wrap;\n",
              "      gap: 12px;\n",
              "    }\n",
              "\n",
              "    .colab-df-convert {\n",
              "      background-color: #E8F0FE;\n",
              "      border: none;\n",
              "      border-radius: 50%;\n",
              "      cursor: pointer;\n",
              "      display: none;\n",
              "      fill: #1967D2;\n",
              "      height: 32px;\n",
              "      padding: 0 0 0 0;\n",
              "      width: 32px;\n",
              "    }\n",
              "\n",
              "    .colab-df-convert:hover {\n",
              "      background-color: #E2EBFA;\n",
              "      box-shadow: 0px 1px 2px rgba(60, 64, 67, 0.3), 0px 1px 3px 1px rgba(60, 64, 67, 0.15);\n",
              "      fill: #174EA6;\n",
              "    }\n",
              "\n",
              "    [theme=dark] .colab-df-convert {\n",
              "      background-color: #3B4455;\n",
              "      fill: #D2E3FC;\n",
              "    }\n",
              "\n",
              "    [theme=dark] .colab-df-convert:hover {\n",
              "      background-color: #434B5C;\n",
              "      box-shadow: 0px 1px 3px 1px rgba(0, 0, 0, 0.15);\n",
              "      filter: drop-shadow(0px 1px 2px rgba(0, 0, 0, 0.3));\n",
              "      fill: #FFFFFF;\n",
              "    }\n",
              "  </style>\n",
              "\n",
              "      <script>\n",
              "        const buttonEl =\n",
              "          document.querySelector('#df-a61cac96-9450-45ed-8b86-e28ecf578cfa button.colab-df-convert');\n",
              "        buttonEl.style.display =\n",
              "          google.colab.kernel.accessAllowed ? 'block' : 'none';\n",
              "\n",
              "        async function convertToInteractive(key) {\n",
              "          const element = document.querySelector('#df-a61cac96-9450-45ed-8b86-e28ecf578cfa');\n",
              "          const dataTable =\n",
              "            await google.colab.kernel.invokeFunction('convertToInteractive',\n",
              "                                                     [key], {});\n",
              "          if (!dataTable) return;\n",
              "\n",
              "          const docLinkHtml = 'Like what you see? Visit the ' +\n",
              "            '<a target=\"_blank\" href=https://colab.research.google.com/notebooks/data_table.ipynb>data table notebook</a>'\n",
              "            + ' to learn more about interactive tables.';\n",
              "          element.innerHTML = '';\n",
              "          dataTable['output_type'] = 'display_data';\n",
              "          await google.colab.output.renderOutput(dataTable, element);\n",
              "          const docLink = document.createElement('div');\n",
              "          docLink.innerHTML = docLinkHtml;\n",
              "          element.appendChild(docLink);\n",
              "        }\n",
              "      </script>\n",
              "    </div>\n",
              "  </div>\n",
              "  "
            ]
          },
          "metadata": {},
          "execution_count": 29
        }
      ]
    },
    {
      "cell_type": "code",
      "source": [
        "weight_t = 1/data.query(\"t==1\")[\"propensity_score\"]\n",
        "weight_nt = 1/(1-data.query(\"t==0\")[\"propensity_score\"])\n",
        "print(\"Original Sample Size\", data.shape[0])\n",
        "print(\"Treated Population Sample Size\", sum(weight_t))\n",
        "print(\"Untreated Population Sample Size\", sum(weight_nt))"
      ],
      "metadata": {
        "colab": {
          "base_uri": "https://localhost:8080/"
        },
        "id": "mrYAhRD95tlV",
        "outputId": "bbaf277b-d615-4569-e31a-eb091ec5ad92"
      },
      "execution_count": null,
      "outputs": [
        {
          "output_type": "stream",
          "name": "stdout",
          "text": [
            "Original Sample Size 747\n",
            "Treated Population Sample Size 433.24782416275934\n",
            "Untreated Population Sample Size 646.880729659241\n"
          ]
        }
      ]
    },
    {
      "cell_type": "code",
      "source": [
        "weight = ((data[\"t\"]-data[\"propensity_score\"]) /\n",
        "          (data[\"propensity_score\"]*(1-data[\"propensity_score\"])))\n",
        "\n",
        "y1 = sum(data.query(\"t==1\")[\"yf\"]*weight_t) / len(data)\n",
        "y0 = sum(data.query(\"t==0\")[\"yf\"]*weight_nt) / len(data)\n",
        "\n",
        "ate = np.mean(weight * data[\"yf\"])\n",
        "\n",
        "print(\"Y1:\", y1)\n",
        "print(\"Y0:\", y0)\n",
        "print(\"ATE\", np.mean(weight * data[\"yf\"]))"
      ],
      "metadata": {
        "colab": {
          "base_uri": "https://localhost:8080/"
        },
        "id": "5QYXPHPO9Hyi",
        "outputId": "4f482440-a59f-476b-817f-72d5c3455e64"
      },
      "execution_count": null,
      "outputs": [
        {
          "output_type": "stream",
          "name": "stdout",
          "text": [
            "Y1: 4.292500662110738\n",
            "Y0: 2.1651070068849556\n",
            "ATE 2.1273936552257826\n"
          ]
        }
      ]
    },
    {
      "cell_type": "markdown",
      "source": [
        "# 4(c)"
      ],
      "metadata": {
        "id": "9Kgv2WPFDrjs"
      }
    },
    {
      "cell_type": "code",
      "source": [
        "\n",
        "from sklearn.model_selection import train_test_split, GridSearchCV, cross_val_score, RepeatedStratifiedKFold, StratifiedKFold\n"
      ],
      "metadata": {
        "id": "h5-EuzvcIlzR"
      },
      "execution_count": null,
      "outputs": []
    },
    {
      "cell_type": "code",
      "source": [
        "\n",
        "# define model\n",
        "lg2 = RandomForestRegressor(min_weight_fraction_leaf=0.1)\n",
        "# fit it\n",
        "lg2.fit(X_train,y_train)\n",
        "# test\n",
        "y_pred = lg2.predict(X_test)\n",
        "# performance\n",
        "# Predict on test data\n",
        "prediction = lg2.predict(X_test)\n",
        "# Compute mean squared error\n",
        "mse = mean_squared_error(y_test, prediction)\n",
        "# Print results\n",
        "print(mse)\n",
        "\n",
        "rmse = mse**.5\n",
        "print(rmse)"
      ],
      "metadata": {
        "colab": {
          "base_uri": "https://localhost:8080/"
        },
        "id": "pmSUSUGuEINV",
        "outputId": "102640cd-3c42-449e-a048-402a68bcf6f5"
      },
      "execution_count": null,
      "outputs": [
        {
          "output_type": "stream",
          "name": "stdout",
          "text": [
            "0.96763950389801\n",
            "0.9836866899058917\n"
          ]
        }
      ]
    },
    {
      "cell_type": "code",
      "source": [
        "# define weight hyperparameter\n",
        "w = [0.1,0.2,0.3,0.4,0.5 ]\n",
        "hyperparam_grid = {\"min_weight_fraction_leaf\": w }"
      ],
      "metadata": {
        "id": "qDewgTrRIMQm"
      },
      "execution_count": null,
      "outputs": []
    },
    {
      "cell_type": "code",
      "source": [
        "# define model\n",
        "lg3 = RandomForestRegressor(min_weight_fraction_leaf=0.1)\n",
        "# define evaluation procedure\n",
        "grid = GridSearchCV(lg3, hyperparam_grid, cv=10, n_jobs=-1)\n",
        "grid.fit(X_train, y_train)\n"
      ],
      "metadata": {
        "colab": {
          "base_uri": "https://localhost:8080/"
        },
        "id": "C0G3OLDgIQ64",
        "outputId": "f20ed018-7958-4544-9c5a-030df29f5159"
      },
      "execution_count": null,
      "outputs": [
        {
          "output_type": "execute_result",
          "data": {
            "text/plain": [
              "GridSearchCV(cv=10,\n",
              "             estimator=RandomForestRegressor(min_weight_fraction_leaf=0.1),\n",
              "             n_jobs=-1,\n",
              "             param_grid={'min_weight_fraction_leaf': [0.1, 0.2, 0.3, 0.4, 0.5]})"
            ]
          },
          "metadata": {},
          "execution_count": 35
        }
      ]
    },
    {
      "cell_type": "code",
      "source": [
        "grid.best_params_"
      ],
      "metadata": {
        "colab": {
          "base_uri": "https://localhost:8080/"
        },
        "id": "Ili-al8TkY_U",
        "outputId": "bf60a33c-4d7f-41dd-8c82-c382387719d1"
      },
      "execution_count": null,
      "outputs": [
        {
          "output_type": "execute_result",
          "data": {
            "text/plain": [
              "{'min_weight_fraction_leaf': 0.1}"
            ]
          },
          "metadata": {},
          "execution_count": 36
        }
      ]
    },
    {
      "cell_type": "code",
      "source": [
        "# define model\n",
        "lg3 = RandomForestRegressor(random_state=42,min_weight_fraction_leaf=0.1)\n",
        "# fit it\n",
        "lg3.fit(X_train,y_train)\n",
        "# test\n",
        "y_pred = lg3.predict(X_test)\n",
        "# performance\n",
        "\n",
        "# Predict on test data\n",
        "prediction = lg3.predict(X_test)\n",
        "# Compute mean squared error\n",
        "mse = mean_squared_error(y_test, prediction)\n",
        "# Print results\n",
        "print(mse)\n",
        "\n",
        "rmse = mse**.5\n",
        "print(rmse)\n"
      ],
      "metadata": {
        "colab": {
          "base_uri": "https://localhost:8080/"
        },
        "id": "fz6jZbuPIRjM",
        "outputId": "6042d6a7-e99e-4191-a6c2-fcf5dca7bd5f"
      },
      "execution_count": null,
      "outputs": [
        {
          "output_type": "stream",
          "name": "stdout",
          "text": [
            "0.9725956472942363\n",
            "0.9862026400766915\n"
          ]
        }
      ]
    },
    {
      "cell_type": "markdown",
      "source": [
        "# 5(a,b,c)"
      ],
      "metadata": {
        "id": "Mvzzh0sXMa_d"
      }
    },
    {
      "cell_type": "code",
      "source": [
        "!pip install dowhy"
      ],
      "metadata": {
        "colab": {
          "base_uri": "https://localhost:8080/"
        },
        "id": "Yt8EPWN-NTRq",
        "outputId": "c67bd96f-259b-41f1-d068-f2daff4a2eb3"
      },
      "execution_count": null,
      "outputs": [
        {
          "output_type": "stream",
          "name": "stdout",
          "text": [
            "Requirement already satisfied: dowhy in /usr/local/lib/python3.7/dist-packages (0.7.1)\n",
            "Requirement already satisfied: statsmodels in /usr/local/lib/python3.7/dist-packages (from dowhy) (0.10.2)\n",
            "Requirement already satisfied: pandas>=0.24 in /usr/local/lib/python3.7/dist-packages (from dowhy) (1.3.5)\n",
            "Requirement already satisfied: numpy>=1.15 in /usr/local/lib/python3.7/dist-packages (from dowhy) (1.21.6)\n",
            "Requirement already satisfied: scikit-learn in /usr/local/lib/python3.7/dist-packages (from dowhy) (1.0.2)\n",
            "Requirement already satisfied: networkx>=2.0 in /usr/local/lib/python3.7/dist-packages (from dowhy) (2.6.3)\n",
            "Requirement already satisfied: pydot>=1.4 in /usr/local/lib/python3.7/dist-packages (from dowhy) (1.4.2)\n",
            "Requirement already satisfied: scipy in /usr/local/lib/python3.7/dist-packages (from dowhy) (1.4.1)\n",
            "Requirement already satisfied: sympy>=1.4 in /usr/local/lib/python3.7/dist-packages (from dowhy) (1.7.1)\n",
            "Requirement already satisfied: pytz>=2017.3 in /usr/local/lib/python3.7/dist-packages (from pandas>=0.24->dowhy) (2022.1)\n",
            "Requirement already satisfied: python-dateutil>=2.7.3 in /usr/local/lib/python3.7/dist-packages (from pandas>=0.24->dowhy) (2.8.2)\n",
            "Requirement already satisfied: pyparsing>=2.1.4 in /usr/local/lib/python3.7/dist-packages (from pydot>=1.4->dowhy) (3.0.8)\n",
            "Requirement already satisfied: six>=1.5 in /usr/local/lib/python3.7/dist-packages (from python-dateutil>=2.7.3->pandas>=0.24->dowhy) (1.15.0)\n",
            "Requirement already satisfied: mpmath>=0.19 in /usr/local/lib/python3.7/dist-packages (from sympy>=1.4->dowhy) (1.2.1)\n",
            "Requirement already satisfied: threadpoolctl>=2.0.0 in /usr/local/lib/python3.7/dist-packages (from scikit-learn->dowhy) (3.1.0)\n",
            "Requirement already satisfied: joblib>=0.11 in /usr/local/lib/python3.7/dist-packages (from scikit-learn->dowhy) (1.1.0)\n",
            "Requirement already satisfied: patsy>=0.4.0 in /usr/local/lib/python3.7/dist-packages (from statsmodels->dowhy) (0.5.2)\n"
          ]
        }
      ]
    },
    {
      "cell_type": "code",
      "source": [
        "from dowhy import CausalModel\n",
        "from IPython.display import Image, display"
      ],
      "metadata": {
        "id": "mWL9s9UrMck0"
      },
      "execution_count": null,
      "outputs": []
    },
    {
      "cell_type": "code",
      "source": [
        "df.columns"
      ],
      "metadata": {
        "colab": {
          "base_uri": "https://localhost:8080/"
        },
        "id": "XD3f95s3SAec",
        "outputId": "87be8408-1c05-46cd-c337-14de3ebb49fc"
      },
      "execution_count": null,
      "outputs": [
        {
          "output_type": "execute_result",
          "data": {
            "text/plain": [
              "Index(['x1', 'x2', 'x3', 'x4', 'x5', 'x6', 'x7', 'x8', 'x9', 'x10', 'x11',\n",
              "       'x12', 'x13', 'x14', 'x15', 'x16', 'x17', 'x18', 'x19', 'x20', 'x21',\n",
              "       'x22', 'x23', 'x24', 'x25', 't', 'yf', 'ycf', 'ite'],\n",
              "      dtype='object')"
            ]
          },
          "metadata": {},
          "execution_count": 40
        }
      ]
    },
    {
      "cell_type": "code",
      "source": [
        "df.dtypes"
      ],
      "metadata": {
        "colab": {
          "base_uri": "https://localhost:8080/"
        },
        "id": "b9g-cV60UAJF",
        "outputId": "b12b2c29-35a1-4c59-df50-839d4a184f4e"
      },
      "execution_count": null,
      "outputs": [
        {
          "output_type": "execute_result",
          "data": {
            "text/plain": [
              "x1     float64\n",
              "x2     float64\n",
              "x3     float64\n",
              "x4     float64\n",
              "x5     float64\n",
              "x6     float64\n",
              "x7     float64\n",
              "x8     float64\n",
              "x9     float64\n",
              "x10    float64\n",
              "x11    float64\n",
              "x12    float64\n",
              "x13    float64\n",
              "x14    float64\n",
              "x15    float64\n",
              "x16    float64\n",
              "x17    float64\n",
              "x18    float64\n",
              "x19    float64\n",
              "x20    float64\n",
              "x21    float64\n",
              "x22    float64\n",
              "x23    float64\n",
              "x24    float64\n",
              "x25    float64\n",
              "t      float64\n",
              "yf     float64\n",
              "ycf    float64\n",
              "ite    float64\n",
              "dtype: object"
            ]
          },
          "metadata": {},
          "execution_count": 41
        }
      ]
    },
    {
      "cell_type": "code",
      "source": [
        "df.columns"
      ],
      "metadata": {
        "colab": {
          "base_uri": "https://localhost:8080/"
        },
        "id": "3vMHiFd4p2l4",
        "outputId": "0b4e3255-7a79-486c-b7f7-e8b0dcec273c"
      },
      "execution_count": null,
      "outputs": [
        {
          "output_type": "execute_result",
          "data": {
            "text/plain": [
              "Index(['x1', 'x2', 'x3', 'x4', 'x5', 'x6', 'x7', 'x8', 'x9', 'x10', 'x11',\n",
              "       'x12', 'x13', 'x14', 'x15', 'x16', 'x17', 'x18', 'x19', 'x20', 'x21',\n",
              "       'x22', 'x23', 'x24', 'x25', 't', 'yf', 'ycf', 'ite'],\n",
              "      dtype='object')"
            ]
          },
          "metadata": {},
          "execution_count": 46
        }
      ]
    },
    {
      "cell_type": "code",
      "source": [
        "treatment = 't'\n",
        "outcome = 'yf'\n",
        "\n",
        "features = ['x1', 'x2', 'x3', 'x4', 'x5', 'x6', 'x7', 'x8', 'x9', 'x10', 'x11',\n",
        "       'x12', 'x13', 'x14', 'x15', 'x16', 'x17', 'x18', 'x19', 'x20', 'x21',\n",
        "       'x22', 'x23', 'x24', 'x25']\n"
      ],
      "metadata": {
        "id": "Vw_Lh3zdNB0v"
      },
      "execution_count": null,
      "outputs": []
    },
    {
      "cell_type": "code",
      "source": [
        "model = CausalModel(\n",
        "    data=df,\n",
        "    treatment=treatment, \n",
        "    outcome=outcome, \n",
        "    common_causes=features, \n",
        "    instruments=None, \n",
        "    effect_modifiers=None)\n",
        "\n",
        "model.view_model()\n",
        "display(Image(filename=\"causal_model.png\"))"
      ],
      "metadata": {
        "colab": {
          "base_uri": "https://localhost:8080/",
          "height": 789
        },
        "id": "Ut2Xs0DGNcyw",
        "outputId": "65ffb294-baf4-49c2-bf8a-b8f945290e1f"
      },
      "execution_count": null,
      "outputs": [
        {
          "output_type": "display_data",
          "data": {
            "text/plain": [
              "<IPython.core.display.Image object>"
            ],
            "image/png": "[encoded data removed]"
          },
          "metadata": {}
        },
        {
          "output_type": "display_data",
          "data": {
            "text/plain": [
              "<Figure size 576x432 with 1 Axes>"
            ],
            "image/png": "[encoded data removed]"
          },
          "metadata": {}
        }
      ]
    },
    {
      "cell_type": "code",
      "source": [
        "\n",
        "# split data into train and test sets \n",
        "train, test = train_test_split(df, test_size=0.2)\n",
        "\n",
        "# set variables for causal forest Y=outcome, T=treatment, X=features, W=effect_modifiers \n",
        "Y = train[outcome]\n",
        "T = train[treatment]\n",
        "X = train[features]\n",
        "W = None\n",
        "X_test = test[features]"
      ],
      "metadata": {
        "id": "RYaU_HswNc1j"
      },
      "execution_count": null,
      "outputs": []
    },
    {
      "cell_type": "code",
      "source": [
        "!pip install econml"
      ],
      "metadata": {
        "id": "vNZ6NLgfUjN4",
        "colab": {
          "base_uri": "https://localhost:8080/",
          "height": 938
        },
        "outputId": "5400d465-214e-4827-da02-d88cd133f872"
      },
      "execution_count": null,
      "outputs": [
        {
          "output_type": "stream",
          "name": "stdout",
          "text": [
            "Collecting econml\n",
            "  Downloading econml-0.13.0-cp37-cp37m-manylinux_2_17_x86_64.manylinux2014_x86_64.whl (3.3 MB)\n",
            "\u001b[K     |████████████████████████████████| 3.3 MB 5.5 MB/s \n",
            "\u001b[?25hCollecting shap<0.40.0,>=0.38.1\n",
            "  Downloading shap-0.39.0.tar.gz (356 kB)\n",
            "\u001b[K     |████████████████████████████████| 356 kB 52.1 MB/s \n",
            "\u001b[?25hRequirement already satisfied: joblib>=0.13.0 in /usr/local/lib/python3.7/dist-packages (from econml) (1.1.0)\n",
            "Requirement already satisfied: scikit-learn>0.22.0 in /usr/local/lib/python3.7/dist-packages (from econml) (1.0.2)\n",
            "Collecting dowhy<0.7\n",
            "  Downloading dowhy-0.6-py3-none-any.whl (123 kB)\n",
            "\u001b[K     |████████████████████████████████| 123 kB 63.3 MB/s \n",
            "\u001b[?25hRequirement already satisfied: statsmodels>=0.10 in /usr/local/lib/python3.7/dist-packages (from econml) (0.10.2)\n",
            "Requirement already satisfied: scipy>1.4.0 in /usr/local/lib/python3.7/dist-packages (from econml) (1.4.1)\n",
            "Requirement already satisfied: lightgbm in /usr/local/lib/python3.7/dist-packages (from econml) (2.2.3)\n",
            "Collecting sparse\n",
            "  Downloading sparse-0.13.0-py2.py3-none-any.whl (77 kB)\n",
            "\u001b[K     |████████████████████████████████| 77 kB 5.5 MB/s \n",
            "\u001b[?25hRequirement already satisfied: numpy in /usr/local/lib/python3.7/dist-packages (from econml) (1.21.6)\n",
            "Requirement already satisfied: pandas in /usr/local/lib/python3.7/dist-packages (from econml) (1.3.5)\n",
            "Requirement already satisfied: sympy>=1.4 in /usr/local/lib/python3.7/dist-packages (from dowhy<0.7->econml) (1.7.1)\n",
            "Requirement already satisfied: pydot>=1.4 in /usr/local/lib/python3.7/dist-packages (from dowhy<0.7->econml) (1.4.2)\n",
            "Requirement already satisfied: networkx>=2.0 in /usr/local/lib/python3.7/dist-packages (from dowhy<0.7->econml) (2.6.3)\n",
            "Requirement already satisfied: pytz>=2017.3 in /usr/local/lib/python3.7/dist-packages (from pandas->econml) (2022.1)\n",
            "Requirement already satisfied: python-dateutil>=2.7.3 in /usr/local/lib/python3.7/dist-packages (from pandas->econml) (2.8.2)\n",
            "Requirement already satisfied: pyparsing>=2.1.4 in /usr/local/lib/python3.7/dist-packages (from pydot>=1.4->dowhy<0.7->econml) (3.0.8)\n",
            "Requirement already satisfied: six>=1.5 in /usr/local/lib/python3.7/dist-packages (from python-dateutil>=2.7.3->pandas->econml) (1.15.0)\n",
            "Requirement already satisfied: threadpoolctl>=2.0.0 in /usr/local/lib/python3.7/dist-packages (from scikit-learn>0.22.0->econml) (3.1.0)\n",
            "Requirement already satisfied: tqdm>4.25.0 in /usr/local/lib/python3.7/dist-packages (from shap<0.40.0,>=0.38.1->econml) (4.64.0)\n",
            "Collecting slicer==0.0.7\n",
            "  Downloading slicer-0.0.7-py3-none-any.whl (14 kB)\n",
            "Requirement already satisfied: numba in /usr/local/lib/python3.7/dist-packages (from shap<0.40.0,>=0.38.1->econml) (0.51.2)\n",
            "Requirement already satisfied: cloudpickle in /usr/local/lib/python3.7/dist-packages (from shap<0.40.0,>=0.38.1->econml) (1.3.0)\n",
            "Requirement already satisfied: patsy>=0.4.0 in /usr/local/lib/python3.7/dist-packages (from statsmodels>=0.10->econml) (0.5.2)\n",
            "Requirement already satisfied: mpmath>=0.19 in /usr/local/lib/python3.7/dist-packages (from sympy>=1.4->dowhy<0.7->econml) (1.2.1)\n",
            "Requirement already satisfied: setuptools in /usr/local/lib/python3.7/dist-packages (from numba->shap<0.40.0,>=0.38.1->econml) (57.4.0)\n",
            "Requirement already satisfied: llvmlite<0.35,>=0.34.0.dev0 in /usr/local/lib/python3.7/dist-packages (from numba->shap<0.40.0,>=0.38.1->econml) (0.34.0)\n",
            "Building wheels for collected packages: shap\n",
            "  Building wheel for shap (setup.py) ... \u001b[?25l\u001b[?25hdone\n",
            "  Created wheel for shap: filename=shap-0.39.0-cp37-cp37m-linux_x86_64.whl size=491678 sha256=499aaaaf51362c2930ec3f3ded8225ebd7bb9f1131008748793c7bfc16e423df\n",
            "  Stored in directory: /root/.cache/pip/wheels/ca/25/8f/6ae5df62c32651cd719e972e738a8aaa4a87414c4d2b14c9c0\n",
            "Successfully built shap\n",
            "Installing collected packages: slicer, sparse, shap, dowhy, econml\n",
            "  Attempting uninstall: dowhy\n",
            "    Found existing installation: dowhy 0.7.1\n",
            "    Uninstalling dowhy-0.7.1:\n",
            "      Successfully uninstalled dowhy-0.7.1\n",
            "Successfully installed dowhy-0.6 econml-0.13.0 shap-0.39.0 slicer-0.0.7 sparse-0.13.0\n"
          ]
        },
        {
          "output_type": "display_data",
          "data": {
            "application/vnd.colab-display-data+json": {
              "pip_warning": {
                "packages": [
                  "dowhy"
                ]
              }
            }
          },
          "metadata": {}
        }
      ]
    },
    {
      "cell_type": "code",
      "source": [
        "from econml.dml import CausalForestDML\n",
        "from sklearn.linear_model import LassoCV\n",
        "\n",
        "# set parameters for causal forest \n",
        "causal_forest = CausalForestDML(criterion='het', \n",
        "                                n_estimators=10000,       \n",
        "                                min_samples_leaf=10, \n",
        "                                max_depth=None, \n",
        "                                max_samples=0.5,\n",
        "                                discrete_treatment=False,\n",
        "                                honest=True,\n",
        "                                inference=True,\n",
        "                                cv=10,\n",
        "                                model_t=LassoCV(), \n",
        "                                model_y=LassoCV(),\n",
        "                                )\n",
        "                      \n",
        "# fit train data to causal forest model \n",
        "causal_forest.fit(Y, T, X=X, W=W)\n",
        "# estimate the CATE with the test set \n",
        "causal_forest.const_marginal_ate(X_test)"
      ],
      "metadata": {
        "colab": {
          "base_uri": "https://localhost:8080/",
          "height": 38
        },
        "id": "yyZ2RbcqNc43",
        "outputId": "3dc8f333-96bd-4ed8-da82-ca4f57fe666e"
      },
      "execution_count": null,
      "outputs": [
        {
          "output_type": "execute_result",
          "data": {
            "text/plain": [
              "3.9242706146195383"
            ],
            "image/png": "[encoded data removed]",
            "text/latex": "$\\displaystyle 3.92427061461954$"
          },
          "metadata": {},
          "execution_count": 52
        }
      ]
    },
    {
      "cell_type": "code",
      "source": [
        "effects_train = causal_forest.effect(X)\n",
        "effects_test = causal_forest.effect(X_test)\n",
        "conf_intrvl = causal_forest.effect_interval(X_test)"
      ],
      "metadata": {
        "id": "4Y1MqPx7VQyk"
      },
      "execution_count": null,
      "outputs": []
    },
    {
      "cell_type": "code",
      "source": [
        "effects_train"
      ],
      "metadata": {
        "colab": {
          "base_uri": "https://localhost:8080/"
        },
        "id": "Q5qarkTyqJU2",
        "outputId": "8e4561b9-a140-442b-f9f6-e44bff6708f8"
      },
      "execution_count": null,
      "outputs": [
        {
          "output_type": "execute_result",
          "data": {
            "text/plain": [
              "array([4.13845531, 4.3720357 , 3.84020982, 4.07260306, 4.05214781,\n",
              "       4.1694236 , 4.10073229, 4.13306444, 4.09490069, 4.23119854,\n",
              "       4.21376825, 4.1528801 , 2.90763736, 4.25548364, 2.37423709,\n",
              "       4.51091129, 4.47032835, 3.42356154, 4.26446666, 4.30491054,\n",
              "       4.33974771, 4.13310636, 4.09004747, 4.3242547 , 4.06655222,\n",
              "       4.36576022, 4.18755609, 2.50485999, 3.91276983, 2.47105735,\n",
              "       4.27317242, 4.45109529, 4.30269084, 3.2896977 , 4.12640389,\n",
              "       2.46682443, 4.08987687, 4.34564833, 4.12846075, 4.18306841,\n",
              "       4.19624022, 4.19044247, 4.18401207, 2.85469286, 4.29121016,\n",
              "       4.52869973, 4.27394402, 4.1440754 , 4.4908311 , 4.10406324,\n",
              "       4.27587722, 4.21069801, 4.26961086, 4.32125321, 4.22727899,\n",
              "       4.3422437 , 2.75680761, 4.32279349, 4.17738176, 4.29128065,\n",
              "       4.16162608, 4.16373418, 4.10623927, 2.59917925, 4.34997061,\n",
              "       4.25914432, 4.24382159, 3.77594128, 4.11357414, 4.15336368,\n",
              "       4.14781502, 2.54331696, 4.49403261, 3.85492154, 3.94205082,\n",
              "       4.22940256, 4.27593096, 4.2696593 , 4.26599878, 4.35120218,\n",
              "       4.20021903, 2.56508513, 4.31057612, 3.99424787, 4.27009965,\n",
              "       4.15701084, 4.48108001, 4.2857115 , 4.26269468, 4.25409808,\n",
              "       4.20165826, 3.45685621, 4.3995775 , 4.46521152, 4.23823612,\n",
              "       3.77295446, 4.08440222, 4.1027761 , 4.31604134, 4.05361717,\n",
              "       4.2585916 , 4.20008996, 4.26560931, 2.91606301, 2.39409732,\n",
              "       2.38503365, 2.55347971, 2.43889251, 4.20656194, 4.32041612,\n",
              "       4.16801722, 4.26046958, 4.44612145, 4.27730778, 3.96329217,\n",
              "       4.08080204, 4.28490847, 4.11978505, 2.46914889, 2.43601304,\n",
              "       4.30516785, 2.4010683 , 4.21090178, 4.10248135, 4.160603  ,\n",
              "       4.03032454, 4.26749678, 3.44302821, 4.12888281, 3.6494106 ,\n",
              "       4.18613535, 3.84486073, 4.42897427, 4.21352025, 4.4765349 ,\n",
              "       4.37011393, 4.45525376, 3.41111662, 3.36882769, 4.20956581,\n",
              "       4.25971871, 4.12949906, 4.24492933, 4.45847003, 3.38418891,\n",
              "       4.42074914, 4.11997372, 4.16962244, 4.2011264 , 4.23093896,\n",
              "       4.1832938 , 4.02300652, 4.27665687, 4.16385559, 4.13311963,\n",
              "       4.53819138, 4.2457398 , 2.49514486, 4.14497254, 4.10389236,\n",
              "       3.44588171, 4.10017291, 4.25291147, 2.49029922, 4.1554358 ,\n",
              "       4.19278464, 4.2331873 , 4.18347988, 3.96582373, 4.33824014,\n",
              "       2.75538234, 4.09740251, 2.91735169, 3.80328912, 4.42690423,\n",
              "       4.07813187, 4.26100106, 4.31178698, 4.26824713, 4.07712317,\n",
              "       4.13747783, 4.10205159, 4.02035883, 2.50702006, 4.04177576,\n",
              "       3.80437502, 2.42924322, 4.32902906, 3.69193885, 4.42098457,\n",
              "       4.0842072 , 4.07041238, 4.23266921, 2.55446089, 4.11170147,\n",
              "       4.29864687, 4.17982331, 3.80019664, 2.42646365, 4.2072643 ,\n",
              "       4.40569294, 4.21433824, 4.14397794, 4.2685943 , 4.03499238,\n",
              "       4.3330303 , 3.50702155, 4.3561099 , 4.27163221, 4.1919241 ,\n",
              "       4.14520655, 4.12466988, 4.46608914, 4.11218023, 4.16324101,\n",
              "       2.43971811, 3.98524826, 2.38915201, 2.88432222, 4.29217769,\n",
              "       4.22614677, 4.05888087, 4.28832335, 4.05235734, 4.47288917,\n",
              "       4.23565616, 4.14146831, 3.39678478, 4.14425851, 4.11635225,\n",
              "       4.14248079, 3.33690813, 4.45411602, 4.4032463 , 4.26992352,\n",
              "       3.42303583, 4.2894504 , 3.80773198, 4.37870766, 4.11119675,\n",
              "       4.28319979, 2.52347352, 4.11794821, 2.43202599, 4.21662486,\n",
              "       4.26315797, 4.120459  , 4.24111454, 4.56237085, 4.19483572,\n",
              "       2.4550585 , 2.49776825, 4.44919152, 4.16031363, 4.32686022,\n",
              "       3.86340054, 4.14660284, 4.32692365, 4.16869208, 4.29101918,\n",
              "       4.11415453, 2.38431908, 4.51273069, 4.16762819, 3.79211695,\n",
              "       4.27536609, 4.19156691, 4.1318139 , 4.19336761, 4.27877374,\n",
              "       4.23650235, 4.26458388, 4.07994435, 2.49256391, 4.15661206,\n",
              "       4.25981089, 3.43025642, 4.19038863, 3.72304537, 4.27393156,\n",
              "       4.19289526, 3.69867169, 4.09152727, 3.89945167, 4.25068772,\n",
              "       3.77177524, 4.04205607, 4.19195466, 4.09831705, 4.08855971,\n",
              "       3.84180803, 4.07180291, 4.21527574, 4.15867882, 3.38723597,\n",
              "       4.17920778, 4.25470963, 4.12919613, 4.24228681, 4.20317402,\n",
              "       4.44239352, 3.93404685, 3.394202  , 4.16871268, 3.8679419 ,\n",
              "       4.20389951, 4.15106524, 4.07265205, 4.10862587, 4.31698588,\n",
              "       4.21821411, 3.94231227, 4.215561  , 4.25156945, 4.53835629,\n",
              "       4.35098179, 4.08334086, 4.25634007, 4.13785275, 4.41857073,\n",
              "       4.41950408, 4.25572409, 4.276625  , 4.2299301 , 4.58550003,\n",
              "       4.11150148, 3.70999084, 4.29026287, 4.06883772, 4.10868082,\n",
              "       4.17819735, 3.74503256, 4.12359532, 4.07362731, 4.29902025,\n",
              "       4.28851085, 4.33357982, 4.12862823, 4.09699722, 4.46136029,\n",
              "       4.2138107 , 2.50934883, 4.11144625, 2.81506034, 4.38736429,\n",
              "       4.18193607, 4.37343099, 4.28868142, 4.27044346, 3.88539189,\n",
              "       4.29126532, 3.34533457, 4.22123984, 4.08247223, 4.0684709 ,\n",
              "       4.02703205, 4.24491151, 2.57143755, 4.14292912, 4.26062204,\n",
              "       2.78487843, 4.35212635, 4.19839239, 4.41395362, 4.23643491,\n",
              "       4.23663066, 4.10384213, 3.38154239, 4.12100715, 4.42540072,\n",
              "       3.75058537, 4.12222252, 4.3435715 , 4.24114283, 4.13220274,\n",
              "       2.47070443, 3.87303849, 4.22956749, 4.10760405, 4.28287474,\n",
              "       4.19304199, 4.31449222, 4.09917512, 4.24998043, 2.55728645,\n",
              "       4.27049913, 4.41018673, 3.4167261 , 4.11828652, 2.8035339 ,\n",
              "       4.35772166, 4.21746678, 4.23602804, 2.58365033, 2.56240091,\n",
              "       4.12647184, 2.89348065, 2.93278311, 3.96873104, 4.1612287 ,\n",
              "       4.3569964 , 4.17958138, 2.47138335, 4.32585278, 4.31222379,\n",
              "       4.27595174, 4.39483314, 3.68097811, 4.11299728, 4.18721721,\n",
              "       4.18370064, 4.20935329, 4.17438458, 4.00744106, 4.1976293 ,\n",
              "       4.28590495, 4.06827855, 2.58241559, 3.85231651, 4.32290017,\n",
              "       3.97450762, 4.28074812, 2.4275933 , 4.38920074, 4.4068443 ,\n",
              "       2.56234084, 4.35438511, 4.08573605, 4.11390726, 4.3031802 ,\n",
              "       4.26887481, 4.08886939, 4.12302749, 4.18262421, 3.94712875,\n",
              "       4.46625637, 4.2387768 , 4.30524121, 4.46176511, 4.25067533,\n",
              "       2.47935321, 4.18828189, 2.51056302, 2.42442723, 2.50593688,\n",
              "       4.14232234, 4.09250004, 4.19048465, 3.85489511, 2.46844581,\n",
              "       3.8233478 , 4.39403394, 3.47190301, 4.17311035, 4.31938792,\n",
              "       4.22754248, 2.45869164, 4.29875755, 4.16795596, 4.23657061,\n",
              "       3.997889  , 4.18916019, 4.26241908, 3.72899004, 4.05955006,\n",
              "       2.5795007 , 3.3935259 , 4.4501706 , 4.09071335, 2.53790853,\n",
              "       2.91534158, 3.99771734, 4.49891665, 3.81004336, 4.18860989,\n",
              "       4.22740154, 4.18151734, 4.44845187, 3.86821011, 4.06314696,\n",
              "       4.40155668, 4.18768352, 4.16607858, 4.29351914, 3.41400033,\n",
              "       3.96433742, 3.45501385, 2.4614137 , 4.0581297 , 3.37844831,\n",
              "       4.1245033 , 4.30718604, 2.62213296, 3.92333789, 4.48365763,\n",
              "       4.22119287, 2.48383353, 4.16100174, 4.22090367, 2.62964628,\n",
              "       4.2629044 , 4.22024953, 4.19956269, 4.11949591, 4.27287448,\n",
              "       4.15197516, 4.36050616, 4.14076016, 4.20551699, 4.3952199 ,\n",
              "       3.79990334, 4.12985017, 3.39181991, 4.26678389, 4.33075309,\n",
              "       4.51957888, 2.40617692, 4.47173631, 4.18639069, 3.88616224,\n",
              "       2.47553367, 4.12414453, 4.38839008, 4.19921571, 4.09854341,\n",
              "       2.51127539, 4.17561933, 3.95782841, 4.35146872, 4.25657097,\n",
              "       4.57509161, 3.98545604, 4.4579807 , 4.13825808, 3.88474568,\n",
              "       3.94717045, 4.17836618, 3.7382523 , 2.56610824, 4.29379028,\n",
              "       4.3927916 , 4.20811269, 2.44666559, 4.11811467, 4.06798593,\n",
              "       4.1525094 , 4.19605091, 4.28221043, 4.24758391, 4.25364427,\n",
              "       3.77826784, 4.13899257, 4.49257804, 3.8481862 , 4.11307719,\n",
              "       4.19150819, 4.32274146, 3.44499724, 4.2779231 , 3.74051475,\n",
              "       4.25202513, 4.05557405, 4.15314914, 4.14723207, 3.80753772,\n",
              "       4.21526287, 2.85441873, 4.18168638, 2.89123801, 4.36144179,\n",
              "       4.15461284, 2.54523737, 4.46824917, 2.44024512, 4.23089888,\n",
              "       4.36422871, 4.20449799, 2.86918985, 4.25413885, 4.33096376,\n",
              "       3.93754609, 4.19835644, 2.7936747 , 4.24713974, 3.88692796,\n",
              "       2.37413175, 4.27939623, 4.38221855, 4.1438206 , 2.46751812,\n",
              "       4.09749928, 3.80770399, 3.78603629, 4.15180054, 4.13289105,\n",
              "       2.46943951, 2.57599927])"
            ]
          },
          "metadata": {},
          "execution_count": 54
        }
      ]
    },
    {
      "cell_type": "code",
      "source": [
        "type(effects_test)"
      ],
      "metadata": {
        "colab": {
          "base_uri": "https://localhost:8080/"
        },
        "id": "_qEtiCSHqMQM",
        "outputId": "904be540-8e79-4990-c15f-275cef0399e5"
      },
      "execution_count": null,
      "outputs": [
        {
          "output_type": "execute_result",
          "data": {
            "text/plain": [
              "numpy.ndarray"
            ]
          },
          "metadata": {},
          "execution_count": 70
        }
      ]
    },
    {
      "cell_type": "code",
      "source": [
        "series"
      ],
      "metadata": {
        "colab": {
          "base_uri": "https://localhost:8080/"
        },
        "id": "BBXUUKnSsCHJ",
        "outputId": "8dde60c0-b0d1-4024-9899-0e815d82a087"
      },
      "execution_count": null,
      "outputs": [
        {
          "output_type": "execute_result",
          "data": {
            "text/plain": [
              "0      3.748490\n",
              "1      3.803899\n",
              "2      4.264542\n",
              "3      3.383744\n",
              "4      2.436759\n",
              "         ...   \n",
              "145    4.282576\n",
              "146    4.162217\n",
              "147    4.187459\n",
              "148    4.448937\n",
              "149    4.189584\n",
              "Length: 150, dtype: float64"
            ]
          },
          "metadata": {},
          "execution_count": 78
        }
      ]
    },
    {
      "cell_type": "code",
      "source": [
        "\n",
        "true_pred=pd.Series(test.yf)"
      ],
      "metadata": {
        "id": "SPql8_EYqfZB"
      },
      "execution_count": null,
      "outputs": []
    },
    {
      "cell_type": "code",
      "source": [
        "true_pred=true_pred.to_numpy(dtype ='float32')"
      ],
      "metadata": {
        "id": "I4FJu4JDsoTn"
      },
      "execution_count": null,
      "outputs": []
    },
    {
      "cell_type": "code",
      "source": [
        "conf_intrvl"
      ],
      "metadata": {
        "colab": {
          "base_uri": "https://localhost:8080/"
        },
        "id": "_WIawL73qNYb",
        "outputId": "969942aa-14f6-4ee9-d92a-375649e1d22f"
      },
      "execution_count": null,
      "outputs": [
        {
          "output_type": "execute_result",
          "data": {
            "text/plain": [
              "(array([3.1144485 , 3.27549138, 3.9019577 , 2.65212488, 1.63483499,\n",
              "        3.75292892, 2.12914242, 4.08899658, 2.72519112, 3.78563683,\n",
              "        3.93764239, 3.8338941 , 3.43886066, 1.77539771, 2.16251853,\n",
              "        3.96402214, 3.90583424, 3.19961915, 3.85256118, 3.83859631,\n",
              "        4.01884222, 1.68653866, 3.2852666 , 3.9934628 , 4.00342805,\n",
              "        3.20587702, 3.57679816, 3.82492895, 3.80188056, 3.86300387,\n",
              "        3.81969941, 3.59593438, 3.90074544, 3.58019221, 2.03982746,\n",
              "        3.8174321 , 4.11920591, 1.61733301, 3.74990941, 3.78029746,\n",
              "        3.66325414, 3.66187683, 4.06661397, 3.37933703, 3.84993259,\n",
              "        3.76672999, 3.26136008, 3.9391745 , 3.98764582, 3.92704941,\n",
              "        3.82751037, 3.75590011, 1.75526655, 1.79434999, 1.67138799,\n",
              "        3.97590825, 3.65094237, 4.0201032 , 3.90991299, 3.76503479,\n",
              "        3.87929667, 3.72502223, 1.63336885, 1.76564394, 3.92240654,\n",
              "        3.27493847, 4.00909278, 3.31131803, 3.85691124, 1.7873165 ,\n",
              "        3.19301509, 3.70337837, 1.66928569, 4.03609945, 3.84110465,\n",
              "        3.22431129, 3.90673846, 3.83143127, 3.97882812, 3.74682013,\n",
              "        3.90672508, 3.93121216, 3.7763612 , 3.5667517 , 3.27830915,\n",
              "        3.22328219, 2.67761795, 1.68608993, 3.79065252, 4.00330053,\n",
              "        3.84332915, 3.66435281, 3.86877351, 3.2512352 , 3.84846597,\n",
              "        3.86340119, 3.64439775, 2.20553029, 2.67603502, 3.98833867,\n",
              "        3.73200394, 3.88495471, 3.86142487, 4.00423736, 1.66616896,\n",
              "        3.76381529, 3.99271726, 3.76260008, 4.05358655, 3.89048614,\n",
              "        3.91393529, 4.09410614, 3.82521226, 3.8943878 , 2.12218245,\n",
              "        3.90694705, 2.01124114, 3.82927235, 3.88779186, 3.23992076,\n",
              "        3.81228431, 3.86195398, 3.25964313, 3.87326323, 2.6446139 ,\n",
              "        4.05472201, 3.72678919, 3.79884489, 3.70811579, 3.94186652,\n",
              "        1.76661483, 3.70020038, 1.81947687, 2.65251034, 3.76876701,\n",
              "        3.94794299, 3.84455245, 3.69454202, 3.82190418, 3.75259484,\n",
              "        1.9764429 , 3.94697887, 3.97451193, 3.80644092, 3.19948391,\n",
              "        3.84692697, 3.74441678, 3.7829301 , 4.08218028, 3.85347951]),\n",
              " array([4.38253235, 4.33230613, 4.62712651, 4.11536246, 3.23868389,\n",
              "        4.73840956, 3.60913438, 5.0534408 , 4.17080904, 4.5179927 ,\n",
              "        4.5977188 , 4.44930844, 4.54168187, 3.35280234, 3.66729456,\n",
              "        4.76553635, 4.62526108, 4.53189262, 4.5537392 , 4.67206823,\n",
              "        4.73634354, 3.3556345 , 4.45182609, 4.78487488, 4.78171025,\n",
              "        4.46785053, 4.70580116, 4.46579912, 4.65718622, 4.54026641,\n",
              "        4.62257205, 4.58254559, 4.5377836 , 4.50929747, 3.57439737,\n",
              "        4.55595616, 4.88259764, 3.15284622, 4.55656203, 4.6845197 ,\n",
              "        4.5726935 , 4.55467192, 4.73375319, 4.35474667, 4.45221863,\n",
              "        4.62937678, 4.42630022, 4.71977178, 4.72473701, 4.70225396,\n",
              "        4.72575342, 4.54619887, 3.36069387, 3.27637751, 3.2233413 ,\n",
              "        4.71410846, 4.56186929, 4.65989177, 4.50812979, 4.61373391,\n",
              "        4.49564073, 4.67768914, 3.26075661, 3.25648038, 4.5919931 ,\n",
              "        4.4191921 , 4.80957181, 4.43460216, 4.45902441, 3.44003122,\n",
              "        4.3585612 , 4.53837403, 3.24508528, 4.86956031, 4.54149391,\n",
              "        4.35689827, 4.575252  , 4.59590264, 4.77823166, 4.59799874,\n",
              "        4.68010958, 4.59338641, 4.57377551, 4.53869428, 4.4712935 ,\n",
              "        4.34367923, 4.25075367, 3.23788784, 4.664823  , 4.75840997,\n",
              "        4.63652931, 4.54711963, 4.75009727, 4.41787312, 4.59041293,\n",
              "        4.70733357, 4.58264101, 3.7260417 , 4.21523958, 4.64475697,\n",
              "        4.55423124, 4.51981776, 4.62767899, 4.8107665 , 3.24344959,\n",
              "        4.64960595, 4.68887547, 4.57560224, 4.77241057, 4.54037065,\n",
              "        4.73390065, 4.88792415, 4.48147854, 4.7274359 , 3.63762265,\n",
              "        4.80336916, 3.59564958, 4.56672011, 4.60062868, 4.4441577 ,\n",
              "        4.55985152, 4.43407725, 4.39191104, 4.71337361, 4.19441105,\n",
              "        4.78636983, 4.64702981, 4.42209651, 4.53548756, 4.73563908,\n",
              "        3.22993675, 4.50410778, 3.36110824, 4.12073276, 4.61291541,\n",
              "        4.76330451, 4.55834123, 4.54996793, 4.66870568, 4.66500477,\n",
              "        3.51326056, 4.69080167, 4.6495165 , 4.46467948, 4.49988143,\n",
              "        4.71822588, 4.58001705, 4.59198848, 4.81569449, 4.52568754]))"
            ]
          },
          "metadata": {},
          "execution_count": 60
        }
      ]
    },
    {
      "cell_type": "code",
      "source": [
        ""
      ],
      "metadata": {
        "id": "Htfq7D_wx0AP"
      },
      "execution_count": null,
      "outputs": []
    }
  ]
}