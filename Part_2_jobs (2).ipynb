{
  "cells": [
    {
      "cell_type": "code",
      "execution_count": 1,
      "metadata": {
        "id": "ah15rr1RhnAY"
      },
      "outputs": [],
      "source": [
        "import numpy as np\n",
        "import pandas as pd\n",
        "import matplotlib.pyplot as plt\n",
        "import seaborn as sns\n",
        "\n",
        "import warnings\n",
        "warnings.filterwarnings('ignore')"
      ]
    },
    {
      "cell_type": "code",
      "execution_count": 2,
      "metadata": {
        "id": "A6cIMVMWClXf",
        "colab": {
          "base_uri": "https://localhost:8080/"
        },
        "outputId": "aeaf4c0a-4942-4027-9ba3-88f43c05aa3a"
      },
      "outputs": [
        {
          "output_type": "stream",
          "name": "stdout",
          "text": [
            "Requirement already satisfied: causalinference in /usr/local/lib/python3.7/dist-packages (0.1.3)\n"
          ]
        }
      ],
      "source": [
        "!pip install causalinference"
      ]
    },
    {
      "cell_type": "code",
      "execution_count": 3,
      "metadata": {
        "id": "pA-e-gcQicX4"
      },
      "outputs": [],
      "source": [
        "data=pd.read_csv('jobs.csv')"
      ]
    },
    {
      "cell_type": "code",
      "execution_count": 4,
      "metadata": {
        "id": "DWS0FHsGiqSz",
        "colab": {
          "base_uri": "https://localhost:8080/",
          "height": 270
        },
        "outputId": "55626e7f-b2b6-4421-d724-fa10f688adb4"
      },
      "outputs": [
        {
          "output_type": "execute_result",
          "data": {
            "text/plain": [
              "         x1        x2   x3   x4   x5   x6        x7        x8        x9  \\\n",
              "0 -0.614282  1.464727  0.0  0.0  1.0  0.0  2.393250  2.746196 -0.653311   \n",
              "1 -0.802463  0.101835  0.0  0.0  1.0  0.0  0.109885  0.498271 -0.785284   \n",
              "2 -0.896553 -0.238888  1.0  0.0  1.0  1.0 -0.085212 -0.148097 -0.847312   \n",
              "3 -0.896553 -0.238888  0.0  0.0  0.0  1.0  0.405581  0.325594 -0.847312   \n",
              "4  0.138440 -1.601779  1.0  0.0  1.0  1.0 -0.722531 -0.212734 -0.019840   \n",
              "\n",
              "        x10       x11       x12       x13  x14  x15       x16  x17    t    y  \\\n",
              "0 -0.656913  1.627531  2.462337  2.937244  0.0  0.0  2.843909  0.0  0.0  1.0   \n",
              "1 -0.743407 -0.022502 -0.177193  0.082537  0.0  0.0  0.038422  0.0  0.0  1.0   \n",
              "2 -0.781606 -0.361348 -0.286221 -0.303615  0.0  0.0 -0.191304  0.0  0.0  1.0   \n",
              "3 -0.781606 -0.361348  0.023020 -0.039630  0.0  0.0  0.173108  0.0  0.0  1.0   \n",
              "4 -0.156019 -1.422084 -0.514563 -0.331552  0.0  0.0 -0.779227  0.0  0.0  1.0   \n",
              "\n",
              "     e  \n",
              "0  0.0  \n",
              "1  0.0  \n",
              "2  0.0  \n",
              "3  1.0  \n",
              "4  0.0  "
            ],
            "text/html": [
              "\n",
              "  <div id=\"df-5e79f3cc-50b8-4952-8373-856868620711\">\n",
              "    <div class=\"colab-df-container\">\n",
              "      <div>\n",
              "<style scoped>\n",
              "    .dataframe tbody tr th:only-of-type {\n",
              "        vertical-align: middle;\n",
              "    }\n",
              "\n",
              "    .dataframe tbody tr th {\n",
              "        vertical-align: top;\n",
              "    }\n",
              "\n",
              "    .dataframe thead th {\n",
              "        text-align: right;\n",
              "    }\n",
              "</style>\n",
              "<table border=\"1\" class=\"dataframe\">\n",
              "  <thead>\n",
              "    <tr style=\"text-align: right;\">\n",
              "      <th></th>\n",
              "      <th>x1</th>\n",
              "      <th>x2</th>\n",
              "      <th>x3</th>\n",
              "      <th>x4</th>\n",
              "      <th>x5</th>\n",
              "      <th>x6</th>\n",
              "      <th>x7</th>\n",
              "      <th>x8</th>\n",
              "      <th>x9</th>\n",
              "      <th>x10</th>\n",
              "      <th>x11</th>\n",
              "      <th>x12</th>\n",
              "      <th>x13</th>\n",
              "      <th>x14</th>\n",
              "      <th>x15</th>\n",
              "      <th>x16</th>\n",
              "      <th>x17</th>\n",
              "      <th>t</th>\n",
              "      <th>y</th>\n",
              "      <th>e</th>\n",
              "    </tr>\n",
              "  </thead>\n",
              "  <tbody>\n",
              "    <tr>\n",
              "      <th>0</th>\n",
              "      <td>-0.614282</td>\n",
              "      <td>1.464727</td>\n",
              "      <td>0.0</td>\n",
              "      <td>0.0</td>\n",
              "      <td>1.0</td>\n",
              "      <td>0.0</td>\n",
              "      <td>2.393250</td>\n",
              "      <td>2.746196</td>\n",
              "      <td>-0.653311</td>\n",
              "      <td>-0.656913</td>\n",
              "      <td>1.627531</td>\n",
              "      <td>2.462337</td>\n",
              "      <td>2.937244</td>\n",
              "      <td>0.0</td>\n",
              "      <td>0.0</td>\n",
              "      <td>2.843909</td>\n",
              "      <td>0.0</td>\n",
              "      <td>0.0</td>\n",
              "      <td>1.0</td>\n",
              "      <td>0.0</td>\n",
              "    </tr>\n",
              "    <tr>\n",
              "      <th>1</th>\n",
              "      <td>-0.802463</td>\n",
              "      <td>0.101835</td>\n",
              "      <td>0.0</td>\n",
              "      <td>0.0</td>\n",
              "      <td>1.0</td>\n",
              "      <td>0.0</td>\n",
              "      <td>0.109885</td>\n",
              "      <td>0.498271</td>\n",
              "      <td>-0.785284</td>\n",
              "      <td>-0.743407</td>\n",
              "      <td>-0.022502</td>\n",
              "      <td>-0.177193</td>\n",
              "      <td>0.082537</td>\n",
              "      <td>0.0</td>\n",
              "      <td>0.0</td>\n",
              "      <td>0.038422</td>\n",
              "      <td>0.0</td>\n",
              "      <td>0.0</td>\n",
              "      <td>1.0</td>\n",
              "      <td>0.0</td>\n",
              "    </tr>\n",
              "    <tr>\n",
              "      <th>2</th>\n",
              "      <td>-0.896553</td>\n",
              "      <td>-0.238888</td>\n",
              "      <td>1.0</td>\n",
              "      <td>0.0</td>\n",
              "      <td>1.0</td>\n",
              "      <td>1.0</td>\n",
              "      <td>-0.085212</td>\n",
              "      <td>-0.148097</td>\n",
              "      <td>-0.847312</td>\n",
              "      <td>-0.781606</td>\n",
              "      <td>-0.361348</td>\n",
              "      <td>-0.286221</td>\n",
              "      <td>-0.303615</td>\n",
              "      <td>0.0</td>\n",
              "      <td>0.0</td>\n",
              "      <td>-0.191304</td>\n",
              "      <td>0.0</td>\n",
              "      <td>0.0</td>\n",
              "      <td>1.0</td>\n",
              "      <td>0.0</td>\n",
              "    </tr>\n",
              "    <tr>\n",
              "      <th>3</th>\n",
              "      <td>-0.896553</td>\n",
              "      <td>-0.238888</td>\n",
              "      <td>0.0</td>\n",
              "      <td>0.0</td>\n",
              "      <td>0.0</td>\n",
              "      <td>1.0</td>\n",
              "      <td>0.405581</td>\n",
              "      <td>0.325594</td>\n",
              "      <td>-0.847312</td>\n",
              "      <td>-0.781606</td>\n",
              "      <td>-0.361348</td>\n",
              "      <td>0.023020</td>\n",
              "      <td>-0.039630</td>\n",
              "      <td>0.0</td>\n",
              "      <td>0.0</td>\n",
              "      <td>0.173108</td>\n",
              "      <td>0.0</td>\n",
              "      <td>0.0</td>\n",
              "      <td>1.0</td>\n",
              "      <td>1.0</td>\n",
              "    </tr>\n",
              "    <tr>\n",
              "      <th>4</th>\n",
              "      <td>0.138440</td>\n",
              "      <td>-1.601779</td>\n",
              "      <td>1.0</td>\n",
              "      <td>0.0</td>\n",
              "      <td>1.0</td>\n",
              "      <td>1.0</td>\n",
              "      <td>-0.722531</td>\n",
              "      <td>-0.212734</td>\n",
              "      <td>-0.019840</td>\n",
              "      <td>-0.156019</td>\n",
              "      <td>-1.422084</td>\n",
              "      <td>-0.514563</td>\n",
              "      <td>-0.331552</td>\n",
              "      <td>0.0</td>\n",
              "      <td>0.0</td>\n",
              "      <td>-0.779227</td>\n",
              "      <td>0.0</td>\n",
              "      <td>0.0</td>\n",
              "      <td>1.0</td>\n",
              "      <td>0.0</td>\n",
              "    </tr>\n",
              "  </tbody>\n",
              "</table>\n",
              "</div>\n",
              "      <button class=\"colab-df-convert\" onclick=\"convertToInteractive('df-5e79f3cc-50b8-4952-8373-856868620711')\"\n",
              "              title=\"Convert this dataframe to an interactive table.\"\n",
              "              style=\"display:none;\">\n",
              "        \n",
              "  <svg xmlns=\"http://www.w3.org/2000/svg\" height=\"24px\"viewBox=\"0 0 24 24\"\n",
              "       width=\"24px\">\n",
              "    <path d=\"M0 0h24v24H0V0z\" fill=\"none\"/>\n",
              "    <path d=\"M18.56 5.44l.94 2.06.94-2.06 2.06-.94-2.06-.94-.94-2.06-.94 2.06-2.06.94zm-11 1L8.5 8.5l.94-2.06 2.06-.94-2.06-.94L8.5 2.5l-.94 2.06-2.06.94zm10 10l.94 2.06.94-2.06 2.06-.94-2.06-.94-.94-2.06-.94 2.06-2.06.94z\"/><path d=\"M17.41 7.96l-1.37-1.37c-.4-.4-.92-.59-1.43-.59-.52 0-1.04.2-1.43.59L10.3 9.45l-7.72 7.72c-.78.78-.78 2.05 0 2.83L4 21.41c.39.39.9.59 1.41.59.51 0 1.02-.2 1.41-.59l7.78-7.78 2.81-2.81c.8-.78.8-2.07 0-2.86zM5.41 20L4 18.59l7.72-7.72 1.47 1.35L5.41 20z\"/>\n",
              "  </svg>\n",
              "      </button>\n",
              "      \n",
              "  <style>\n",
              "    .colab-df-container {\n",
              "      display:flex;\n",
              "      flex-wrap:wrap;\n",
              "      gap: 12px;\n",
              "    }\n",
              "\n",
              "    .colab-df-convert {\n",
              "      background-color: #E8F0FE;\n",
              "      border: none;\n",
              "      border-radius: 50%;\n",
              "      cursor: pointer;\n",
              "      display: none;\n",
              "      fill: #1967D2;\n",
              "      height: 32px;\n",
              "      padding: 0 0 0 0;\n",
              "      width: 32px;\n",
              "    }\n",
              "\n",
              "    .colab-df-convert:hover {\n",
              "      background-color: #E2EBFA;\n",
              "      box-shadow: 0px 1px 2px rgba(60, 64, 67, 0.3), 0px 1px 3px 1px rgba(60, 64, 67, 0.15);\n",
              "      fill: #174EA6;\n",
              "    }\n",
              "\n",
              "    [theme=dark] .colab-df-convert {\n",
              "      background-color: #3B4455;\n",
              "      fill: #D2E3FC;\n",
              "    }\n",
              "\n",
              "    [theme=dark] .colab-df-convert:hover {\n",
              "      background-color: #434B5C;\n",
              "      box-shadow: 0px 1px 3px 1px rgba(0, 0, 0, 0.15);\n",
              "      filter: drop-shadow(0px 1px 2px rgba(0, 0, 0, 0.3));\n",
              "      fill: #FFFFFF;\n",
              "    }\n",
              "  </style>\n",
              "\n",
              "      <script>\n",
              "        const buttonEl =\n",
              "          document.querySelector('#df-5e79f3cc-50b8-4952-8373-856868620711 button.colab-df-convert');\n",
              "        buttonEl.style.display =\n",
              "          google.colab.kernel.accessAllowed ? 'block' : 'none';\n",
              "\n",
              "        async function convertToInteractive(key) {\n",
              "          const element = document.querySelector('#df-5e79f3cc-50b8-4952-8373-856868620711');\n",
              "          const dataTable =\n",
              "            await google.colab.kernel.invokeFunction('convertToInteractive',\n",
              "                                                     [key], {});\n",
              "          if (!dataTable) return;\n",
              "\n",
              "          const docLinkHtml = 'Like what you see? Visit the ' +\n",
              "            '<a target=\"_blank\" href=https://colab.research.google.com/notebooks/data_table.ipynb>data table notebook</a>'\n",
              "            + ' to learn more about interactive tables.';\n",
              "          element.innerHTML = '';\n",
              "          dataTable['output_type'] = 'display_data';\n",
              "          await google.colab.output.renderOutput(dataTable, element);\n",
              "          const docLink = document.createElement('div');\n",
              "          docLink.innerHTML = docLinkHtml;\n",
              "          element.appendChild(docLink);\n",
              "        }\n",
              "      </script>\n",
              "    </div>\n",
              "  </div>\n",
              "  "
            ]
          },
          "metadata": {},
          "execution_count": 4
        }
      ],
      "source": [
        "data.head()"
      ]
    },
    {
      "cell_type": "code",
      "source": [
        "df=data.copy()"
      ],
      "metadata": {
        "id": "KCqyCo-8SQR6"
      },
      "execution_count": 5,
      "outputs": []
    },
    {
      "cell_type": "code",
      "execution_count": 6,
      "metadata": {
        "id": "tJ56WryPisI3"
      },
      "outputs": [],
      "source": [
        "#Defining the features and the target variable\n",
        "features = data.loc[:, data.columns != 'y']\n",
        "target= data['y'] "
      ]
    },
    {
      "cell_type": "code",
      "execution_count": 6,
      "metadata": {
        "id": "CuEJ_Z4MjZwI"
      },
      "outputs": [],
      "source": [
        ""
      ]
    },
    {
      "cell_type": "markdown",
      "metadata": {
        "id": "X3nCNV5ajt0k"
      },
      "source": [
        "# 3(b)"
      ]
    },
    {
      "cell_type": "code",
      "execution_count": 7,
      "metadata": {
        "id": "kf4tXyy8QsF6"
      },
      "outputs": [],
      "source": [
        "#Splitting the dataset into training(70%), validation(20%) and testing(10%)\n",
        "\n",
        "from sklearn.model_selection import train_test_split\n",
        "\n",
        "X_train, X_test, y_train, y_test = train_test_split(features, target, test_size=0.1, random_state=0)\n",
        "X_train, X_val, y_train, y_val = train_test_split(X_train, y_train, test_size=0.2, random_state=0)"
      ]
    },
    {
      "cell_type": "code",
      "execution_count": 8,
      "metadata": {
        "id": "5ukYapJejdVJ"
      },
      "outputs": [],
      "source": [
        "from sklearn.preprocessing import MinMaxScaler\n",
        "scaler = MinMaxScaler()\n",
        "\n",
        "X_train = scaler.fit_transform(X_train)\n",
        "X_test= scaler.transform(X_test)\n",
        "\n"
      ]
    },
    {
      "cell_type": "code",
      "execution_count": 9,
      "metadata": {
        "id": "gRsvxl88kW7y"
      },
      "outputs": [],
      "source": [
        "from sklearn.metrics import precision_score, recall_score, f1_score, roc_auc_score, accuracy_score, classification_report,confusion_matrix\n",
        "\n",
        "def show_result(model_name, actual_value, predicted_value):\n",
        "    print(model_name)\n",
        "    print(\"accuracy: {}\".format(accuracy_score(actual_value, predicted_value)))\n",
        "    print(\"precision: {}\".format(precision_score(actual_value, predicted_value)))\n",
        "    print(\"recall: {}\".format(recall_score(actual_value, predicted_value)))\n",
        "    print(\"f1: {}\".format(f1_score(actual_value, predicted_value)))"
      ]
    },
    {
      "cell_type": "code",
      "execution_count": 10,
      "metadata": {
        "id": "dNp6VG09kw_E"
      },
      "outputs": [],
      "source": [
        "def print_report(y_train, X_train, model):\n",
        "    probs = np.array([x[-1] for x in model.predict_proba(X_train)])\n",
        "    print('The roc_auc score is {}'.format(roc_auc_score(y_train, probs).round(4)))\n",
        "    print('confusion matrix:')\n",
        "    print(confusion_matrix(y_train, model.predict(X_train)))\n",
        "    print('classification report:')\n",
        "    print(classification_report(y_train, model.predict(X_train)))"
      ]
    },
    {
      "cell_type": "code",
      "execution_count": 10,
      "metadata": {
        "id": "TgCQgAyek1kI"
      },
      "outputs": [],
      "source": [
        ""
      ]
    },
    {
      "cell_type": "markdown",
      "metadata": {
        "id": "bKeuxGymATbJ"
      },
      "source": [
        "# Random forest "
      ]
    },
    {
      "cell_type": "code",
      "execution_count": 11,
      "metadata": {
        "id": "_oZwx9yz3clw",
        "colab": {
          "base_uri": "https://localhost:8080/"
        },
        "outputId": "71fae4e0-719a-4df8-c1fb-fb3293f3b734"
      },
      "outputs": [
        {
          "output_type": "execute_result",
          "data": {
            "text/plain": [
              "RandomForestClassifier(class_weight='balanced', max_depth=10, random_state=0)"
            ]
          },
          "metadata": {},
          "execution_count": 11
        }
      ],
      "source": [
        "from sklearn.ensemble import RandomForestClassifier\n",
        "clf = RandomForestClassifier(max_depth= 10,random_state=0,class_weight=\"balanced\") \n",
        "# training the model\n",
        "clf.fit(X_train,y_train)"
      ]
    },
    {
      "cell_type": "markdown",
      "metadata": {
        "id": "7GbL444dlzvD"
      },
      "source": [
        "# 3(c)"
      ]
    },
    {
      "cell_type": "code",
      "execution_count": 12,
      "metadata": {
        "id": "0n4FXdlP36om",
        "colab": {
          "base_uri": "https://localhost:8080/"
        },
        "outputId": "0255a050-daa1-47ab-9e2d-aaf0bb7c42d8"
      },
      "outputs": [
        {
          "output_type": "stream",
          "name": "stdout",
          "text": [
            "The roc_auc score is 0.833\n",
            "confusion matrix:\n",
            "[[ 19  18]\n",
            " [ 25 260]]\n",
            "classification report:\n",
            "              precision    recall  f1-score   support\n",
            "\n",
            "         0.0       0.43      0.51      0.47        37\n",
            "         1.0       0.94      0.91      0.92       285\n",
            "\n",
            "    accuracy                           0.87       322\n",
            "   macro avg       0.68      0.71      0.70       322\n",
            "weighted avg       0.88      0.87      0.87       322\n",
            "\n"
          ]
        }
      ],
      "source": [
        "print_report(y_test, X_test, clf)"
      ]
    },
    {
      "cell_type": "code",
      "execution_count": 13,
      "metadata": {
        "id": "MSV5cIRzn8WA",
        "colab": {
          "base_uri": "https://localhost:8080/",
          "height": 295
        },
        "outputId": "d30bdc6c-be36-42a7-e656-3d71e0214afe"
      },
      "outputs": [
        {
          "output_type": "display_data",
          "data": {
            "text/plain": [
              "<Figure size 432x288 with 1 Axes>"
            ],
            "image/png": "[encoded data removed]"
          },
          "metadata": {
            "needs_background": "light"
          }
        }
      ],
      "source": [
        "from sklearn.metrics import roc_curve, auc, roc_auc_score\n",
        "pred_prob_dt = clf.predict_proba(X_test)\n",
        "\n",
        "# roc curve for classes\n",
        "fpr = {}\n",
        "tpr = {}\n",
        "thresh ={}\n",
        "n_class = 2\n",
        "\n",
        "\n",
        "for i in range(n_class):    \n",
        "  fpr[i], tpr[i], thresh[i] = roc_curve(y_test, pred_prob_dt[:,i], pos_label=i)\n",
        "  # plotting    \n",
        "plt.plot(fpr[0], tpr[0], linestyle='--',color='orange', label='Class 0 vs Rest')\n",
        "plt.plot(fpr[1], tpr[1], linestyle='--',color='green', label='Class 1 vs Rest')\n",
        "\n",
        "plt.title('Binaryclass ROC curve')\n",
        "plt.xlabel('False Positive Rate')\n",
        "plt.ylabel('True Positive rate')\n",
        "plt.legend(loc='best')\n",
        "plt.savefig('Binaryclass ROC',dpi=300);    "
      ]
    },
    {
      "cell_type": "markdown",
      "metadata": {
        "id": "qPsM_zHkl4F-"
      },
      "source": [
        "# 3(d) and (e)"
      ]
    },
    {
      "cell_type": "code",
      "execution_count": 14,
      "metadata": {
        "id": "VzsdzfSHlUnE",
        "colab": {
          "base_uri": "https://localhost:8080/"
        },
        "outputId": "4716ad87-47af-463d-bed2-fd5c11bb2ed1"
      },
      "outputs": [
        {
          "output_type": "stream",
          "name": "stdout",
          "text": [
            "The best roc_auc: 0.864, with the best value of C: {'max_features': 'auto', 'min_samples_split': 2, 'n_estimators': 110}\n"
          ]
        }
      ],
      "source": [
        "from sklearn.model_selection import GridSearchCV\n",
        "parameters = {\n",
        "    'n_estimators': [90,100,110,120,130],\n",
        "    'max_features': ['auto', 'sqrt'],\n",
        "    'min_samples_split': [2, 6, 10],\n",
        "}\n",
        "\n",
        "clf_new = GridSearchCV(clf, parameters, cv=10, n_jobs=-1)\n",
        "clf_new.fit(X_train, y_train)\n",
        "\n",
        "print('The best roc_auc: {:.3}, with the best value of C: {}'.format(clf_new.best_score_, clf_new.best_params_))"
      ]
    },
    {
      "cell_type": "code",
      "execution_count": 15,
      "metadata": {
        "id": "k06dTOfFnpw4",
        "colab": {
          "base_uri": "https://localhost:8080/"
        },
        "outputId": "16f82fcd-2684-45cd-e88c-31a091f176c2"
      },
      "outputs": [
        {
          "output_type": "execute_result",
          "data": {
            "text/plain": [
              "RandomForestClassifier(class_weight='balanced', n_estimators=110)"
            ]
          },
          "metadata": {},
          "execution_count": 15
        }
      ],
      "source": [
        "clf_updated = RandomForestClassifier(max_features= \"auto\", min_samples_split= 2, n_estimators= 110,class_weight=\"balanced\") \n",
        "# training the model\n",
        "clf_updated.fit(X_train,y_train)"
      ]
    },
    {
      "cell_type": "code",
      "execution_count": 16,
      "metadata": {
        "id": "D3eGBvI-nuno",
        "colab": {
          "base_uri": "https://localhost:8080/"
        },
        "outputId": "920b864d-8eba-4b6f-df4d-38164acab9d5"
      },
      "outputs": [
        {
          "output_type": "stream",
          "name": "stdout",
          "text": [
            "The roc_auc score is 0.7588\n",
            "confusion matrix:\n",
            "[[ 12  25]\n",
            " [ 16 269]]\n",
            "classification report:\n",
            "              precision    recall  f1-score   support\n",
            "\n",
            "         0.0       0.43      0.32      0.37        37\n",
            "         1.0       0.91      0.94      0.93       285\n",
            "\n",
            "    accuracy                           0.87       322\n",
            "   macro avg       0.67      0.63      0.65       322\n",
            "weighted avg       0.86      0.87      0.86       322\n",
            "\n"
          ]
        }
      ],
      "source": [
        "print_report(y_test, X_test, clf_updated)"
      ]
    },
    {
      "cell_type": "code",
      "execution_count": 17,
      "metadata": {
        "id": "RxQVc8qTp0nN",
        "colab": {
          "base_uri": "https://localhost:8080/",
          "height": 295
        },
        "outputId": "64031f04-3eac-42ca-c07f-5e0822e5645c"
      },
      "outputs": [
        {
          "output_type": "display_data",
          "data": {
            "text/plain": [
              "<Figure size 432x288 with 1 Axes>"
            ],
            "image/png": "[encoded data removed]"
          },
          "metadata": {
            "needs_background": "light"
          }
        }
      ],
      "source": [
        "pred_prob_dt = clf_updated.predict_proba(X_test)\n",
        "\n",
        "# roc curve for classes\n",
        "fpr = {}\n",
        "tpr = {}\n",
        "thresh ={}\n",
        "n_class = 2\n",
        "\n",
        "\n",
        "for i in range(n_class):    \n",
        "  fpr[i], tpr[i], thresh[i] = roc_curve(y_test, pred_prob_dt[:,i], pos_label=i)\n",
        "  # plotting    \n",
        "plt.plot(fpr[0], tpr[0], linestyle='--',color='orange', label='Class 0 vs Rest')\n",
        "plt.plot(fpr[1], tpr[1], linestyle='--',color='green', label='Class 1 vs Rest')\n",
        "\n",
        "plt.title('Binaryclass ROC curve')\n",
        "plt.xlabel('False Positive Rate')\n",
        "plt.ylabel('True Positive rate')\n",
        "plt.legend(loc='best')\n",
        "plt.savefig('Binaryclass ROC',dpi=300);  "
      ]
    },
    {
      "cell_type": "markdown",
      "metadata": {
        "id": "d2K4AY2Q011h"
      },
      "source": [
        "# 3(f)"
      ]
    },
    {
      "cell_type": "code",
      "execution_count": 18,
      "metadata": {
        "id": "vswTEL7CnurM",
        "colab": {
          "base_uri": "https://localhost:8080/",
          "height": 282
        },
        "outputId": "be95043a-f066-4fe0-d79f-51f5a394810c"
      },
      "outputs": [
        {
          "output_type": "display_data",
          "data": {
            "text/plain": [
              "<Figure size 432x288 with 1 Axes>"
            ],
            "image/png": "[encoded data removed]"
          },
          "metadata": {
            "needs_background": "light"
          }
        },
        {
          "output_type": "display_data",
          "data": {
            "text/plain": [
              "<Figure size 432x288 with 0 Axes>"
            ]
          },
          "metadata": {}
        }
      ],
      "source": [
        "feature_importance=pd.Series(clf_updated.feature_importances_,index=features.columns)\n",
        "feature_importance.nlargest(10).plot(kind='barh')\n",
        "plt.show()\n",
        "plt.savefig('feature_importance_jobs.png')"
      ]
    },
    {
      "cell_type": "markdown",
      "metadata": {
        "id": "ZNT6ZBtM4dUF"
      },
      "source": [
        "# 4(a)"
      ]
    },
    {
      "cell_type": "code",
      "execution_count": 19,
      "metadata": {
        "id": "tSwVuQbYAYBv",
        "colab": {
          "base_uri": "https://localhost:8080/",
          "height": 143
        },
        "outputId": "c9da8e93-7e62-4037-f85b-cd6a9492fb97"
      },
      "outputs": [
        {
          "output_type": "execute_result",
          "data": {
            "text/plain": [
              "      count      mean       std  min  25%  50%  75%  max\n",
              "t                                                       \n",
              "0.0  2915.0  0.857633  0.349486  0.0  1.0  1.0  1.0  1.0\n",
              "1.0   297.0  0.774411  0.418675  0.0  1.0  1.0  1.0  1.0"
            ],
            "text/html": [
              "\n",
              "  <div id=\"df-8e3a736b-605b-47a7-945e-937d28a497d3\">\n",
              "    <div class=\"colab-df-container\">\n",
              "      <div>\n",
              "<style scoped>\n",
              "    .dataframe tbody tr th:only-of-type {\n",
              "        vertical-align: middle;\n",
              "    }\n",
              "\n",
              "    .dataframe tbody tr th {\n",
              "        vertical-align: top;\n",
              "    }\n",
              "\n",
              "    .dataframe thead th {\n",
              "        text-align: right;\n",
              "    }\n",
              "</style>\n",
              "<table border=\"1\" class=\"dataframe\">\n",
              "  <thead>\n",
              "    <tr style=\"text-align: right;\">\n",
              "      <th></th>\n",
              "      <th>count</th>\n",
              "      <th>mean</th>\n",
              "      <th>std</th>\n",
              "      <th>min</th>\n",
              "      <th>25%</th>\n",
              "      <th>50%</th>\n",
              "      <th>75%</th>\n",
              "      <th>max</th>\n",
              "    </tr>\n",
              "    <tr>\n",
              "      <th>t</th>\n",
              "      <th></th>\n",
              "      <th></th>\n",
              "      <th></th>\n",
              "      <th></th>\n",
              "      <th></th>\n",
              "      <th></th>\n",
              "      <th></th>\n",
              "      <th></th>\n",
              "    </tr>\n",
              "  </thead>\n",
              "  <tbody>\n",
              "    <tr>\n",
              "      <th>0.0</th>\n",
              "      <td>2915.0</td>\n",
              "      <td>0.857633</td>\n",
              "      <td>0.349486</td>\n",
              "      <td>0.0</td>\n",
              "      <td>1.0</td>\n",
              "      <td>1.0</td>\n",
              "      <td>1.0</td>\n",
              "      <td>1.0</td>\n",
              "    </tr>\n",
              "    <tr>\n",
              "      <th>1.0</th>\n",
              "      <td>297.0</td>\n",
              "      <td>0.774411</td>\n",
              "      <td>0.418675</td>\n",
              "      <td>0.0</td>\n",
              "      <td>1.0</td>\n",
              "      <td>1.0</td>\n",
              "      <td>1.0</td>\n",
              "      <td>1.0</td>\n",
              "    </tr>\n",
              "  </tbody>\n",
              "</table>\n",
              "</div>\n",
              "      <button class=\"colab-df-convert\" onclick=\"convertToInteractive('df-8e3a736b-605b-47a7-945e-937d28a497d3')\"\n",
              "              title=\"Convert this dataframe to an interactive table.\"\n",
              "              style=\"display:none;\">\n",
              "        \n",
              "  <svg xmlns=\"http://www.w3.org/2000/svg\" height=\"24px\"viewBox=\"0 0 24 24\"\n",
              "       width=\"24px\">\n",
              "    <path d=\"M0 0h24v24H0V0z\" fill=\"none\"/>\n",
              "    <path d=\"M18.56 5.44l.94 2.06.94-2.06 2.06-.94-2.06-.94-.94-2.06-.94 2.06-2.06.94zm-11 1L8.5 8.5l.94-2.06 2.06-.94-2.06-.94L8.5 2.5l-.94 2.06-2.06.94zm10 10l.94 2.06.94-2.06 2.06-.94-2.06-.94-.94-2.06-.94 2.06-2.06.94z\"/><path d=\"M17.41 7.96l-1.37-1.37c-.4-.4-.92-.59-1.43-.59-.52 0-1.04.2-1.43.59L10.3 9.45l-7.72 7.72c-.78.78-.78 2.05 0 2.83L4 21.41c.39.39.9.59 1.41.59.51 0 1.02-.2 1.41-.59l7.78-7.78 2.81-2.81c.8-.78.8-2.07 0-2.86zM5.41 20L4 18.59l7.72-7.72 1.47 1.35L5.41 20z\"/>\n",
              "  </svg>\n",
              "      </button>\n",
              "      \n",
              "  <style>\n",
              "    .colab-df-container {\n",
              "      display:flex;\n",
              "      flex-wrap:wrap;\n",
              "      gap: 12px;\n",
              "    }\n",
              "\n",
              "    .colab-df-convert {\n",
              "      background-color: #E8F0FE;\n",
              "      border: none;\n",
              "      border-radius: 50%;\n",
              "      cursor: pointer;\n",
              "      display: none;\n",
              "      fill: #1967D2;\n",
              "      height: 32px;\n",
              "      padding: 0 0 0 0;\n",
              "      width: 32px;\n",
              "    }\n",
              "\n",
              "    .colab-df-convert:hover {\n",
              "      background-color: #E2EBFA;\n",
              "      box-shadow: 0px 1px 2px rgba(60, 64, 67, 0.3), 0px 1px 3px 1px rgba(60, 64, 67, 0.15);\n",
              "      fill: #174EA6;\n",
              "    }\n",
              "\n",
              "    [theme=dark] .colab-df-convert {\n",
              "      background-color: #3B4455;\n",
              "      fill: #D2E3FC;\n",
              "    }\n",
              "\n",
              "    [theme=dark] .colab-df-convert:hover {\n",
              "      background-color: #434B5C;\n",
              "      box-shadow: 0px 1px 3px 1px rgba(0, 0, 0, 0.15);\n",
              "      filter: drop-shadow(0px 1px 2px rgba(0, 0, 0, 0.3));\n",
              "      fill: #FFFFFF;\n",
              "    }\n",
              "  </style>\n",
              "\n",
              "      <script>\n",
              "        const buttonEl =\n",
              "          document.querySelector('#df-8e3a736b-605b-47a7-945e-937d28a497d3 button.colab-df-convert');\n",
              "        buttonEl.style.display =\n",
              "          google.colab.kernel.accessAllowed ? 'block' : 'none';\n",
              "\n",
              "        async function convertToInteractive(key) {\n",
              "          const element = document.querySelector('#df-8e3a736b-605b-47a7-945e-937d28a497d3');\n",
              "          const dataTable =\n",
              "            await google.colab.kernel.invokeFunction('convertToInteractive',\n",
              "                                                     [key], {});\n",
              "          if (!dataTable) return;\n",
              "\n",
              "          const docLinkHtml = 'Like what you see? Visit the ' +\n",
              "            '<a target=\"_blank\" href=https://colab.research.google.com/notebooks/data_table.ipynb>data table notebook</a>'\n",
              "            + ' to learn more about interactive tables.';\n",
              "          element.innerHTML = '';\n",
              "          dataTable['output_type'] = 'display_data';\n",
              "          await google.colab.output.renderOutput(dataTable, element);\n",
              "          const docLink = document.createElement('div');\n",
              "          docLink.innerHTML = docLinkHtml;\n",
              "          element.appendChild(docLink);\n",
              "        }\n",
              "      </script>\n",
              "    </div>\n",
              "  </div>\n",
              "  "
            ]
          },
          "metadata": {},
          "execution_count": 19
        }
      ],
      "source": [
        "TREATMENT = 't'\n",
        "OUTCOME = 'y'\n",
        "data.groupby(TREATMENT)[OUTCOME].describe()"
      ]
    },
    {
      "cell_type": "code",
      "execution_count": 20,
      "metadata": {
        "id": "pRBImEmhCiTT"
      },
      "outputs": [],
      "source": [
        "from sklearn.preprocessing import StandardScaler\n",
        "from sklearn.linear_model import LogisticRegression\n",
        "from sklearn.pipeline import Pipeline\n",
        "from sklearn.metrics import roc_auc_score, f1_score\n",
        "from causalinference import CausalModel"
      ]
    },
    {
      "cell_type": "code",
      "execution_count": 21,
      "metadata": {
        "id": "4FVuvFD6Aw8i",
        "colab": {
          "base_uri": "https://localhost:8080/"
        },
        "outputId": "274492eb-780c-4612-ad9a-5adb5b5e3976"
      },
      "outputs": [
        {
          "output_type": "execute_result",
          "data": {
            "text/plain": [
              "Pipeline(steps=[('scaler', StandardScaler()),\n",
              "                ('logistic_classifier', LogisticRegression(C=1000000.0))])"
            ]
          },
          "metadata": {},
          "execution_count": 21
        }
      ],
      "source": [
        "from sklearn.linear_model import LogisticRegression\n",
        "t = data[TREATMENT]\n",
        "X = pd.get_dummies(data.drop(columns=[OUTCOME, TREATMENT]))\n",
        "pipe = Pipeline([\n",
        "    ('scaler', StandardScaler()),\n",
        "    ('logistic_classifier', LogisticRegression(C=1e6))\n",
        "])\n",
        "pipe.fit(X, t)"
      ]
    },
    {
      "cell_type": "code",
      "execution_count": 21,
      "metadata": {
        "id": "6RbETW9LFV5C"
      },
      "outputs": [],
      "source": [
        ""
      ]
    },
    {
      "cell_type": "code",
      "execution_count": 22,
      "metadata": {
        "id": "buvTd-UBEHXM"
      },
      "outputs": [],
      "source": [
        "predictions = pipe.predict_proba(X)\n",
        "predictions_binary = pipe.predict(X)"
      ]
    },
    {
      "cell_type": "code",
      "execution_count": 23,
      "metadata": {
        "id": "iQGnBAPEFZU4",
        "colab": {
          "base_uri": "https://localhost:8080/"
        },
        "outputId": "5161b0b6-8141-4117-8189-0ded8e413ff5"
      },
      "outputs": [
        {
          "output_type": "stream",
          "name": "stdout",
          "text": [
            "Accuracy: 0.9082\n",
            "\n",
            "Confusion matrix:\n",
            "[[2873   42]\n",
            " [ 253   44]]\n",
            "\n",
            "F1 score is: 0.2298\n",
            "precision score is: 0.5116\n",
            "recall score is: 0.1481\n"
          ]
        }
      ],
      "source": [
        "print('Accuracy: {:.4f}\\n'.format(accuracy_score(t, predictions_binary)))\n",
        "print('Confusion matrix:\\n{}\\n'.format(confusion_matrix(t, predictions_binary)))\n",
        "print('F1 score is: {:.4f}'.format(f1_score(t, predictions_binary)))\n",
        "print('precision score is: {:.4f}'.format(precision_score(t, predictions_binary)))\n",
        "print('recall score is: {:.4f}'.format(recall_score(t, predictions_binary)))"
      ]
    },
    {
      "cell_type": "markdown",
      "source": [
        "# 4(b)"
      ],
      "metadata": {
        "id": "cvb2tPOuDmiq"
      }
    },
    {
      "cell_type": "code",
      "execution_count": 24,
      "metadata": {
        "id": "B9iMojcoDMSy"
      },
      "outputs": [],
      "source": [
        "import math\n",
        "\n",
        "def logit(p):\n",
        "    logit_value = math.log(p / (1-p))\n",
        "    return logit_value\n",
        "\n",
        "\n",
        "predictions_logit = np.array([logit(xi) for xi in predictions[:,1]])\n"
      ]
    },
    {
      "cell_type": "code",
      "execution_count": 25,
      "metadata": {
        "id": "kVqbjCgFDjTY",
        "colab": {
          "base_uri": "https://localhost:8080/",
          "height": 424
        },
        "outputId": "a188d4c8-82cf-4fd3-f635-b8ed6044ee68"
      },
      "outputs": [
        {
          "output_type": "display_data",
          "data": {
            "text/plain": [
              "<Figure size 1080x432 with 2 Axes>"
            ],
            "image/png": "[encoded data removed]"
          },
          "metadata": {}
        }
      ],
      "source": [
        "sns.set(rc={'figure.figsize':(15,6)}, font_scale=1.3)\n",
        "fig, ax = plt.subplots(1,2)\n",
        "fig.suptitle('Density distribution plots for propensity score and logit(propensity score).')\n",
        "sns.kdeplot(x = predictions[:,1], hue = t , ax = ax[0])\n",
        "ax[0].set_title('Propensity Score')\n",
        "sns.kdeplot(x = predictions_logit, hue = t , ax = ax[1])\n",
        "ax[1].axvline(-0.4, ls='--')\n",
        "ax[1].set_title('Logit of Propensity Score')\n",
        "plt.show()"
      ]
    },
    {
      "cell_type": "code",
      "execution_count": 26,
      "metadata": {
        "id": "_w9eSOukESS0"
      },
      "outputs": [],
      "source": [
        "common_support = (predictions_logit > -10) & (predictions_logit < 10)\n"
      ]
    },
    {
      "cell_type": "code",
      "execution_count": 27,
      "metadata": {
        "id": "fcrDZ8J8FKyj"
      },
      "outputs": [],
      "source": [
        "data.loc[:,'propensity_score'] = predictions[:,1]\n",
        "data.loc[:,'propensity_score_logit'] = predictions_logit\n",
        "data.loc[:,'outcome'] = target\n",
        "\n",
        "X.loc[:,'propensity_score'] = predictions[:,1]\n",
        "X.loc[:,'propensity_score_logit'] = predictions_logit\n",
        "X.loc[:,'outcome'] = target\n",
        "X.loc[:,'treatment'] = data.t"
      ]
    },
    {
      "cell_type": "code",
      "source": [
        "data.head()"
      ],
      "metadata": {
        "id": "sFm21ufl6WBo",
        "colab": {
          "base_uri": "https://localhost:8080/",
          "height": 299
        },
        "outputId": "09560c14-c98b-473d-bef6-e49b7b9daa86"
      },
      "execution_count": 28,
      "outputs": [
        {
          "output_type": "execute_result",
          "data": {
            "text/plain": [
              "         x1        x2   x3   x4   x5   x6        x7        x8        x9  \\\n",
              "0 -0.614282  1.464727  0.0  0.0  1.0  0.0  2.393250  2.746196 -0.653311   \n",
              "1 -0.802463  0.101835  0.0  0.0  1.0  0.0  0.109885  0.498271 -0.785284   \n",
              "2 -0.896553 -0.238888  1.0  0.0  1.0  1.0 -0.085212 -0.148097 -0.847312   \n",
              "3 -0.896553 -0.238888  0.0  0.0  0.0  1.0  0.405581  0.325594 -0.847312   \n",
              "4  0.138440 -1.601779  1.0  0.0  1.0  1.0 -0.722531 -0.212734 -0.019840   \n",
              "\n",
              "        x10  ...  x14  x15       x16  x17    t    y    e  propensity_score  \\\n",
              "0 -0.656913  ...  0.0  0.0  2.843909  0.0  0.0  1.0  0.0      2.427763e-13   \n",
              "1 -0.743407  ...  0.0  0.0  0.038422  0.0  0.0  1.0  0.0      1.463606e-13   \n",
              "2 -0.781606  ...  0.0  0.0 -0.191304  0.0  0.0  1.0  0.0      7.936031e-14   \n",
              "3 -0.781606  ...  0.0  0.0  0.173108  0.0  0.0  1.0  1.0      3.812975e-01   \n",
              "4 -0.156019  ...  0.0  0.0 -0.779227  0.0  0.0  1.0  0.0      8.919792e-14   \n",
              "\n",
              "   propensity_score_logit  outcome  \n",
              "0              -29.046636      1.0  \n",
              "1              -29.552703      1.0  \n",
              "2              -30.164778      1.0  \n",
              "3               -0.484045      1.0  \n",
              "4              -30.047919      1.0  \n",
              "\n",
              "[5 rows x 23 columns]"
            ],
            "text/html": [
              "\n",
              "  <div id=\"df-4bb007c3-9c04-4f6d-9762-33b48fe89f35\">\n",
              "    <div class=\"colab-df-container\">\n",
              "      <div>\n",
              "<style scoped>\n",
              "    .dataframe tbody tr th:only-of-type {\n",
              "        vertical-align: middle;\n",
              "    }\n",
              "\n",
              "    .dataframe tbody tr th {\n",
              "        vertical-align: top;\n",
              "    }\n",
              "\n",
              "    .dataframe thead th {\n",
              "        text-align: right;\n",
              "    }\n",
              "</style>\n",
              "<table border=\"1\" class=\"dataframe\">\n",
              "  <thead>\n",
              "    <tr style=\"text-align: right;\">\n",
              "      <th></th>\n",
              "      <th>x1</th>\n",
              "      <th>x2</th>\n",
              "      <th>x3</th>\n",
              "      <th>x4</th>\n",
              "      <th>x5</th>\n",
              "      <th>x6</th>\n",
              "      <th>x7</th>\n",
              "      <th>x8</th>\n",
              "      <th>x9</th>\n",
              "      <th>x10</th>\n",
              "      <th>...</th>\n",
              "      <th>x14</th>\n",
              "      <th>x15</th>\n",
              "      <th>x16</th>\n",
              "      <th>x17</th>\n",
              "      <th>t</th>\n",
              "      <th>y</th>\n",
              "      <th>e</th>\n",
              "      <th>propensity_score</th>\n",
              "      <th>propensity_score_logit</th>\n",
              "      <th>outcome</th>\n",
              "    </tr>\n",
              "  </thead>\n",
              "  <tbody>\n",
              "    <tr>\n",
              "      <th>0</th>\n",
              "      <td>-0.614282</td>\n",
              "      <td>1.464727</td>\n",
              "      <td>0.0</td>\n",
              "      <td>0.0</td>\n",
              "      <td>1.0</td>\n",
              "      <td>0.0</td>\n",
              "      <td>2.393250</td>\n",
              "      <td>2.746196</td>\n",
              "      <td>-0.653311</td>\n",
              "      <td>-0.656913</td>\n",
              "      <td>...</td>\n",
              "      <td>0.0</td>\n",
              "      <td>0.0</td>\n",
              "      <td>2.843909</td>\n",
              "      <td>0.0</td>\n",
              "      <td>0.0</td>\n",
              "      <td>1.0</td>\n",
              "      <td>0.0</td>\n",
              "      <td>2.427763e-13</td>\n",
              "      <td>-29.046636</td>\n",
              "      <td>1.0</td>\n",
              "    </tr>\n",
              "    <tr>\n",
              "      <th>1</th>\n",
              "      <td>-0.802463</td>\n",
              "      <td>0.101835</td>\n",
              "      <td>0.0</td>\n",
              "      <td>0.0</td>\n",
              "      <td>1.0</td>\n",
              "      <td>0.0</td>\n",
              "      <td>0.109885</td>\n",
              "      <td>0.498271</td>\n",
              "      <td>-0.785284</td>\n",
              "      <td>-0.743407</td>\n",
              "      <td>...</td>\n",
              "      <td>0.0</td>\n",
              "      <td>0.0</td>\n",
              "      <td>0.038422</td>\n",
              "      <td>0.0</td>\n",
              "      <td>0.0</td>\n",
              "      <td>1.0</td>\n",
              "      <td>0.0</td>\n",
              "      <td>1.463606e-13</td>\n",
              "      <td>-29.552703</td>\n",
              "      <td>1.0</td>\n",
              "    </tr>\n",
              "    <tr>\n",
              "      <th>2</th>\n",
              "      <td>-0.896553</td>\n",
              "      <td>-0.238888</td>\n",
              "      <td>1.0</td>\n",
              "      <td>0.0</td>\n",
              "      <td>1.0</td>\n",
              "      <td>1.0</td>\n",
              "      <td>-0.085212</td>\n",
              "      <td>-0.148097</td>\n",
              "      <td>-0.847312</td>\n",
              "      <td>-0.781606</td>\n",
              "      <td>...</td>\n",
              "      <td>0.0</td>\n",
              "      <td>0.0</td>\n",
              "      <td>-0.191304</td>\n",
              "      <td>0.0</td>\n",
              "      <td>0.0</td>\n",
              "      <td>1.0</td>\n",
              "      <td>0.0</td>\n",
              "      <td>7.936031e-14</td>\n",
              "      <td>-30.164778</td>\n",
              "      <td>1.0</td>\n",
              "    </tr>\n",
              "    <tr>\n",
              "      <th>3</th>\n",
              "      <td>-0.896553</td>\n",
              "      <td>-0.238888</td>\n",
              "      <td>0.0</td>\n",
              "      <td>0.0</td>\n",
              "      <td>0.0</td>\n",
              "      <td>1.0</td>\n",
              "      <td>0.405581</td>\n",
              "      <td>0.325594</td>\n",
              "      <td>-0.847312</td>\n",
              "      <td>-0.781606</td>\n",
              "      <td>...</td>\n",
              "      <td>0.0</td>\n",
              "      <td>0.0</td>\n",
              "      <td>0.173108</td>\n",
              "      <td>0.0</td>\n",
              "      <td>0.0</td>\n",
              "      <td>1.0</td>\n",
              "      <td>1.0</td>\n",
              "      <td>3.812975e-01</td>\n",
              "      <td>-0.484045</td>\n",
              "      <td>1.0</td>\n",
              "    </tr>\n",
              "    <tr>\n",
              "      <th>4</th>\n",
              "      <td>0.138440</td>\n",
              "      <td>-1.601779</td>\n",
              "      <td>1.0</td>\n",
              "      <td>0.0</td>\n",
              "      <td>1.0</td>\n",
              "      <td>1.0</td>\n",
              "      <td>-0.722531</td>\n",
              "      <td>-0.212734</td>\n",
              "      <td>-0.019840</td>\n",
              "      <td>-0.156019</td>\n",
              "      <td>...</td>\n",
              "      <td>0.0</td>\n",
              "      <td>0.0</td>\n",
              "      <td>-0.779227</td>\n",
              "      <td>0.0</td>\n",
              "      <td>0.0</td>\n",
              "      <td>1.0</td>\n",
              "      <td>0.0</td>\n",
              "      <td>8.919792e-14</td>\n",
              "      <td>-30.047919</td>\n",
              "      <td>1.0</td>\n",
              "    </tr>\n",
              "  </tbody>\n",
              "</table>\n",
              "<p>5 rows × 23 columns</p>\n",
              "</div>\n",
              "      <button class=\"colab-df-convert\" onclick=\"convertToInteractive('df-4bb007c3-9c04-4f6d-9762-33b48fe89f35')\"\n",
              "              title=\"Convert this dataframe to an interactive table.\"\n",
              "              style=\"display:none;\">\n",
              "        \n",
              "  <svg xmlns=\"http://www.w3.org/2000/svg\" height=\"24px\"viewBox=\"0 0 24 24\"\n",
              "       width=\"24px\">\n",
              "    <path d=\"M0 0h24v24H0V0z\" fill=\"none\"/>\n",
              "    <path d=\"M18.56 5.44l.94 2.06.94-2.06 2.06-.94-2.06-.94-.94-2.06-.94 2.06-2.06.94zm-11 1L8.5 8.5l.94-2.06 2.06-.94-2.06-.94L8.5 2.5l-.94 2.06-2.06.94zm10 10l.94 2.06.94-2.06 2.06-.94-2.06-.94-.94-2.06-.94 2.06-2.06.94z\"/><path d=\"M17.41 7.96l-1.37-1.37c-.4-.4-.92-.59-1.43-.59-.52 0-1.04.2-1.43.59L10.3 9.45l-7.72 7.72c-.78.78-.78 2.05 0 2.83L4 21.41c.39.39.9.59 1.41.59.51 0 1.02-.2 1.41-.59l7.78-7.78 2.81-2.81c.8-.78.8-2.07 0-2.86zM5.41 20L4 18.59l7.72-7.72 1.47 1.35L5.41 20z\"/>\n",
              "  </svg>\n",
              "      </button>\n",
              "      \n",
              "  <style>\n",
              "    .colab-df-container {\n",
              "      display:flex;\n",
              "      flex-wrap:wrap;\n",
              "      gap: 12px;\n",
              "    }\n",
              "\n",
              "    .colab-df-convert {\n",
              "      background-color: #E8F0FE;\n",
              "      border: none;\n",
              "      border-radius: 50%;\n",
              "      cursor: pointer;\n",
              "      display: none;\n",
              "      fill: #1967D2;\n",
              "      height: 32px;\n",
              "      padding: 0 0 0 0;\n",
              "      width: 32px;\n",
              "    }\n",
              "\n",
              "    .colab-df-convert:hover {\n",
              "      background-color: #E2EBFA;\n",
              "      box-shadow: 0px 1px 2px rgba(60, 64, 67, 0.3), 0px 1px 3px 1px rgba(60, 64, 67, 0.15);\n",
              "      fill: #174EA6;\n",
              "    }\n",
              "\n",
              "    [theme=dark] .colab-df-convert {\n",
              "      background-color: #3B4455;\n",
              "      fill: #D2E3FC;\n",
              "    }\n",
              "\n",
              "    [theme=dark] .colab-df-convert:hover {\n",
              "      background-color: #434B5C;\n",
              "      box-shadow: 0px 1px 3px 1px rgba(0, 0, 0, 0.15);\n",
              "      filter: drop-shadow(0px 1px 2px rgba(0, 0, 0, 0.3));\n",
              "      fill: #FFFFFF;\n",
              "    }\n",
              "  </style>\n",
              "\n",
              "      <script>\n",
              "        const buttonEl =\n",
              "          document.querySelector('#df-4bb007c3-9c04-4f6d-9762-33b48fe89f35 button.colab-df-convert');\n",
              "        buttonEl.style.display =\n",
              "          google.colab.kernel.accessAllowed ? 'block' : 'none';\n",
              "\n",
              "        async function convertToInteractive(key) {\n",
              "          const element = document.querySelector('#df-4bb007c3-9c04-4f6d-9762-33b48fe89f35');\n",
              "          const dataTable =\n",
              "            await google.colab.kernel.invokeFunction('convertToInteractive',\n",
              "                                                     [key], {});\n",
              "          if (!dataTable) return;\n",
              "\n",
              "          const docLinkHtml = 'Like what you see? Visit the ' +\n",
              "            '<a target=\"_blank\" href=https://colab.research.google.com/notebooks/data_table.ipynb>data table notebook</a>'\n",
              "            + ' to learn more about interactive tables.';\n",
              "          element.innerHTML = '';\n",
              "          dataTable['output_type'] = 'display_data';\n",
              "          await google.colab.output.renderOutput(dataTable, element);\n",
              "          const docLink = document.createElement('div');\n",
              "          docLink.innerHTML = docLinkHtml;\n",
              "          element.appendChild(docLink);\n",
              "        }\n",
              "      </script>\n",
              "    </div>\n",
              "  </div>\n",
              "  "
            ]
          },
          "metadata": {},
          "execution_count": 28
        }
      ]
    },
    {
      "cell_type": "code",
      "source": [
        "X.head()"
      ],
      "metadata": {
        "id": "p0JTpzH3-v2U",
        "colab": {
          "base_uri": "https://localhost:8080/",
          "height": 299
        },
        "outputId": "9e4cbe31-d289-419e-db49-a14f3a0a2735"
      },
      "execution_count": 29,
      "outputs": [
        {
          "output_type": "execute_result",
          "data": {
            "text/plain": [
              "         x1        x2   x3   x4   x5   x6        x7        x8        x9  \\\n",
              "0 -0.614282  1.464727  0.0  0.0  1.0  0.0  2.393250  2.746196 -0.653311   \n",
              "1 -0.802463  0.101835  0.0  0.0  1.0  0.0  0.109885  0.498271 -0.785284   \n",
              "2 -0.896553 -0.238888  1.0  0.0  1.0  1.0 -0.085212 -0.148097 -0.847312   \n",
              "3 -0.896553 -0.238888  0.0  0.0  0.0  1.0  0.405581  0.325594 -0.847312   \n",
              "4  0.138440 -1.601779  1.0  0.0  1.0  1.0 -0.722531 -0.212734 -0.019840   \n",
              "\n",
              "        x10  ...       x13  x14  x15       x16  x17    e  propensity_score  \\\n",
              "0 -0.656913  ...  2.937244  0.0  0.0  2.843909  0.0  0.0      2.427763e-13   \n",
              "1 -0.743407  ...  0.082537  0.0  0.0  0.038422  0.0  0.0      1.463606e-13   \n",
              "2 -0.781606  ... -0.303615  0.0  0.0 -0.191304  0.0  0.0      7.936031e-14   \n",
              "3 -0.781606  ... -0.039630  0.0  0.0  0.173108  0.0  1.0      3.812975e-01   \n",
              "4 -0.156019  ... -0.331552  0.0  0.0 -0.779227  0.0  0.0      8.919792e-14   \n",
              "\n",
              "   propensity_score_logit  outcome  treatment  \n",
              "0              -29.046636      1.0        0.0  \n",
              "1              -29.552703      1.0        0.0  \n",
              "2              -30.164778      1.0        0.0  \n",
              "3               -0.484045      1.0        0.0  \n",
              "4              -30.047919      1.0        0.0  \n",
              "\n",
              "[5 rows x 22 columns]"
            ],
            "text/html": [
              "\n",
              "  <div id=\"df-388e0583-9a5f-40b3-8eae-32810816ebaf\">\n",
              "    <div class=\"colab-df-container\">\n",
              "      <div>\n",
              "<style scoped>\n",
              "    .dataframe tbody tr th:only-of-type {\n",
              "        vertical-align: middle;\n",
              "    }\n",
              "\n",
              "    .dataframe tbody tr th {\n",
              "        vertical-align: top;\n",
              "    }\n",
              "\n",
              "    .dataframe thead th {\n",
              "        text-align: right;\n",
              "    }\n",
              "</style>\n",
              "<table border=\"1\" class=\"dataframe\">\n",
              "  <thead>\n",
              "    <tr style=\"text-align: right;\">\n",
              "      <th></th>\n",
              "      <th>x1</th>\n",
              "      <th>x2</th>\n",
              "      <th>x3</th>\n",
              "      <th>x4</th>\n",
              "      <th>x5</th>\n",
              "      <th>x6</th>\n",
              "      <th>x7</th>\n",
              "      <th>x8</th>\n",
              "      <th>x9</th>\n",
              "      <th>x10</th>\n",
              "      <th>...</th>\n",
              "      <th>x13</th>\n",
              "      <th>x14</th>\n",
              "      <th>x15</th>\n",
              "      <th>x16</th>\n",
              "      <th>x17</th>\n",
              "      <th>e</th>\n",
              "      <th>propensity_score</th>\n",
              "      <th>propensity_score_logit</th>\n",
              "      <th>outcome</th>\n",
              "      <th>treatment</th>\n",
              "    </tr>\n",
              "  </thead>\n",
              "  <tbody>\n",
              "    <tr>\n",
              "      <th>0</th>\n",
              "      <td>-0.614282</td>\n",
              "      <td>1.464727</td>\n",
              "      <td>0.0</td>\n",
              "      <td>0.0</td>\n",
              "      <td>1.0</td>\n",
              "      <td>0.0</td>\n",
              "      <td>2.393250</td>\n",
              "      <td>2.746196</td>\n",
              "      <td>-0.653311</td>\n",
              "      <td>-0.656913</td>\n",
              "      <td>...</td>\n",
              "      <td>2.937244</td>\n",
              "      <td>0.0</td>\n",
              "      <td>0.0</td>\n",
              "      <td>2.843909</td>\n",
              "      <td>0.0</td>\n",
              "      <td>0.0</td>\n",
              "      <td>2.427763e-13</td>\n",
              "      <td>-29.046636</td>\n",
              "      <td>1.0</td>\n",
              "      <td>0.0</td>\n",
              "    </tr>\n",
              "    <tr>\n",
              "      <th>1</th>\n",
              "      <td>-0.802463</td>\n",
              "      <td>0.101835</td>\n",
              "      <td>0.0</td>\n",
              "      <td>0.0</td>\n",
              "      <td>1.0</td>\n",
              "      <td>0.0</td>\n",
              "      <td>0.109885</td>\n",
              "      <td>0.498271</td>\n",
              "      <td>-0.785284</td>\n",
              "      <td>-0.743407</td>\n",
              "      <td>...</td>\n",
              "      <td>0.082537</td>\n",
              "      <td>0.0</td>\n",
              "      <td>0.0</td>\n",
              "      <td>0.038422</td>\n",
              "      <td>0.0</td>\n",
              "      <td>0.0</td>\n",
              "      <td>1.463606e-13</td>\n",
              "      <td>-29.552703</td>\n",
              "      <td>1.0</td>\n",
              "      <td>0.0</td>\n",
              "    </tr>\n",
              "    <tr>\n",
              "      <th>2</th>\n",
              "      <td>-0.896553</td>\n",
              "      <td>-0.238888</td>\n",
              "      <td>1.0</td>\n",
              "      <td>0.0</td>\n",
              "      <td>1.0</td>\n",
              "      <td>1.0</td>\n",
              "      <td>-0.085212</td>\n",
              "      <td>-0.148097</td>\n",
              "      <td>-0.847312</td>\n",
              "      <td>-0.781606</td>\n",
              "      <td>...</td>\n",
              "      <td>-0.303615</td>\n",
              "      <td>0.0</td>\n",
              "      <td>0.0</td>\n",
              "      <td>-0.191304</td>\n",
              "      <td>0.0</td>\n",
              "      <td>0.0</td>\n",
              "      <td>7.936031e-14</td>\n",
              "      <td>-30.164778</td>\n",
              "      <td>1.0</td>\n",
              "      <td>0.0</td>\n",
              "    </tr>\n",
              "    <tr>\n",
              "      <th>3</th>\n",
              "      <td>-0.896553</td>\n",
              "      <td>-0.238888</td>\n",
              "      <td>0.0</td>\n",
              "      <td>0.0</td>\n",
              "      <td>0.0</td>\n",
              "      <td>1.0</td>\n",
              "      <td>0.405581</td>\n",
              "      <td>0.325594</td>\n",
              "      <td>-0.847312</td>\n",
              "      <td>-0.781606</td>\n",
              "      <td>...</td>\n",
              "      <td>-0.039630</td>\n",
              "      <td>0.0</td>\n",
              "      <td>0.0</td>\n",
              "      <td>0.173108</td>\n",
              "      <td>0.0</td>\n",
              "      <td>1.0</td>\n",
              "      <td>3.812975e-01</td>\n",
              "      <td>-0.484045</td>\n",
              "      <td>1.0</td>\n",
              "      <td>0.0</td>\n",
              "    </tr>\n",
              "    <tr>\n",
              "      <th>4</th>\n",
              "      <td>0.138440</td>\n",
              "      <td>-1.601779</td>\n",
              "      <td>1.0</td>\n",
              "      <td>0.0</td>\n",
              "      <td>1.0</td>\n",
              "      <td>1.0</td>\n",
              "      <td>-0.722531</td>\n",
              "      <td>-0.212734</td>\n",
              "      <td>-0.019840</td>\n",
              "      <td>-0.156019</td>\n",
              "      <td>...</td>\n",
              "      <td>-0.331552</td>\n",
              "      <td>0.0</td>\n",
              "      <td>0.0</td>\n",
              "      <td>-0.779227</td>\n",
              "      <td>0.0</td>\n",
              "      <td>0.0</td>\n",
              "      <td>8.919792e-14</td>\n",
              "      <td>-30.047919</td>\n",
              "      <td>1.0</td>\n",
              "      <td>0.0</td>\n",
              "    </tr>\n",
              "  </tbody>\n",
              "</table>\n",
              "<p>5 rows × 22 columns</p>\n",
              "</div>\n",
              "      <button class=\"colab-df-convert\" onclick=\"convertToInteractive('df-388e0583-9a5f-40b3-8eae-32810816ebaf')\"\n",
              "              title=\"Convert this dataframe to an interactive table.\"\n",
              "              style=\"display:none;\">\n",
              "        \n",
              "  <svg xmlns=\"http://www.w3.org/2000/svg\" height=\"24px\"viewBox=\"0 0 24 24\"\n",
              "       width=\"24px\">\n",
              "    <path d=\"M0 0h24v24H0V0z\" fill=\"none\"/>\n",
              "    <path d=\"M18.56 5.44l.94 2.06.94-2.06 2.06-.94-2.06-.94-.94-2.06-.94 2.06-2.06.94zm-11 1L8.5 8.5l.94-2.06 2.06-.94-2.06-.94L8.5 2.5l-.94 2.06-2.06.94zm10 10l.94 2.06.94-2.06 2.06-.94-2.06-.94-.94-2.06-.94 2.06-2.06.94z\"/><path d=\"M17.41 7.96l-1.37-1.37c-.4-.4-.92-.59-1.43-.59-.52 0-1.04.2-1.43.59L10.3 9.45l-7.72 7.72c-.78.78-.78 2.05 0 2.83L4 21.41c.39.39.9.59 1.41.59.51 0 1.02-.2 1.41-.59l7.78-7.78 2.81-2.81c.8-.78.8-2.07 0-2.86zM5.41 20L4 18.59l7.72-7.72 1.47 1.35L5.41 20z\"/>\n",
              "  </svg>\n",
              "      </button>\n",
              "      \n",
              "  <style>\n",
              "    .colab-df-container {\n",
              "      display:flex;\n",
              "      flex-wrap:wrap;\n",
              "      gap: 12px;\n",
              "    }\n",
              "\n",
              "    .colab-df-convert {\n",
              "      background-color: #E8F0FE;\n",
              "      border: none;\n",
              "      border-radius: 50%;\n",
              "      cursor: pointer;\n",
              "      display: none;\n",
              "      fill: #1967D2;\n",
              "      height: 32px;\n",
              "      padding: 0 0 0 0;\n",
              "      width: 32px;\n",
              "    }\n",
              "\n",
              "    .colab-df-convert:hover {\n",
              "      background-color: #E2EBFA;\n",
              "      box-shadow: 0px 1px 2px rgba(60, 64, 67, 0.3), 0px 1px 3px 1px rgba(60, 64, 67, 0.15);\n",
              "      fill: #174EA6;\n",
              "    }\n",
              "\n",
              "    [theme=dark] .colab-df-convert {\n",
              "      background-color: #3B4455;\n",
              "      fill: #D2E3FC;\n",
              "    }\n",
              "\n",
              "    [theme=dark] .colab-df-convert:hover {\n",
              "      background-color: #434B5C;\n",
              "      box-shadow: 0px 1px 3px 1px rgba(0, 0, 0, 0.15);\n",
              "      filter: drop-shadow(0px 1px 2px rgba(0, 0, 0, 0.3));\n",
              "      fill: #FFFFFF;\n",
              "    }\n",
              "  </style>\n",
              "\n",
              "      <script>\n",
              "        const buttonEl =\n",
              "          document.querySelector('#df-388e0583-9a5f-40b3-8eae-32810816ebaf button.colab-df-convert');\n",
              "        buttonEl.style.display =\n",
              "          google.colab.kernel.accessAllowed ? 'block' : 'none';\n",
              "\n",
              "        async function convertToInteractive(key) {\n",
              "          const element = document.querySelector('#df-388e0583-9a5f-40b3-8eae-32810816ebaf');\n",
              "          const dataTable =\n",
              "            await google.colab.kernel.invokeFunction('convertToInteractive',\n",
              "                                                     [key], {});\n",
              "          if (!dataTable) return;\n",
              "\n",
              "          const docLinkHtml = 'Like what you see? Visit the ' +\n",
              "            '<a target=\"_blank\" href=https://colab.research.google.com/notebooks/data_table.ipynb>data table notebook</a>'\n",
              "            + ' to learn more about interactive tables.';\n",
              "          element.innerHTML = '';\n",
              "          dataTable['output_type'] = 'display_data';\n",
              "          await google.colab.output.renderOutput(dataTable, element);\n",
              "          const docLink = document.createElement('div');\n",
              "          docLink.innerHTML = docLinkHtml;\n",
              "          element.appendChild(docLink);\n",
              "        }\n",
              "      </script>\n",
              "    </div>\n",
              "  </div>\n",
              "  "
            ]
          },
          "metadata": {},
          "execution_count": 29
        }
      ]
    },
    {
      "cell_type": "code",
      "source": [
        "weight_t = 1/data.query(\"t==1\")[\"propensity_score\"]\n",
        "weight_nt = 1/(1-data.query(\"t==0\")[\"propensity_score\"])\n",
        "print(\"Original Sample Size\", data.shape[0])\n",
        "print(\"Treated Population Sample Size\", sum(weight_t))\n",
        "print(\"Untreated Population Sample Size\", sum(weight_nt))"
      ],
      "metadata": {
        "id": "mrYAhRD95tlV",
        "colab": {
          "base_uri": "https://localhost:8080/"
        },
        "outputId": "e709539a-b67c-4bfc-8227-41ac85e4d119"
      },
      "execution_count": 30,
      "outputs": [
        {
          "output_type": "stream",
          "name": "stdout",
          "text": [
            "Original Sample Size 3212\n",
            "Treated Population Sample Size 721.9759153940039\n",
            "Untreated Population Sample Size 3212.2006269892477\n"
          ]
        }
      ]
    },
    {
      "cell_type": "code",
      "source": [
        "weight = ((data[\"t\"]-data[\"propensity_score\"]) /\n",
        "          (data[\"propensity_score\"]*(1-data[\"propensity_score\"])))\n",
        "\n",
        "y1 = sum(data.query(\"t==1\")[\"y\"]*weight_t) / len(data)\n",
        "y0 = sum(data.query(\"t==0\")[\"y\"]*weight_nt) / len(data)\n",
        "\n",
        "ate = np.mean(weight * data[\"y\"])\n",
        "\n",
        "print(\"Y1:\", y1)\n",
        "print(\"Y0:\", y0)\n",
        "print(\"ATE\", np.mean(weight * data[\"y\"]))"
      ],
      "metadata": {
        "id": "5QYXPHPO9Hyi",
        "colab": {
          "base_uri": "https://localhost:8080/"
        },
        "outputId": "8fd4e87f-aa80-4931-f4f8-74e3aa387370"
      },
      "execution_count": 31,
      "outputs": [
        {
          "output_type": "stream",
          "name": "stdout",
          "text": [
            "Y1: 0.17335941588172932\n",
            "Y0: 0.8430071581705095\n",
            "ATE -0.6696477422887889\n"
          ]
        }
      ]
    },
    {
      "cell_type": "markdown",
      "source": [
        "# 4(c)"
      ],
      "metadata": {
        "id": "9Kgv2WPFDrjs"
      }
    },
    {
      "cell_type": "code",
      "source": [
        "from sklearn.linear_model import LogisticRegression\n",
        "from sklearn.model_selection import train_test_split, GridSearchCV, cross_val_score, RepeatedStratifiedKFold, StratifiedKFold\n",
        "from sklearn.metrics import accuracy_score, confusion_matrix,roc_curve, roc_auc_score, precision_score, recall_score, precision_recall_curve\n",
        "from sklearn.metrics import f1_score"
      ],
      "metadata": {
        "id": "h5-EuzvcIlzR"
      },
      "execution_count": 32,
      "outputs": []
    },
    {
      "cell_type": "code",
      "source": [
        "w = {0:1, 1:99}\n",
        "# define model\n",
        "lg2 = LogisticRegression(random_state=13, class_weight=w)\n",
        "# fit it\n",
        "lg2.fit(X_train,y_train)\n",
        "# test\n",
        "y_pred = lg2.predict(X_test)\n",
        "# performance\n",
        "print(f'Accuracy Score: {accuracy_score(y_test,y_pred)}')\n",
        "print(f'Confusion Matrix: \\n{confusion_matrix(y_test, y_pred)}')\n",
        "print(f'Area Under Curve: {roc_auc_score(y_test, y_pred)}')\n",
        "print('F1 score is: {:.4f}'.format(f1_score(y_test,y_pred)))\n",
        "\n",
        "print('precision score is: {:.4f}'.format(precision_score(y_test,y_pred)))\n",
        "print('recall score is: {:.4f}'.format(recall_score(y_test,y_pred)))"
      ],
      "metadata": {
        "id": "pmSUSUGuEINV",
        "colab": {
          "base_uri": "https://localhost:8080/"
        },
        "outputId": "2421bd7d-6677-407d-f564-da2c2c0a800d"
      },
      "execution_count": 33,
      "outputs": [
        {
          "output_type": "stream",
          "name": "stdout",
          "text": [
            "Accuracy Score: 0.8850931677018633\n",
            "Confusion Matrix: \n",
            "[[  0  37]\n",
            " [  0 285]]\n",
            "Area Under Curve: 0.5\n",
            "F1 score is: 0.9390\n",
            "precision score is: 0.8851\n",
            "recall score is: 1.0000\n"
          ]
        }
      ]
    },
    {
      "cell_type": "code",
      "source": [
        "# define weight hyperparameter\n",
        "w = [{0:1000,1:100},{0:1000,1:10}, {0:1000,1:1.0}, \n",
        "     {0:500,1:1.0}, {0:400,1:1.0}, {0:300,1:1.0}, {0:200,1:1.0}, \n",
        "     {0:150,1:1.0}, {0:100,1:1.0}, {0:99,1:1.0}, {0:10,1:1.0}, \n",
        "     {0:0.01,1:1.0}, {0:0.01,1:10}, {0:0.01,1:100}, \n",
        "     {0:0.001,1:1.0}, {0:0.005,1:1.0}, {0:1.0,1:1.0}, \n",
        "     {0:1.0,1:0.1}, {0:10,1:0.1}, {0:100,1:0.1}, \n",
        "     {0:10,1:0.01}, {0:1.0,1:0.01}, {0:1.0,1:0.001}, {0:1.0,1:0.005}, \n",
        "     {0:1.0,1:10}, {0:1.0,1:99}, {0:1.0,1:100}, {0:1.0,1:150}, \n",
        "     {0:1.0,1:200}, {0:1.0,1:300},{0:1.0,1:400},{0:1.0,1:500}, \n",
        "     {0:1.0,1:1000}, {0:10,1:1000},{0:100,1:1000} ]\n",
        "hyperparam_grid = {\"class_weight\": w }"
      ],
      "metadata": {
        "id": "qDewgTrRIMQm"
      },
      "execution_count": 34,
      "outputs": []
    },
    {
      "cell_type": "code",
      "source": [
        "# define model\n",
        "lg3 = LogisticRegression(random_state=13)\n",
        "# define evaluation procedure\n",
        "grid = GridSearchCV(lg3,hyperparam_grid,scoring=\"roc_auc\", cv=100, n_jobs=-1, refit=True)\n",
        "grid.fit(X_train,y_train)\n",
        "print(f'Best score: {grid.best_score_} with param: {grid.best_params_}')"
      ],
      "metadata": {
        "id": "C0G3OLDgIQ64",
        "colab": {
          "base_uri": "https://localhost:8080/"
        },
        "outputId": "bcc6b5fb-ff68-45ce-fa7b-f1fd5807dafa"
      },
      "execution_count": 35,
      "outputs": [
        {
          "output_type": "stream",
          "name": "stdout",
          "text": [
            "Best score: 0.825671052631579 with param: {'class_weight': {0: 1000, 1: 100}}\n"
          ]
        }
      ]
    },
    {
      "cell_type": "code",
      "source": [
        "# define model\n",
        "lg3 = LogisticRegression(random_state=42, class_weight={0: 1000, 1: 100})\n",
        "# fit it\n",
        "lg3.fit(X_train,y_train)\n",
        "# test\n",
        "y_pred = lg3.predict(X_test)\n",
        "# performance\n",
        "print(f'Accuracy Score: {accuracy_score(y_test,y_pred)}')\n",
        "print(f'Confusion Matrix: \\n{confusion_matrix(y_test, y_pred)}')\n",
        "print(f'Area Under Curve: {roc_auc_score(y_test, y_pred)}')\n",
        "print(f'Recall score: {recall_score(y_test,y_pred)}')\n",
        "print('precision score is: {:.4f}'.format(precision_score(y_test,y_pred)))\n",
        "print('f1 score is: {:.4f}'.format(f1_score(y_test,y_pred)))"
      ],
      "metadata": {
        "id": "fz6jZbuPIRjM",
        "colab": {
          "base_uri": "https://localhost:8080/"
        },
        "outputId": "34ac037a-9ec6-4b38-dcf7-ab6ce56fc5a1"
      },
      "execution_count": 36,
      "outputs": [
        {
          "output_type": "stream",
          "name": "stdout",
          "text": [
            "Accuracy Score: 0.6956521739130435\n",
            "Confusion Matrix: \n",
            "[[ 34   3]\n",
            " [ 95 190]]\n",
            "Area Under Curve: 0.7927927927927927\n",
            "Recall score: 0.6666666666666666\n",
            "precision score is: 0.9845\n",
            "f1 score is: 0.7950\n"
          ]
        }
      ]
    },
    {
      "cell_type": "markdown",
      "source": [
        "# 5(a,b,c)"
      ],
      "metadata": {
        "id": "Mvzzh0sXMa_d"
      }
    },
    {
      "cell_type": "code",
      "source": [
        "!pip install dowhy"
      ],
      "metadata": {
        "id": "Yt8EPWN-NTRq",
        "colab": {
          "base_uri": "https://localhost:8080/"
        },
        "outputId": "8cb93864-9673-4d01-a561-c152bbd5eab2"
      },
      "execution_count": 37,
      "outputs": [
        {
          "output_type": "stream",
          "name": "stdout",
          "text": [
            "Requirement already satisfied: dowhy in /usr/local/lib/python3.7/dist-packages (0.6)\n",
            "Requirement already satisfied: networkx>=2.0 in /usr/local/lib/python3.7/dist-packages (from dowhy) (2.6.3)\n",
            "Requirement already satisfied: scikit-learn in /usr/local/lib/python3.7/dist-packages (from dowhy) (1.0.2)\n",
            "Requirement already satisfied: numpy>=1.15 in /usr/local/lib/python3.7/dist-packages (from dowhy) (1.21.6)\n",
            "Requirement already satisfied: scipy in /usr/local/lib/python3.7/dist-packages (from dowhy) (1.4.1)\n",
            "Requirement already satisfied: pandas>=0.24 in /usr/local/lib/python3.7/dist-packages (from dowhy) (1.3.5)\n",
            "Requirement already satisfied: statsmodels in /usr/local/lib/python3.7/dist-packages (from dowhy) (0.10.2)\n",
            "Requirement already satisfied: sympy>=1.4 in /usr/local/lib/python3.7/dist-packages (from dowhy) (1.7.1)\n",
            "Requirement already satisfied: pydot>=1.4 in /usr/local/lib/python3.7/dist-packages (from dowhy) (1.4.2)\n",
            "Requirement already satisfied: python-dateutil>=2.7.3 in /usr/local/lib/python3.7/dist-packages (from pandas>=0.24->dowhy) (2.8.2)\n",
            "Requirement already satisfied: pytz>=2017.3 in /usr/local/lib/python3.7/dist-packages (from pandas>=0.24->dowhy) (2022.1)\n",
            "Requirement already satisfied: pyparsing>=2.1.4 in /usr/local/lib/python3.7/dist-packages (from pydot>=1.4->dowhy) (3.0.8)\n",
            "Requirement already satisfied: six>=1.5 in /usr/local/lib/python3.7/dist-packages (from python-dateutil>=2.7.3->pandas>=0.24->dowhy) (1.15.0)\n",
            "Requirement already satisfied: mpmath>=0.19 in /usr/local/lib/python3.7/dist-packages (from sympy>=1.4->dowhy) (1.2.1)\n",
            "Requirement already satisfied: joblib>=0.11 in /usr/local/lib/python3.7/dist-packages (from scikit-learn->dowhy) (1.1.0)\n",
            "Requirement already satisfied: threadpoolctl>=2.0.0 in /usr/local/lib/python3.7/dist-packages (from scikit-learn->dowhy) (3.1.0)\n",
            "Requirement already satisfied: patsy>=0.4.0 in /usr/local/lib/python3.7/dist-packages (from statsmodels->dowhy) (0.5.2)\n"
          ]
        }
      ]
    },
    {
      "cell_type": "code",
      "source": [
        "from dowhy import CausalModel\n",
        "from IPython.display import Image, display"
      ],
      "metadata": {
        "id": "mWL9s9UrMck0"
      },
      "execution_count": 38,
      "outputs": []
    },
    {
      "cell_type": "code",
      "source": [
        "df.columns"
      ],
      "metadata": {
        "id": "XD3f95s3SAec",
        "colab": {
          "base_uri": "https://localhost:8080/"
        },
        "outputId": "9bacc14b-b42d-45c2-e852-69723f1ac1e3"
      },
      "execution_count": 39,
      "outputs": [
        {
          "output_type": "execute_result",
          "data": {
            "text/plain": [
              "Index(['x1', 'x2', 'x3', 'x4', 'x5', 'x6', 'x7', 'x8', 'x9', 'x10', 'x11',\n",
              "       'x12', 'x13', 'x14', 'x15', 'x16', 'x17', 't', 'y', 'e'],\n",
              "      dtype='object')"
            ]
          },
          "metadata": {},
          "execution_count": 39
        }
      ]
    },
    {
      "cell_type": "code",
      "source": [
        "df.dtypes"
      ],
      "metadata": {
        "id": "b9g-cV60UAJF",
        "colab": {
          "base_uri": "https://localhost:8080/"
        },
        "outputId": "dfa4d475-a0fe-45f4-b79e-a5fa6c4fb80c"
      },
      "execution_count": 40,
      "outputs": [
        {
          "output_type": "execute_result",
          "data": {
            "text/plain": [
              "x1     float64\n",
              "x2     float64\n",
              "x3     float64\n",
              "x4     float64\n",
              "x5     float64\n",
              "x6     float64\n",
              "x7     float64\n",
              "x8     float64\n",
              "x9     float64\n",
              "x10    float64\n",
              "x11    float64\n",
              "x12    float64\n",
              "x13    float64\n",
              "x14    float64\n",
              "x15    float64\n",
              "x16    float64\n",
              "x17    float64\n",
              "t      float64\n",
              "y      float64\n",
              "e      float64\n",
              "dtype: object"
            ]
          },
          "metadata": {},
          "execution_count": 40
        }
      ]
    },
    {
      "cell_type": "code",
      "source": [
        "treatment = 't'\n",
        "outcome = 'y'\n",
        "\n",
        "features = [\"x1\", \"x2\", \"x3\", \"x4\", \"x5\", \"x6\", \"x7\", \"x8\", \"x9\", \"x10\", \"x11\",\n",
        "       \"x12\", \"x13\", \"x14\", \"x15\", \"x16\", \"x17\"]\n"
      ],
      "metadata": {
        "id": "Vw_Lh3zdNB0v"
      },
      "execution_count": 41,
      "outputs": []
    },
    {
      "cell_type": "code",
      "source": [
        "model = CausalModel(\n",
        "    data=df,\n",
        "    treatment=treatment, \n",
        "    outcome=outcome, \n",
        "    common_causes=features, \n",
        "    instruments=None, \n",
        "    effect_modifiers=None)\n",
        "\n",
        "model.view_model()\n",
        "display(Image(filename=\"causal_model.png\"))"
      ],
      "metadata": {
        "id": "Ut2Xs0DGNcyw",
        "colab": {
          "base_uri": "https://localhost:8080/",
          "height": 789
        },
        "outputId": "d9e88a59-84fc-49cd-90e0-b3fd91f22f82"
      },
      "execution_count": 42,
      "outputs": [
        {
          "output_type": "display_data",
          "data": {
            "text/plain": [
              "<IPython.core.display.Image object>"
            ],
            "image/png": "[encoded data removed]"
          },
          "metadata": {}
        },
        {
          "output_type": "display_data",
          "data": {
            "text/plain": [
              "<Figure size 1080x432 with 1 Axes>"
            ],
            "image/png": "[encoded data removed]"
          },
          "metadata": {}
        }
      ]
    },
    {
      "cell_type": "code",
      "source": [
        "\n",
        "# split data into train and test sets \n",
        "train, test = train_test_split(df, test_size=0.2)\n",
        "\n",
        "# set variables for causal forest Y=outcome, T=treatment, X=features, W=effect_modifiers \n",
        "Y = train[outcome]\n",
        "T = train[treatment]\n",
        "X = train[features]\n",
        "W = None\n",
        "X_test = test[features]"
      ],
      "metadata": {
        "id": "RYaU_HswNc1j"
      },
      "execution_count": 43,
      "outputs": []
    },
    {
      "cell_type": "code",
      "source": [
        "!pip install econml"
      ],
      "metadata": {
        "id": "vNZ6NLgfUjN4",
        "colab": {
          "base_uri": "https://localhost:8080/"
        },
        "outputId": "cbe1dde2-734b-4b2b-f6b6-2b2a89b64647"
      },
      "execution_count": 44,
      "outputs": [
        {
          "output_type": "stream",
          "name": "stdout",
          "text": [
            "Requirement already satisfied: econml in /usr/local/lib/python3.7/dist-packages (0.13.0)\n",
            "Requirement already satisfied: numpy in /usr/local/lib/python3.7/dist-packages (from econml) (1.21.6)\n",
            "Requirement already satisfied: sparse in /usr/local/lib/python3.7/dist-packages (from econml) (0.13.0)\n",
            "Requirement already satisfied: scipy>1.4.0 in /usr/local/lib/python3.7/dist-packages (from econml) (1.4.1)\n",
            "Requirement already satisfied: statsmodels>=0.10 in /usr/local/lib/python3.7/dist-packages (from econml) (0.10.2)\n",
            "Requirement already satisfied: joblib>=0.13.0 in /usr/local/lib/python3.7/dist-packages (from econml) (1.1.0)\n",
            "Requirement already satisfied: scikit-learn>0.22.0 in /usr/local/lib/python3.7/dist-packages (from econml) (1.0.2)\n",
            "Requirement already satisfied: pandas in /usr/local/lib/python3.7/dist-packages (from econml) (1.3.5)\n",
            "Requirement already satisfied: dowhy<0.7 in /usr/local/lib/python3.7/dist-packages (from econml) (0.6)\n",
            "Requirement already satisfied: shap<0.40.0,>=0.38.1 in /usr/local/lib/python3.7/dist-packages (from econml) (0.39.0)\n",
            "Requirement already satisfied: lightgbm in /usr/local/lib/python3.7/dist-packages (from econml) (2.2.3)\n",
            "Requirement already satisfied: networkx>=2.0 in /usr/local/lib/python3.7/dist-packages (from dowhy<0.7->econml) (2.6.3)\n",
            "Requirement already satisfied: sympy>=1.4 in /usr/local/lib/python3.7/dist-packages (from dowhy<0.7->econml) (1.7.1)\n",
            "Requirement already satisfied: pydot>=1.4 in /usr/local/lib/python3.7/dist-packages (from dowhy<0.7->econml) (1.4.2)\n",
            "Requirement already satisfied: pytz>=2017.3 in /usr/local/lib/python3.7/dist-packages (from pandas->econml) (2022.1)\n",
            "Requirement already satisfied: python-dateutil>=2.7.3 in /usr/local/lib/python3.7/dist-packages (from pandas->econml) (2.8.2)\n",
            "Requirement already satisfied: pyparsing>=2.1.4 in /usr/local/lib/python3.7/dist-packages (from pydot>=1.4->dowhy<0.7->econml) (3.0.8)\n",
            "Requirement already satisfied: six>=1.5 in /usr/local/lib/python3.7/dist-packages (from python-dateutil>=2.7.3->pandas->econml) (1.15.0)\n",
            "Requirement already satisfied: threadpoolctl>=2.0.0 in /usr/local/lib/python3.7/dist-packages (from scikit-learn>0.22.0->econml) (3.1.0)\n",
            "Requirement already satisfied: cloudpickle in /usr/local/lib/python3.7/dist-packages (from shap<0.40.0,>=0.38.1->econml) (1.3.0)\n",
            "Requirement already satisfied: slicer==0.0.7 in /usr/local/lib/python3.7/dist-packages (from shap<0.40.0,>=0.38.1->econml) (0.0.7)\n",
            "Requirement already satisfied: numba in /usr/local/lib/python3.7/dist-packages (from shap<0.40.0,>=0.38.1->econml) (0.51.2)\n",
            "Requirement already satisfied: tqdm>4.25.0 in /usr/local/lib/python3.7/dist-packages (from shap<0.40.0,>=0.38.1->econml) (4.64.0)\n",
            "Requirement already satisfied: patsy>=0.4.0 in /usr/local/lib/python3.7/dist-packages (from statsmodels>=0.10->econml) (0.5.2)\n",
            "Requirement already satisfied: mpmath>=0.19 in /usr/local/lib/python3.7/dist-packages (from sympy>=1.4->dowhy<0.7->econml) (1.2.1)\n",
            "Requirement already satisfied: llvmlite<0.35,>=0.34.0.dev0 in /usr/local/lib/python3.7/dist-packages (from numba->shap<0.40.0,>=0.38.1->econml) (0.34.0)\n",
            "Requirement already satisfied: setuptools in /usr/local/lib/python3.7/dist-packages (from numba->shap<0.40.0,>=0.38.1->econml) (57.4.0)\n"
          ]
        }
      ]
    },
    {
      "cell_type": "code",
      "source": [
        "from econml.dml import CausalForestDML\n",
        "from sklearn.linear_model import LassoCV\n",
        "\n",
        "# set parameters for causal forest \n",
        "causal_forest = CausalForestDML(criterion='het', \n",
        "                                n_estimators=10000,       \n",
        "                                min_samples_leaf=10, \n",
        "                                max_depth=None, \n",
        "                                max_samples=0.5,\n",
        "                                discrete_treatment=False,\n",
        "                                honest=True,\n",
        "                                inference=True,\n",
        "                                cv=10,\n",
        "                                model_t=LassoCV(), \n",
        "                                model_y=LassoCV(),\n",
        "                                )\n",
        "                      \n",
        "# fit train data to causal forest model \n",
        "causal_forest.fit(Y, T, X=X, W=W)\n",
        "\n",
        "\n",
        "# estimate the CATE with the test set \n",
        "causal_forest.const_marginal_ate(X_test)"
      ],
      "metadata": {
        "id": "yyZ2RbcqNc43",
        "colab": {
          "base_uri": "https://localhost:8080/",
          "height": 38
        },
        "outputId": "9dbee127-8ee6-4f9d-9915-c8959c0dc4ec"
      },
      "execution_count": 45,
      "outputs": [
        {
          "output_type": "execute_result",
          "data": {
            "text/plain": [
              "-0.06582991215749324"
            ],
            "image/png": "[encoded data removed]",
            "text/latex": "$\\displaystyle -0.0658299121574932$"
          },
          "metadata": {},
          "execution_count": 45
        }
      ]
    },
    {
      "cell_type": "code",
      "source": [
        "effects_train = causal_forest.effect(X)\n",
        "effects_test = causal_forest.effect(X_test)\n",
        "conf_intrvl = causal_forest.effect_interval(X_test)"
      ],
      "metadata": {
        "id": "4Y1MqPx7VQyk"
      },
      "execution_count": 46,
      "outputs": []
    },
    {
      "cell_type": "code",
      "source": [
        "effects_test"
      ],
      "metadata": {
        "id": "gZduv7NTWOwC",
        "colab": {
          "base_uri": "https://localhost:8080/"
        },
        "outputId": "531d9b36-ab92-44ef-822d-d3ed909375bf"
      },
      "execution_count": 47,
      "outputs": [
        {
          "output_type": "execute_result",
          "data": {
            "text/plain": [
              "array([-2.48724088e-02, -4.10752304e-02, -2.67336641e-02, -3.46144851e-03,\n",
              "        7.23603099e-02,  3.34997158e-01,  2.15333439e-02, -9.76797142e-02,\n",
              "       -1.86585992e-02,  2.72372469e-02, -1.84860501e-01, -1.75241923e-02,\n",
              "       -8.83748310e-01, -1.12298773e-01, -6.95781061e-02,  6.08064050e-02,\n",
              "        1.10218127e-01,  6.70108973e-02, -1.93037785e-02,  3.23882059e-01,\n",
              "        8.93690783e-03, -1.87656427e-01, -1.98168209e-01, -5.72936945e-02,\n",
              "       -7.85051511e-02, -1.62346177e-01, -3.89545198e-01, -3.51845932e-02,\n",
              "       -6.86137459e-03, -4.26778496e-01, -1.34562934e-01, -9.69608158e-02,\n",
              "       -3.62379724e-01,  6.51709102e-02,  6.49255819e-03, -1.36097467e-01,\n",
              "       -4.23382702e-02,  4.98929952e-02, -2.08714977e-02, -1.12387365e-01,\n",
              "       -7.13254702e-02,  2.59439806e-01,  5.57922774e-03, -3.74531924e-02,\n",
              "        4.07840400e-01,  1.42170981e-01, -1.55371436e-02,  3.95102718e-02,\n",
              "       -3.40306960e-02,  3.57066448e-02, -4.43344610e-02, -7.43009271e-02,\n",
              "       -2.08487834e-01, -5.50503784e-02, -4.98409484e-02, -4.57101317e-02,\n",
              "       -8.95178101e-03,  7.49340174e-02, -1.32476924e-02, -2.73298483e-01,\n",
              "        1.74504112e-02,  2.39333051e-02,  5.95058605e-02, -6.27611032e-02,\n",
              "        2.62746105e-03, -5.31722969e-01, -6.54179620e-02, -1.08787289e-01,\n",
              "       -6.84592923e-01, -5.92229031e-01, -3.70368002e-02,  4.12988930e-02,\n",
              "        2.53806759e-02, -1.07455769e-02, -7.41204188e-02, -2.19968623e-02,\n",
              "       -4.54188117e-02,  1.92031721e-01,  2.69572726e-01, -1.73381445e-02,\n",
              "       -4.58552657e-01, -1.32439282e+00, -5.57206239e-02, -7.58176868e-03,\n",
              "       -7.35052613e-02, -7.99279169e-02, -5.43078227e-02, -3.92063350e-02,\n",
              "       -5.30667170e-02, -9.37584761e-02, -7.23286564e-02, -9.32901084e-02,\n",
              "       -7.06601269e-01,  1.91143800e-03, -1.98239153e-01,  3.28997931e-01,\n",
              "        9.38846832e-03,  3.49108135e-02, -5.41896334e-02,  3.31180320e-02,\n",
              "       -4.44735790e-02, -5.92905735e-02, -5.23523601e-02, -6.17967316e-02,\n",
              "       -4.69411027e-01,  4.22634729e-01,  3.84559145e-03, -9.13987444e-01,\n",
              "       -1.27885940e-01, -4.09268316e-01,  2.03691621e-02,  1.63665332e-02,\n",
              "       -1.25871996e-02, -3.38651701e-02, -1.28103044e-01, -3.81513794e-02,\n",
              "        3.34881076e-02,  3.53006837e-01,  3.45692713e-01,  7.71128929e-02,\n",
              "       -6.77522808e-02,  4.48775660e-02, -5.37655000e-02,  2.45298726e-02,\n",
              "        5.11257383e-01,  2.82312176e-02, -6.92947373e-02,  7.45591564e-02,\n",
              "        4.37173055e-02, -3.26677746e-02,  2.24609848e-01, -2.79340019e-01,\n",
              "        3.72634076e-02, -1.05196875e-01, -1.09563430e-01, -7.73910995e-02,\n",
              "        8.37469840e-02, -9.00566989e-02,  6.47779074e-01, -7.70239910e-01,\n",
              "       -3.76539929e-02,  1.63136428e-01, -1.01949471e-01, -2.31166454e-01,\n",
              "        3.92769975e-02, -9.33784150e-02,  2.54109002e-02, -1.01500056e-02,\n",
              "       -5.90098196e-02, -3.06245351e-03, -1.21992489e-01, -5.71717271e-02,\n",
              "        9.33034807e-02, -1.19433162e-02, -3.40004070e-02, -1.45183707e-01,\n",
              "        3.37969328e-01, -2.03553452e-02,  9.13988436e-02, -4.96256419e-02,\n",
              "        1.91753848e-02, -6.62617204e-02, -2.79335437e-02,  5.18537123e-02,\n",
              "       -1.27711083e+00, -9.51934613e-02,  3.34259347e-02, -1.83051212e-02,\n",
              "       -3.47512920e-01,  3.48079271e-02, -5.58251852e-02, -3.90648359e-03,\n",
              "        6.93731164e-02,  6.24372509e-03,  6.18640358e-01, -4.16216041e-02,\n",
              "       -3.37267513e-02, -5.74970419e-02,  1.52558625e-01, -1.09894346e-01,\n",
              "        1.08004742e-01,  1.69341823e-02, -1.32503097e+00, -1.88767106e-01,\n",
              "       -9.55197449e-03, -7.49574602e-02, -1.23665866e-01, -2.23767123e-02,\n",
              "        1.27277921e-02, -2.22637348e-02, -1.39222487e-02, -8.58271244e-02,\n",
              "        4.31362689e-03, -6.65723374e-02,  2.36293290e-02, -1.64127053e-01,\n",
              "        7.31977209e-02, -4.78206926e-02,  5.24888148e-02,  1.15539418e-01,\n",
              "       -7.51235658e-02,  7.12266311e-02, -2.07074611e-01,  5.94149798e-02,\n",
              "        1.77177788e-01,  4.08863051e-01, -8.99645761e-01,  5.07742478e-02,\n",
              "       -1.56483427e-01, -5.58659660e-02, -1.00684934e-01, -2.67761370e-01,\n",
              "       -4.66924994e-04,  2.61129858e-01,  1.87477771e-02, -3.61382744e-03,\n",
              "       -1.27248913e+00,  3.28196888e-02, -4.86348587e-02, -8.90841889e-02,\n",
              "        5.17794926e-01,  4.53203200e-02,  2.91662642e-02,  2.10166839e-01,\n",
              "       -1.83051212e-02, -8.11592739e-02, -4.63447492e-02, -1.36150401e-02,\n",
              "       -1.68263340e-01, -4.88023775e-02,  1.06841170e-03,  2.03819781e-02,\n",
              "       -1.97120146e-02,  1.92031721e-01, -1.07595476e-01,  6.43978691e-03,\n",
              "       -3.51783976e-01, -1.84764390e-01, -1.80338167e-02, -2.03155922e-01,\n",
              "        3.35870379e-01, -7.00036916e-03,  3.59580603e-02,  3.45026745e-01,\n",
              "       -6.34338512e-03, -4.78781211e-02, -1.44742220e-01,  2.99993604e-01,\n",
              "       -7.58184833e-02, -9.49906057e-02,  7.69713255e-02, -1.09149721e-01,\n",
              "       -9.30700576e-03,  3.48663482e-03, -1.29896435e-01, -1.32503097e+00,\n",
              "       -5.05644181e-02, -2.34409588e-01, -3.07422422e-02, -6.84621946e-02,\n",
              "        2.59439806e-01, -1.08466677e-01, -1.06012879e+00, -9.35809949e-02,\n",
              "        1.19123240e-01,  6.57189821e-03, -4.23013645e-03, -7.10088141e-02,\n",
              "       -3.75017125e-01, -3.67612826e-02, -4.09231558e-02,  5.96877195e-01,\n",
              "        9.24202536e-02, -2.98023423e-02, -7.50307784e-01,  6.47357507e-02,\n",
              "       -2.64891236e-02,  3.55613923e-01, -4.12140103e-01, -2.80034326e-01,\n",
              "        2.25634268e-01, -2.27282718e-01, -6.78691624e-02, -1.11971105e-01,\n",
              "        3.06620030e-01, -4.07701192e-02, -5.49328640e-02,  2.04138276e-01,\n",
              "        4.61543777e-02, -1.26732186e-02, -4.14500008e-03, -1.50042973e-02,\n",
              "        2.12893502e-02, -1.02965207e-01, -9.14295738e-02,  3.35834335e-01,\n",
              "        4.47154728e-01, -1.19685716e-01,  1.42245036e-02, -9.48997639e-02,\n",
              "       -2.36937296e-02, -4.02138747e-03,  6.34071868e-04, -2.31573128e-01,\n",
              "       -1.18286353e-01, -9.35071424e-02, -1.08469298e-01, -1.21483847e+00,\n",
              "        4.86793578e-01,  3.84282605e-02, -2.61874702e-02,  2.95582451e-02,\n",
              "        1.05575430e-02, -6.70506341e-02, -6.02830919e-01, -1.47302830e-02,\n",
              "        3.06620030e-01,  4.12443626e-02, -1.27005422e+00,  1.90092417e-02,\n",
              "       -8.74593559e-02,  2.34928307e-02, -7.07452126e-02, -8.13529687e-01,\n",
              "       -4.89414282e-02, -7.80011570e-02, -1.73502036e-01, -5.10551357e-02,\n",
              "        2.46111875e-02, -6.37915103e-02, -1.07214628e-01, -1.19780209e-01,\n",
              "       -3.72593653e-03,  6.65840307e-02, -1.72842194e-02,  5.06711783e-02,\n",
              "       -6.87485220e-02, -1.11317157e-01,  3.20590372e-01, -8.13250380e-01,\n",
              "       -1.13254211e-01,  1.08004742e-01, -1.20010134e+00,  9.72446788e-02,\n",
              "       -5.85948198e-02, -2.97170271e-02, -7.88821328e-02, -4.18667884e-02,\n",
              "       -5.14497757e-02, -8.95317370e-03,  5.97439731e-03, -5.50084247e-02,\n",
              "        1.37265571e-02, -2.29231685e-02, -4.05957809e-01,  6.54496334e-02,\n",
              "       -1.32762648e-01,  8.98675574e-02, -2.01580239e-02,  1.24557167e-02,\n",
              "       -5.24992791e-02, -1.19462108e+00, -4.47711343e-02, -8.27729236e-02,\n",
              "       -3.89271580e-02, -5.89295380e-02,  1.59100162e-02,  4.69497291e-02,\n",
              "       -6.81606023e-02,  7.93115164e-03,  4.51298471e-01, -1.94122837e-01,\n",
              "        7.40008599e-02,  1.23583624e-01, -8.65573675e-02,  3.07804083e-01,\n",
              "       -2.33261004e-01,  1.75634999e-01, -1.36573631e-01, -1.20131655e-01,\n",
              "        2.07782632e-01, -1.11472207e-01,  6.53076949e-02, -3.78123359e-02,\n",
              "       -1.27439113e-02, -1.65531260e-01,  3.88741322e-01,  4.52427022e-02,\n",
              "       -4.62517237e-01,  2.07404306e-02, -3.56379687e-02,  1.28903960e-02,\n",
              "       -1.12104584e-01, -6.21259832e-01, -9.71890771e-01,  1.98034512e-02,\n",
              "        3.50192599e-01, -6.93364986e-02,  3.60968873e-01, -5.18271998e-02,\n",
              "       -8.54253473e-02, -7.34050432e-01, -3.29274529e-03,  1.59700729e-02,\n",
              "        6.97585800e-01, -5.66501402e-02, -1.13994956e-01,  2.22602419e-03,\n",
              "       -2.26526784e-01, -3.40705268e-02, -7.57926817e-01, -1.25362993e-01,\n",
              "       -6.18079817e-02, -8.19440879e-02,  3.65756438e-02, -1.24176574e-01,\n",
              "        4.21994679e-02, -6.97182234e-02, -2.32542368e-02, -1.01379395e-01,\n",
              "       -5.52809378e-02, -1.99050230e-02, -3.13236707e-01, -1.81318109e-02,\n",
              "       -6.13901309e-02,  2.33273820e-02, -9.84569630e-02, -6.56932039e-01,\n",
              "       -1.44399802e-01, -1.85101300e-01,  4.51298471e-01, -1.47192395e-01,\n",
              "       -1.90069838e-01,  3.48029345e-02, -2.12602353e-01, -4.57879085e-02,\n",
              "       -2.05475196e-02,  4.48526381e-01,  2.71414614e-02, -4.95122134e-03,\n",
              "       -1.31889589e+00, -1.76533117e-02, -5.95561965e-01,  9.74866999e-02,\n",
              "       -8.96072936e-02, -1.55789653e-01,  4.63288926e-02, -9.25008784e-01,\n",
              "       -2.44606259e-01,  7.12497988e-02, -1.99878394e-02, -4.17869467e-03,\n",
              "       -6.64473571e-02, -3.98362249e-02, -2.83323149e-01,  3.02382454e-02,\n",
              "       -6.90497250e-02, -6.85899973e-02, -4.73132323e-02, -1.05688897e-01,\n",
              "       -1.38839821e-01, -5.46995963e-02, -1.19242778e-01, -2.74768436e-01,\n",
              "        5.92216024e-02,  5.96877195e-01,  1.92031721e-01, -3.31144395e-01,\n",
              "       -1.96258944e-01, -6.19562437e-02, -6.40962432e-01,  2.59564476e-02,\n",
              "       -2.58885116e-02, -4.73423603e-01, -1.86340683e-01, -8.23752186e-01,\n",
              "        1.42223549e-01, -4.42656089e-03, -1.03254891e-02, -3.14132174e-01,\n",
              "       -2.99984415e-02,  2.87630235e-02, -5.64267427e-02,  2.87664442e-01,\n",
              "        5.40888186e-01, -3.71976957e-02, -2.97487543e-01, -2.10792196e-01,\n",
              "        8.16334884e-02,  3.58715230e-01, -1.50798696e-02, -2.07421287e-01,\n",
              "       -8.57996876e-02,  9.87390429e-02,  5.08919966e-03,  6.76840882e-03,\n",
              "       -3.37877504e-02, -1.26215220e+00,  6.86837127e-01, -1.04670970e-01,\n",
              "        2.68460006e-01,  3.96334188e-01,  4.35881168e-01, -1.48457332e-01,\n",
              "       -1.83051212e-02, -8.27317717e-02, -6.07921740e-02, -3.65269468e-02,\n",
              "       -3.16764817e-01,  1.80082419e-01,  2.87148753e-02, -1.89243050e-01,\n",
              "       -5.37495293e-02, -8.40585418e-02, -3.35486737e-02,  7.04653907e-02,\n",
              "       -2.14818093e-02, -4.19308356e-02, -5.25830033e-02,  6.62896934e-01,\n",
              "       -8.97063075e-01, -1.15896608e-01,  3.66855788e-01, -1.18075285e-02,\n",
              "       -4.55247583e-02, -7.68047566e-01, -8.83577803e-02, -1.19024268e-01,\n",
              "       -7.47149827e-02, -4.55188779e-02, -5.62488237e-02, -5.46389475e-02,\n",
              "       -7.77171043e-01, -7.91821015e-02, -9.39753331e-02,  2.45591788e-03,\n",
              "       -6.89144577e-02, -3.62088861e-02, -1.28298421e-01, -7.21032989e-02,\n",
              "        2.71433070e-02, -7.52428206e-03, -3.27494203e-02, -9.34592097e-02,\n",
              "       -3.13169921e-02, -5.04441519e-03, -1.33534806e-02,  3.29301423e-02,\n",
              "       -6.95675614e-02, -3.46144851e-03, -1.31287527e+00, -7.01613348e-02,\n",
              "        2.62464125e-02,  8.98938978e-03,  6.86837127e-01, -4.78235599e-02,\n",
              "        2.40161007e-01,  6.33665627e-03, -6.80754776e-02, -8.80510163e-02,\n",
              "       -5.62464771e-04, -1.30035706e-01,  2.23806702e-02,  1.93046474e-02,\n",
              "        1.46135482e-02, -1.01775625e-01, -5.09534754e-02,  4.15238934e-01,\n",
              "       -5.25830033e-02,  2.88472851e-01, -1.24612265e+00, -5.02318814e-03,\n",
              "       -2.03693539e-01, -7.90133954e-02,  2.03986375e-02, -1.26853686e+00,\n",
              "        1.04050103e-01, -7.54043237e-02, -8.67742544e-02, -1.11164295e-02,\n",
              "       -7.79448675e-02, -2.55081788e-01, -1.09023439e-01,  2.07782632e-01,\n",
              "       -2.33560694e-02, -9.92625701e-01, -1.24054595e-01, -7.90815988e-02,\n",
              "       -4.31846655e-02, -1.24732132e+00, -6.52448472e-02,  8.16897685e-02,\n",
              "        1.04398936e-01, -6.71623898e-02, -8.86826424e-02,  3.25947968e-02,\n",
              "        3.71287708e-01, -6.70776982e-02, -5.85465258e-02, -8.36087578e-02,\n",
              "       -7.76004954e-01, -1.36700353e-01,  1.58740124e-02,  3.97031553e-01,\n",
              "       -6.24914534e-02, -5.33813858e-01,  2.20626016e-02, -1.49222505e-01,\n",
              "        8.08683618e-02,  6.96391278e-01,  6.18951112e-01,  1.38302970e-03,\n",
              "       -5.22849509e-02, -5.06690109e-03,  5.03910174e-02,  5.23023141e-01,\n",
              "        3.60543590e-02,  1.01456684e-02, -2.68764801e-02,  2.58405573e-03,\n",
              "       -1.84530071e-01,  5.72040280e-03, -2.29113669e-01, -5.11679898e-03,\n",
              "        8.00979531e-03,  6.09822385e-02,  3.93759667e-01,  6.40393756e-02,\n",
              "       -1.53830756e-01, -4.91850791e-02,  4.73241709e-01, -3.65377736e-02,\n",
              "       -4.25715222e-02,  2.99993604e-01, -6.21259832e-01, -1.21993088e-02,\n",
              "       -7.04096354e-01,  6.11202964e-01, -2.32005189e-03, -6.45339181e-02,\n",
              "        3.75039994e-01, -8.30265974e-02, -9.33786108e-02])"
            ]
          },
          "metadata": {},
          "execution_count": 47
        }
      ]
    },
    {
      "cell_type": "code",
      "source": [
        ""
      ],
      "metadata": {
        "id": "l03U2JrMlMR-"
      },
      "execution_count": null,
      "outputs": []
    }
  ],
  "metadata": {
    "colab": {
      "collapsed_sections": [],
      "name": "Part_2_jobs.ipynb",
      "provenance": []
    },
    "kernelspec": {
      "display_name": "Python 3",
      "name": "python3"
    },
    "language_info": {
      "name": "python"
    }
  },
  "nbformat": 4,
  "nbformat_minor": 0
}